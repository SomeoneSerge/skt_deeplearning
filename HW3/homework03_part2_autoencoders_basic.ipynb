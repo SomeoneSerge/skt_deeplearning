{
 "cells": [
  {
   "cell_type": "markdown",
   "metadata": {
    "colab_type": "text",
    "id": "VBNHzOrf_eWj"
   },
   "source": [
    "### Denoising Autoencoders And Where To Find Them\n",
    "\n",
    "Today we're going to train deep autoencoders and deploy them to faces and search for similar images.\n",
    "\n",
    "Our new test subjects are human faces from the [lfw dataset](http://vis-www.cs.umass.edu/lfw/)."
   ]
  },
  {
   "cell_type": "markdown",
   "metadata": {
    "colab_type": "text",
    "id": "H4hWkdhe_eWl"
   },
   "source": [
    "**Collab setting**"
   ]
  },
  {
   "cell_type": "code",
   "execution_count": 1,
   "metadata": {
    "colab": {
     "base_uri": "https://localhost:8080/",
     "height": 223
    },
    "colab_type": "code",
    "id": "C9GUvLcu_eWm",
    "outputId": "7a28b6ca-e747-4c02-f9f4-319d73ac65af"
   },
   "outputs": [
    {
     "name": "stdout",
     "output_type": "stream",
     "text": [
      "--2019-05-15 13:08:23--  https://raw.githubusercontent.com/yandexdataschool/Practical_DL/hw3_19/homework03/lfw_dataset.py\n",
      "Resolving raw.githubusercontent.com (raw.githubusercontent.com)... 151.101.0.133, 151.101.64.133, 151.101.128.133, ...\n",
      "Connecting to raw.githubusercontent.com (raw.githubusercontent.com)|151.101.0.133|:443... connected.\n",
      "HTTP request sent, awaiting response... 200 OK\n",
      "Length: 2734 (2.7K) [text/plain]\n",
      "Saving to: ‘lfw_dataset.py’\n",
      "\n",
      "lfw_dataset.py      100%[===================>]   2.67K  --.-KB/s    in 0s      \n",
      "\n",
      "2019-05-15 13:08:23 (31.6 MB/s) - ‘lfw_dataset.py’ saved [2734/2734]\n",
      "\n"
     ]
    }
   ],
   "source": [
    "# if you're running in colab,\n",
    "# 1. go to Runtime -> Change Runtimy Type -> GPU\n",
    "# 2. uncomment this:\n",
    "!wget https://raw.githubusercontent.com/yandexdataschool/Practical_DL/hw3_19/homework03/lfw_dataset.py -O lfw_dataset.py"
   ]
  },
  {
   "cell_type": "code",
   "execution_count": 2,
   "metadata": {
    "colab": {},
    "colab_type": "code",
    "id": "o7jFIMZd_eWp"
   },
   "outputs": [],
   "source": [
    "import torch\n",
    "import numpy as np\n",
    "\n",
    "from torch.utils.data import Dataset, DataLoader\n",
    "import torch.nn as nn\n",
    "import torch.nn.functional as F\n",
    "import torch.optim as optim\n",
    "\n",
    "\n",
    "EPOCHS = 100\n",
    "BATCH_SIZE = 32\n",
    "LEARNING_RATE = 1e-3\n",
    "\n",
    "LATENT_DIMENSION = 4\n",
    "BATCH_SIZE = 32\n",
    "\n",
    "device = torch.device(\"cuda\" if torch.cuda.is_available() else \"cpu\")"
   ]
  },
  {
   "cell_type": "code",
   "execution_count": 6,
   "metadata": {},
   "outputs": [
    {
     "name": "stdout",
     "output_type": "stream",
     "text": [
      "Requirement already satisfied: pandas in /opt/conda/lib/python3.7/site-packages (0.24.2)\n",
      "Collecting sklearn\n",
      "  Downloading https://files.pythonhosted.org/packages/1e/7a/dbb3be0ce9bd5c8b7e3d87328e79063f8b263b2b1bfa4774cb1147bfcd3f/sklearn-0.0.tar.gz\n",
      "Requirement already satisfied: numpy>=1.12.0 in /opt/conda/lib/python3.7/site-packages (from pandas) (1.16.3)\n",
      "Requirement already satisfied: python-dateutil>=2.5.0 in /opt/conda/lib/python3.7/site-packages (from pandas) (2.8.0)\n",
      "Requirement already satisfied: pytz>=2011k in /opt/conda/lib/python3.7/site-packages (from pandas) (2019.1)\n",
      "Collecting scikit-learn (from sklearn)\n",
      "\u001b[?25l  Downloading https://files.pythonhosted.org/packages/ef/52/3254e511ef1fc88d31edf457d90ecfd531931d4202f1b8ee0c949e9478f6/scikit_learn-0.21.1-cp37-cp37m-manylinux1_x86_64.whl (6.7MB)\n",
      "\u001b[K    100% |████████████████████████████████| 6.7MB 6.1MB/s eta 0:00:01\n",
      "\u001b[?25hRequirement already satisfied: six>=1.5 in /opt/conda/lib/python3.7/site-packages (from python-dateutil>=2.5.0->pandas) (1.11.0)\n",
      "Collecting joblib>=0.11 (from scikit-learn->sklearn)\n",
      "\u001b[?25l  Downloading https://files.pythonhosted.org/packages/cd/c1/50a758e8247561e58cb87305b1e90b171b8c767b15b12a1734001f41d356/joblib-0.13.2-py2.py3-none-any.whl (278kB)\n",
      "\u001b[K    100% |████████████████████████████████| 286kB 44.4MB/s ta 0:00:01\n",
      "\u001b[?25hRequirement already satisfied: scipy>=0.17.0 in /opt/conda/lib/python3.7/site-packages (from scikit-learn->sklearn) (1.1.0)\n",
      "Building wheels for collected packages: sklearn\n",
      "  Running setup.py bdist_wheel for sklearn ... \u001b[?25ldone\n",
      "\u001b[?25h  Stored in directory: /root/.cache/pip/wheels/76/03/bb/589d421d27431bcd2c6da284d5f2286c8e3b2ea3cf1594c074\n",
      "Successfully built sklearn\n",
      "Installing collected packages: joblib, scikit-learn, sklearn\n",
      "Successfully installed joblib-0.13.2 scikit-learn-0.21.1 sklearn-0.0\n",
      "\u001b[33mYou are using pip version 10.0.1, however version 19.1.1 is available.\n",
      "You should consider upgrading via the 'pip install --upgrade pip' command.\u001b[0m\n"
     ]
    }
   ],
   "source": [
    "! pip install pandas sklearn"
   ]
  },
  {
   "cell_type": "code",
   "execution_count": 7,
   "metadata": {
    "colab": {
     "base_uri": "https://localhost:8080/",
     "height": 111
    },
    "colab_type": "code",
    "id": "CRWV1ryH_eWv",
    "outputId": "52177b84-c0e6-43ba-8e07-41aa1cbaeccb"
   },
   "outputs": [
    {
     "name": "stdout",
     "output_type": "stream",
     "text": [
      "images not found, donwloading...\n",
      "extracting...\n",
      "done\n",
      "attributes not found, downloading...\n",
      "done\n"
     ]
    }
   ],
   "source": [
    "import numpy as np\n",
    "from lfw_dataset import fetch_lfw_dataset\n",
    "from sklearn.model_selection import train_test_split\n",
    "X, attr = fetch_lfw_dataset(use_raw=True,dimx=38,dimy=38)\n",
    "X = X.transpose([0,3,1,2]).astype('float32') / 256.0\n",
    "\n",
    "img_shape = X.shape[1:]\n",
    "\n",
    "X_train, X_test = train_test_split(X, test_size=0.1,random_state=42)"
   ]
  },
  {
   "cell_type": "code",
   "execution_count": 8,
   "metadata": {
    "colab": {},
    "colab_type": "code",
    "id": "3fAdhPn2_eWy"
   },
   "outputs": [],
   "source": [
    "X_train_tensor = torch.from_numpy(X_train).type(torch.DoubleTensor)\n",
    "X_test_tensor = torch.Tensor(X_test).type(torch.DoubleTensor)"
   ]
  },
  {
   "cell_type": "code",
   "execution_count": 9,
   "metadata": {
    "colab": {
     "base_uri": "https://localhost:8080/",
     "height": 36
    },
    "colab_type": "code",
    "id": "FV1efJSM_eW0",
    "outputId": "6e8f7545-3de5-469f-ef22-a6854251bd73"
   },
   "outputs": [
    {
     "data": {
      "text/plain": [
       "(3, 38, 38)"
      ]
     },
     "execution_count": 9,
     "metadata": {},
     "output_type": "execute_result"
    }
   ],
   "source": [
    "img_shape"
   ]
  },
  {
   "cell_type": "code",
   "execution_count": 10,
   "metadata": {
    "colab": {
     "base_uri": "https://localhost:8080/",
     "height": 306
    },
    "colab_type": "code",
    "id": "MSVm1sIK_eW4",
    "outputId": "0226164c-2911-498f-8615-30205766a006"
   },
   "outputs": [
    {
     "name": "stdout",
     "output_type": "stream",
     "text": [
      "X shape: (13143, 3, 38, 38)\n",
      "attr shape: (13143, 73)\n"
     ]
    },
    {
     "data": {
      "image/png": "[encoded data removed]",
      "text/plain": [
       "<Figure size 432x288 with 6 Axes>"
      ]
     },
     "metadata": {
      "needs_background": "light"
     },
     "output_type": "display_data"
    }
   ],
   "source": [
    "%matplotlib inline\n",
    "import matplotlib.pyplot as plt\n",
    "plt.title('sample image')\n",
    "for i in range(6):\n",
    "    plt.subplot(2,3,i+1)\n",
    "    plt.imshow(X[i].transpose([1,2,0]))\n",
    "\n",
    "print(\"X shape:\",X.shape)\n",
    "print(\"attr shape:\",attr.shape)"
   ]
  },
  {
   "cell_type": "markdown",
   "metadata": {
    "colab_type": "text",
    "id": "csBv6bf1_eW7"
   },
   "source": [
    "### Autoencoder architecture\n",
    "\n",
    "Let's design autoencoder as a single lasagne network, going from input image through bottleneck into the reconstructed image.\n",
    "\n",
    "<img src=\"http://nghiaho.com/wp-content/uploads/2012/12/autoencoder_network1.png\" width=640px>\n",
    "\n"
   ]
  },
  {
   "cell_type": "markdown",
   "metadata": {
    "colab_type": "text",
    "id": "O6fFezL-_eW8"
   },
   "source": [
    "## First step: PCA\n",
    "\n",
    "Principial Component Analysis is a popular dimensionality reduction method. \n",
    "\n",
    "Under the hood, PCA attempts to decompose object-feature matrix $X$ into two smaller matrices: $W$ and $\\hat W$ minimizing _mean squared error_:\n",
    "\n",
    "$$\\|(X W) \\hat{W} - X\\|^2_2 \\to_{W, \\hat{W}} \\min$$\n",
    "- $X \\in \\mathbb{R}^{n \\times m}$ - object matrix (**centered**);\n",
    "- $W \\in \\mathbb{R}^{m \\times d}$ - matrix of direct transformation;\n",
    "- $\\hat{W} \\in \\mathbb{R}^{d \\times m}$ - matrix of reverse transformation;\n",
    "- $n$ samples, $m$ original dimensions and $d$ target dimensions;\n",
    "\n",
    "In geometric terms, we want to find d axes along which most of variance occurs. The \"natural\" axes, if you wish.\n",
    "\n",
    "![](https://upload.wikimedia.org/wikipedia/commons/thumb/9/90/PCA_fish.png/256px-PCA_fish.png)\n",
    "\n",
    "\n",
    "PCA can also be seen as a special case of an autoencoder.\n",
    "\n",
    "* __Encoder__: X -> Dense(d units) -> code\n",
    "* __Decoder__: code -> Dense(m units) -> X\n",
    "\n",
    "Where Dense is a fully-connected layer with linear activaton:   $f(X) = W \\cdot X + \\vec b $\n",
    "\n",
    "\n",
    "Note: the bias term in those layers is responsible for \"centering\" the matrix i.e. substracting mean."
   ]
  },
  {
   "cell_type": "code",
   "execution_count": 11,
   "metadata": {
    "colab": {},
    "colab_type": "code",
    "id": "2JTeWcCc_eW9"
   },
   "outputs": [],
   "source": [
    "# this class corresponds to view-function and may be used as a reshape layer \n",
    "\n",
    "class View(nn.Module):\n",
    "    def __init__(self, *shape):\n",
    "        super(View, self).__init__()\n",
    "        self.shape = shape\n",
    "    def forward(self, input):\n",
    "        return input.view(*self.shape)"
   ]
  },
  {
   "cell_type": "code",
   "execution_count": 12,
   "metadata": {
    "colab": {},
    "colab_type": "code",
    "id": "gB5hwVLe_eW_"
   },
   "outputs": [],
   "source": [
    "class pca_autoencoder(nn.Module):\n",
    "    \"\"\"\n",
    "    Here we define a simple linear autoencoder as described above.\n",
    "    We also flatten and un-flatten data to be compatible with image shapes\n",
    "    \"\"\"\n",
    "    \n",
    "    def __init__(self, code_size=32, n=38):\n",
    "        super(pca_autoencoder, self).__init__()\n",
    "        self.enc = nn.Linear(n, code_size)\n",
    "        self.dec = nn.Linear(code_size , n)\n",
    "    \n",
    "    def batch_loss(self, batch):\n",
    "        reconstruction = self.dec(self.enc(batch))\n",
    "        return torch.mean((batch - reconstruction)**2)\n",
    "    "
   ]
  },
  {
   "cell_type": "markdown",
   "metadata": {
    "colab_type": "text",
    "id": "69_Da_I7_eXB"
   },
   "source": [
    "### Train the model\n",
    "\n",
    "As usual, iterate minibatches of data and call train_step, then evaluate loss on validation data.\n",
    "\n",
    "__Note to py2 users:__ you can safely drop `flush=True` from any code below."
   ]
  },
  {
   "cell_type": "code",
   "execution_count": 13,
   "metadata": {
    "colab": {},
    "colab_type": "code",
    "id": "7sbvg3Z__eXD"
   },
   "outputs": [],
   "source": [
    "def train(model, dataset, num_epoch=32):\n",
    "    model.double()\n",
    "    model.to(device)\n",
    "    gd = optim.Adamax(model.parameters(), lr=0.002)\n",
    "    dataloader = DataLoader(dataset, batch_size=BATCH_SIZE, shuffle=True)\n",
    "    losses = []\n",
    "    for epoch in range(num_epoch):\n",
    "        for i, (batch) in enumerate(dataloader):\n",
    "            gd.zero_grad()\n",
    "            loss = model.batch_loss(batch.to(device))\n",
    "            (loss).backward()\n",
    "            losses.append(loss.detach().cpu().numpy())\n",
    "            gd.step()\n",
    "            gd.zero_grad()\n",
    "        print(\"#%i, Train loss: %.7f\"%(epoch+1,np.mean(losses)),flush=True)"
   ]
  },
  {
   "cell_type": "code",
   "execution_count": 14,
   "metadata": {
    "colab": {},
    "colab_type": "code",
    "id": "wj7YPamq_eXF"
   },
   "outputs": [],
   "source": [
    "def visualize(img, model):\n",
    "    \"\"\"Draws original, encoded and decoded images\"\"\"\n",
    "    code = model.enc(img[None].to(device))\n",
    "    reco = model.dec(code)\n",
    "\n",
    "    plt.subplot(1,3,1)\n",
    "    plt.title(\"Original\")\n",
    "    plt.imshow(img.cpu().numpy().transpose([1, 2, 0]).clip(0, 1))\n",
    "\n",
    "    plt.subplot(1,3,2)\n",
    "    plt.title(\"Code\")\n",
    "    plt.imshow(code.cpu().detach().numpy().reshape([code.shape[-1] // 2, -1]))\n",
    "\n",
    "    plt.subplot(1,3,3)\n",
    "    plt.title(\"Reconstructed\")\n",
    "    plt.imshow(reco[0].cpu().detach().numpy().transpose([1, 2, 0]).clip(0, 1))\n",
    "    plt.show()\n"
   ]
  },
  {
   "cell_type": "code",
   "execution_count": 11,
   "metadata": {
    "colab": {
     "base_uri": "https://localhost:8080/",
     "height": 767
    },
    "colab_type": "code",
    "id": "4jkVqhLd_eXI",
    "outputId": "e2e1a7f5-3726-4f74-ca3d-2cad95bad465"
   },
   "outputs": [
    {
     "name": "stdout",
     "output_type": "stream",
     "text": [
      "#1, Train loss: 0.0231211\n",
      "#2, Train loss: 0.0146911\n",
      "#3, Train loss: 0.0110448\n",
      "#4, Train loss: 0.0088870\n",
      "#5, Train loss: 0.0074370\n",
      "#6, Train loss: 0.0063927\n",
      "#7, Train loss: 0.0056029\n",
      "#8, Train loss: 0.0049818\n",
      "#9, Train loss: 0.0044788\n",
      "#10, Train loss: 0.0040640\n",
      "#11, Train loss: 0.0037176\n",
      "#12, Train loss: 0.0034246\n",
      "#13, Train loss: 0.0031735\n",
      "#14, Train loss: 0.0029559\n",
      "#15, Train loss: 0.0027657\n",
      "#16, Train loss: 0.0025981\n",
      "#17, Train loss: 0.0024492\n",
      "#18, Train loss: 0.0023163\n",
      "#19, Train loss: 0.0021969\n",
      "#20, Train loss: 0.0020892\n",
      "#21, Train loss: 0.0019916\n",
      "#22, Train loss: 0.0019027\n",
      "#23, Train loss: 0.0018214\n",
      "#24, Train loss: 0.0017467\n",
      "#25, Train loss: 0.0016780\n",
      "#26, Train loss: 0.0016144\n",
      "#27, Train loss: 0.0015555\n",
      "#28, Train loss: 0.0015008\n",
      "#29, Train loss: 0.0014498\n",
      "#30, Train loss: 0.0014022\n",
      "#31, Train loss: 0.0013577\n",
      "#32, Train loss: 0.0013159\n",
      "#33, Train loss: 0.0012766\n",
      "#34, Train loss: 0.0012396\n",
      "#35, Train loss: 0.0012047\n",
      "#36, Train loss: 0.0011718\n",
      "#37, Train loss: 0.0011406\n",
      "#38, Train loss: 0.0011110\n",
      "#39, Train loss: 0.0010830\n",
      "#40, Train loss: 0.0010564\n"
     ]
    }
   ],
   "source": [
    "aenc = pca_autoencoder()\n",
    "train(aenc, X_train_tensor, 40)"
   ]
  },
  {
   "cell_type": "code",
   "execution_count": 12,
   "metadata": {
    "colab": {
     "base_uri": "https://localhost:8080/",
     "height": 36
    },
    "colab_type": "code",
    "id": "RqTUvLp8_eXM",
    "outputId": "b8d6924a-ea6c-4f54-be54-2c3c47547a99"
   },
   "outputs": [
    {
     "name": "stdout",
     "output_type": "stream",
     "text": [
      "1.8104960318071667e-05\n"
     ]
    }
   ],
   "source": [
    "dataloader_test = DataLoader(X_test_tensor, batch_size=BATCH_SIZE, shuffle=True)\n",
    "scores = []\n",
    "for i, (batch) in enumerate(dataloader_test):\n",
    "    scores.append(aenc.batch_loss(batch.to(device)).data.cpu().numpy())\n",
    "print (np.mean(scores))"
   ]
  },
  {
   "cell_type": "code",
   "execution_count": 13,
   "metadata": {
    "colab": {
     "base_uri": "https://localhost:8080/",
     "height": 742
    },
    "colab_type": "code",
    "id": "cvljk13x_eXP",
    "outputId": "720dcaf8-b5e2-4257-c251-68f42af1b538"
   },
   "outputs": [
    {
     "data": {
      "image/png": "[encoded data removed]",
      "text/plain": [
       "<Figure size 432x288 with 3 Axes>"
      ]
     },
     "metadata": {
      "needs_background": "light"
     },
     "output_type": "display_data"
    },
    {
     "data": {
      "image/png": "[encoded data removed]",
      "text/plain": [
       "<Figure size 432x288 with 3 Axes>"
      ]
     },
     "metadata": {
      "needs_background": "light"
     },
     "output_type": "display_data"
    },
    {
     "data": {
      "image/png": "[encoded data removed]",
      "text/plain": [
       "<Figure size 432x288 with 3 Axes>"
      ]
     },
     "metadata": {
      "needs_background": "light"
     },
     "output_type": "display_data"
    },
    {
     "data": {
      "image/png": "[encoded data removed]",
      "text/plain": [
       "<Figure size 432x288 with 3 Axes>"
      ]
     },
     "metadata": {
      "needs_background": "light"
     },
     "output_type": "display_data"
    },
    {
     "data": {
      "image/png": "[encoded data removed]",
      "text/plain": [
       "<Figure size 432x288 with 3 Axes>"
      ]
     },
     "metadata": {
      "needs_background": "light"
     },
     "output_type": "display_data"
    }
   ],
   "source": [
    "for i in range(5):\n",
    "    img = X_test_tensor[i]\n",
    "    visualize(img,aenc)\n"
   ]
  },
  {
   "cell_type": "markdown",
   "metadata": {
    "colab_type": "text",
    "id": "NIurZSFN_eXV"
   },
   "source": [
    "### Going deeper\n",
    "\n",
    "PCA is neat but surely we can do better. This time we want you to build a deep autoencoder by... stacking more layers.\n",
    "\n",
    "In particular, your encoder and decoder should be at least 3 layers deep each. You can use any nonlinearity you want and any number of hidden units in non-bottleneck layers provided you can actually afford training it.\n",
    "\n",
    "![layers](https://pbs.twimg.com/media/CYggEo-VAAACg_n.png:small)\n",
    "\n",
    "A few sanity checks:\n",
    "* There shouldn't be any hidden layer smaller than bottleneck (encoder output).\n",
    "* Don't forget to insert nonlinearities between intermediate dense layers.\n",
    "* Convolutional layers are good idea. To undo convolution use L.Deconv2D, pooling - L.UpSampling2D.\n",
    "* Adding activation after bottleneck is allowed, but not strictly necessary."
   ]
  },
  {
   "cell_type": "code",
   "execution_count": 14,
   "metadata": {
    "colab": {
     "base_uri": "https://localhost:8080/",
     "height": 131
    },
    "colab_type": "code",
    "id": "E7BNmYuLqirm",
    "outputId": "cd2b43e6-c8e1-410b-d0d6-0c39a54d7839"
   },
   "outputs": [],
   "source": [
    "#from google.colab import drive\n",
    "#drive.mount('/gdrive')"
   ]
  },
  {
   "cell_type": "code",
   "execution_count": 15,
   "metadata": {
    "colab": {
     "base_uri": "https://localhost:8080/",
     "height": 36
    },
    "colab_type": "code",
    "id": "jBysJ2LTs5Ic",
    "outputId": "38a3cbaa-1c11-482a-ea22-ccb6e6295a0d"
   },
   "outputs": [],
   "source": [
    "#! ls /gdrive"
   ]
  },
  {
   "cell_type": "code",
   "execution_count": 15,
   "metadata": {
    "colab": {
     "base_uri": "https://localhost:8080/",
     "height": 223
    },
    "colab_type": "code",
    "id": "OOaXN8gaU4ES",
    "outputId": "57e9e7e5-acb3-4405-9cdb-45430bb9a46c"
   },
   "outputs": [
    {
     "name": "stdout",
     "output_type": "stream",
     "text": [
      "--2019-05-15 13:13:42--  https://gist.githubusercontent.com/jeasinema/ed9236ce743c8efaf30fa2ff732749f5/raw/d837f5c96a727d1b3292a3eedf06c19aca6c1a8a/weight_init.py\n",
      "Resolving gist.githubusercontent.com (gist.githubusercontent.com)... 151.101.0.133, 151.101.64.133, 151.101.128.133, ...\n",
      "Connecting to gist.githubusercontent.com (gist.githubusercontent.com)|151.101.0.133|:443... connected.\n",
      "HTTP request sent, awaiting response... 200 OK\n",
      "Length: 2511 (2.5K) [text/plain]\n",
      "Saving to: ‘weight_init.py’\n",
      "\n",
      "weight_init.py      100%[===================>]   2.45K  --.-KB/s    in 0s      \n",
      "\n",
      "2019-05-15 13:13:43 (51.0 MB/s) - ‘weight_init.py’ saved [2511/2511]\n",
      "\n"
     ]
    }
   ],
   "source": [
    "! wget https://gist.githubusercontent.com/jeasinema/ed9236ce743c8efaf30fa2ff732749f5/raw/d837f5c96a727d1b3292a3eedf06c19aca6c1a8a/weight_init.py"
   ]
  },
  {
   "cell_type": "code",
   "execution_count": 17,
   "metadata": {},
   "outputs": [
    {
     "name": "stdout",
     "output_type": "stream",
     "text": [
      "Collecting tqdm\n",
      "\u001b[?25l  Downloading https://files.pythonhosted.org/packages/45/af/685bf3ce889ea191f3b916557f5677cc95a5e87b2fa120d74b5dd6d049d0/tqdm-4.32.1-py2.py3-none-any.whl (49kB)\n",
      "\u001b[K    100% |████████████████████████████████| 51kB 3.4MB/s ta 0:00:011\n",
      "\u001b[?25hInstalling collected packages: tqdm\n",
      "Successfully installed tqdm-4.32.1\n",
      "\u001b[33mYou are using pip version 10.0.1, however version 19.1.1 is available.\n",
      "You should consider upgrading via the 'pip install --upgrade pip' command.\u001b[0m\n"
     ]
    }
   ],
   "source": [
    "! pip install tqdm"
   ]
  },
  {
   "cell_type": "code",
   "execution_count": 29,
   "metadata": {
    "colab": {},
    "colab_type": "code",
    "id": "Mogwsn4nagKO"
   },
   "outputs": [],
   "source": [
    "import itertools\n",
    "import collections\n",
    "import copy\n",
    "import contextlib\n",
    "import tqdm\n",
    "import math\n",
    "import numpy as np\n",
    "\n",
    "from weight_init import weight_init\n",
    "\n",
    "        \n",
    "DEVICE = torch.device('cuda' if torch.cuda.is_available() else 'cpu')\n",
    "\n",
    "\n",
    "@contextlib.contextmanager\n",
    "def fork_torch_model(model):\n",
    "    initial_state = copy.deepcopy(model.state_dict())\n",
    "    try:\n",
    "        yield\n",
    "    finally:\n",
    "        model.load_state_dict(initial_state)\n",
    "        model.to(DEVICE)\n",
    "\n",
    "\n",
    "class StagedTraining:\n",
    "    def __init__(self, model, trainset, testset, epoch_iter_wrapper=tqdm.tqdm, summary_every=25):\n",
    "        self.summary_every = summary_every\n",
    "        self.model = model\n",
    "        self.dataloader = DataLoader(trainset, batch_size=BATCH_SIZE, shuffle=True)\n",
    "        self.test_loader = DataLoader(testset, batch_size=BATCH_SIZE)\n",
    "        self.epoch = 0\n",
    "        self.set_adaptive(optim.Adam, dict(betas=(.75, .99), lr=.003))\n",
    "        self.epoch_iter_wrapper = epoch_iter_wrapper\n",
    "    def set_adaptive(self, adaptive_cls, adaptive_kwargs: dict):\n",
    "        self.instr_adaptive = adaptive_cls, copy.deepcopy(adaptive_kwargs)\n",
    "        return self\n",
    "    def random_init(self):\n",
    "        self.model.apply(weight_init)\n",
    "    @staticmethod\n",
    "    def generic_step(model, optimizer, batch):\n",
    "        model.train()\n",
    "        optimizer.zero_grad()\n",
    "        batch = batch.double().to(DEVICE)\n",
    "        loss = model.batch_loss(batch)\n",
    "        loss.backward()\n",
    "        optimizer.step()\n",
    "        return loss.item()\n",
    "    def make_epochs(self, n_epochs: int):\n",
    "        epochs = self._make_epochs(n_epochs)\n",
    "        if self.epoch_iter_wrapper is not None:\n",
    "            epochs = self.epoch_iter_wrapper(epochs)\n",
    "        return epochs\n",
    "    def _make_epochs(self, n_epochs: int):\n",
    "        epoch0 = self.epoch\n",
    "        epochs_end = self.epoch + n_epochs\n",
    "        for e in range(epoch0, epochs_end):\n",
    "            self.epoch = e\n",
    "            yield e\n",
    "            if (e + 1) % self.summary_every == 0:\n",
    "                torch.save(self.model.state_dict(), f'aenc_{e}.pth')\n",
    "                print('[{:04}/{:04}] Reconstruction MSE: {:.5f}'.format(e, epochs_end, self.evaluate()))\n",
    "        self.epoch = epochs_end\n",
    "    def train_adaptive(self, n_epochs: int, **kwargs):\n",
    "        adaptive_cls, adaptive_kwargs = self.instr_adaptive\n",
    "        adaptive_kwargs = collections.ChainMap(kwargs, adaptive_kwargs)\n",
    "        opt = adaptive_cls(self.model.parameters(), **adaptive_kwargs)\n",
    "        for e in self.make_epochs(n_epochs):\n",
    "            for x in self.dataloader:\n",
    "                self.generic_step(self.model, opt, x)\n",
    "    def sylvain_gugger_table(self,\n",
    "                             lr_min: float = 1e-9,\n",
    "                             lr_max: float = 5,\n",
    "                             num: int = 100,\n",
    "                             iters_per_lr: int = 1):\n",
    "        factor = (lr_max/lr_min)**(1/(num - 1))\n",
    "        #test_lr = itertools.takewhile(\n",
    "        #    lambda lr: lr < lr_max,\n",
    "        #    (1.0 * lr_min * factor**k for k in itertools.count()),\n",
    "        #)\n",
    "        test_lr = [1.0 * lr_min * factor**k for k in range(num)]\n",
    "        test_lr = np.array(list(test_lr))\n",
    "        lr_loss = np.zeros_like(test_lr)\n",
    "        model = self.model\n",
    "        batches = itertools.cycle(self.dataloader)\n",
    "        batch_lr = (itertools.repeat(x, iters_per_lr) for x in enumerate(test_lr))\n",
    "        batch_lr = itertools.chain.from_iterable(batch_lr)\n",
    "        data = zip(batch_lr, batches)\n",
    "        losses = collections.defaultdict(list)\n",
    "        with fork_torch_model(model):\n",
    "            opt = optim.SGD(model.parameters(), lr=.001)\n",
    "            for (i, lr), x in data:\n",
    "                for param_group in opt.param_groups:\n",
    "                    param_group['lr'] = lr\n",
    "                self.generic_step(model, opt, x)\n",
    "                with torch.no_grad():\n",
    "                    losses[i].append(model.batch_loss(x.double().to(DEVICE)).item())\n",
    "        for i in losses.keys():\n",
    "            lr_loss[i] = np.mean(losses[i])\n",
    "        return test_lr, lr_loss\n",
    "    @staticmethod\n",
    "    def sylvain_gugger_lr(test_lr, lr_loss):\n",
    "        i = np.nanargmin(lr_loss)\n",
    "        return test_lr[i]\n",
    "    def sylvain_gugger_find_lr(self, init_value = 1e-8, final_value=10., beta = 0.98):\n",
    "        # added\n",
    "        net = self.model\n",
    "        optimizer = optim.SGD(net.parameters(), lr=init_value)\n",
    "        trn_loader = self.dataloader\n",
    "        loss_history = []\n",
    "        smooth_history = []\n",
    "        # end added\n",
    "        num = len(trn_loader)-1\n",
    "        mult = (final_value / init_value) ** (1/num)\n",
    "        lr = init_value\n",
    "        optimizer.param_groups[0]['lr'] = lr\n",
    "        avg_loss = 0.\n",
    "        best_loss = 0.\n",
    "        batch_num = 0\n",
    "        losses = []\n",
    "        log_lrs = []\n",
    "        for data in trn_loader:\n",
    "            batch_num += 1\n",
    "            #As before, get the loss for this mini-batch of inputs/outputs\n",
    "            \n",
    "            # modified loss computation\n",
    "            data = data.double().to(DEVICE)\n",
    "            \n",
    "            optimizer.zero_grad()\n",
    "            loss = net.batch_loss(data)\n",
    "            #Compute the smoothed loss\n",
    "            avg_loss = beta * avg_loss + (1-beta) * loss.item()\n",
    "            smoothed_loss = avg_loss / (1 - beta**batch_num)\n",
    "            \n",
    "            # added\n",
    "            loss_history.append(loss.item())\n",
    "            smooth_history.append(smoothed_loss)\n",
    "            # end added\n",
    "            \n",
    "            #Stop if the loss is exploding\n",
    "            if batch_num > 1 and smoothed_loss > 4 * best_loss:\n",
    "                return log_lrs, losses\n",
    "            #Record the best loss\n",
    "            if smoothed_loss < best_loss or batch_num==1:\n",
    "                best_loss = smoothed_loss\n",
    "            #Store the values\n",
    "            losses.append(smoothed_loss)\n",
    "            log_lrs.append(math.log10(lr))\n",
    "            #Do the SGD step\n",
    "            loss.backward()\n",
    "            optimizer.step()\n",
    "            #Update the lr for the next step\n",
    "            lr *= mult\n",
    "            optimizer.param_groups[0]['lr'] = lr\n",
    "        # modified return statement\n",
    "        return optimizer.param_groups[0]['lr'], log_lrs, loss_history, smooth_history\n",
    "\n",
    "    def train_sgd(self, n_epochs: int, lr: float):\n",
    "        opt = optim.SGD(self.model.parameters(), lr=lr)\n",
    "        for e in self.make_epochs(n_epochs):\n",
    "            for x in self.dataloader:\n",
    "                self.generic_step(self.model, opt, x)\n",
    "    def evaluate(self):\n",
    "        model = self.model\n",
    "        model.eval()\n",
    "        with torch.no_grad():\n",
    "            scores = []\n",
    "            for i, batch in enumerate(self.test_loader):\n",
    "                scores.append(model.batch_loss(batch.double().to(DEVICE)).data.cpu().numpy())\n",
    "                # encoder_out = model.enc(batch.to(DEVICE))\n",
    "            reconstruction_mse  = np.mean(scores)\n",
    "            return reconstruction_mse"
   ]
  },
  {
   "cell_type": "code",
   "execution_count": 110,
   "metadata": {
    "colab": {},
    "colab_type": "code",
    "id": "IGP0HAr3_eXW"
   },
   "outputs": [],
   "source": [
    "import collections\n",
    "\n",
    "\n",
    "class BatchReshape(nn.Module):\n",
    "    def __init__(self, *output_size):\n",
    "        super(BatchReshape, self).__init__()\n",
    "        self.output_size = output_size\n",
    "    def forward(self, input):\n",
    "        return torch.reshape(input, (input.shape[0],) + self.output_size)\n",
    "\n",
    "class Interpolate(nn.Module):\n",
    "    def __init__(self, *output_size):\n",
    "        super(Interpolate, self).__init__()\n",
    "        self.output_size = output_size\n",
    "    def forward(self, input):\n",
    "        return nn.functional.interpolate(input, size=self.output_size)\n",
    "\n",
    "class pca_autoencoder_deep(nn.Module):\n",
    "    def __init__(self, code_size=32, n=38, end_channels=10):\n",
    "        super(pca_autoencoder_deep, self).__init__()\n",
    "        self.enc = nn.Sequential(\n",
    "            nn.Conv2d(3, 100, kernel_size=5, padding=2),\n",
    "            # nn.BatchNorm2d(100),\n",
    "            nn.ReLU(),\n",
    "            nn.Conv2d(100, 75, kernel_size=3, padding=1),\n",
    "            nn.ReLU(),\n",
    "            nn.Conv2d(75, 50, kernel_size=3, padding=1),\n",
    "            nn.ReLU(),\n",
    "            nn.Conv2d(50, 25, kernel_size=3, padding=1),\n",
    "            nn.ReLU(),\n",
    "            nn.Conv2d(25, 10, kernel_size=3, padding=1),\n",
    "            nn.ReLU(),\n",
    "            nn.Conv2d(10, end_channels, kernel_size=5, padding=2),\n",
    "            # nn.BatchNorm2d(end_channels),\n",
    "            nn.ReLU(),\n",
    "            BatchReshape(end_channels*n*n),\n",
    "            # nn.BatchNorm1d(end_channels*n*n),\n",
    "            nn.ReLU(),\n",
    "            nn.Linear(end_channels*n*n, code_size),\n",
    "            nn.Tanh(),\n",
    "        )\n",
    "        self.dec = nn.Sequential(\n",
    "            nn.Linear(code_size, end_channels*n*n),\n",
    "            BatchReshape(end_channels, n, n),\n",
    "            nn.ReLU(),\n",
    "            nn.ConvTranspose2d(end_channels, 10, kernel_size=3, padding=1),\n",
    "            nn.ReLU(),\n",
    "            nn.ConvTranspose2d(10, 25, kernel_size=3, padding=1),\n",
    "            nn.ReLU(),\n",
    "            nn.ConvTranspose2d(25, 50, kernel_size=3, padding=1),\n",
    "            nn.ReLU(),\n",
    "            nn.ConvTranspose2d(50, 100, kernel_size=3, padding=1),\n",
    "            nn.ReLU(),\n",
    "            nn.ConvTranspose2d(100, 3, kernel_size=5, padding=2),\n",
    "        )\n",
    "        self.apply(weight_init)\n",
    "    def batch_loss(self, batch):\n",
    "        enc = self.enc(batch)\n",
    "        reconstruction = self.dec(enc)\n",
    "        return torch.mean((batch - reconstruction)**2)"
   ]
  },
  {
   "cell_type": "code",
   "execution_count": 111,
   "metadata": {
    "colab": {},
    "colab_type": "code",
    "id": "tzw9r_6zZcwo"
   },
   "outputs": [],
   "source": [
    "#aenc_deep = pca_autoencoder_deep()\n",
    "#aenc_deep.load_state_dict(torch.load('/gdrive/My Drive/aenc_deep_state4.pth'))\n",
    "#aenc_deep = aenc_deep.to(torch.double).to(torch.device('cuda'))\n",
    "\n",
    "#aenc_deep = pca_autoencoder_deep(end_channels=25)\n",
    "#train(aenc_deep, X_train_tensor, num_epoch=50, cons_optimizer=lambda parameters: optim.Adam(parameters, betas=(.5, .99), lr=.005))\n",
    "#torch.save(aenc_deep.state_dict(), 'aenc_deep_state6.pth')"
   ]
  },
  {
   "cell_type": "code",
   "execution_count": 112,
   "metadata": {
    "colab": {},
    "colab_type": "code",
    "id": "zNZ04CXujsoz"
   },
   "outputs": [],
   "source": [
    "import scipy as sp\n",
    "import scipy.signal"
   ]
  },
  {
   "cell_type": "code",
   "execution_count": 116,
   "metadata": {
    "colab": {},
    "colab_type": "code",
    "id": "Xp7yCGjN8g52"
   },
   "outputs": [],
   "source": [
    "torch.manual_seed(666)\n",
    "\n",
    "\n",
    "model = pca_autoencoder_deep(end_channels=5).to(DEVICE).to(torch.double)"
   ]
  },
  {
   "cell_type": "code",
   "execution_count": 117,
   "metadata": {
    "colab": {},
    "colab_type": "code",
    "id": "znzTApXE88m-"
   },
   "outputs": [],
   "source": [
    "trainer = StagedTraining(model, X_train_tensor, X_test_tensor)"
   ]
  },
  {
   "cell_type": "code",
   "execution_count": null,
   "metadata": {
    "colab": {
     "base_uri": "https://localhost:8080/",
     "height": 917
    },
    "colab_type": "code",
    "id": "lX3NU9_LqH0v",
    "outputId": "3f728de2-0bda-47c0-95c1-0add40042fcc",
    "scrolled": false
   },
   "outputs": [
    {
     "name": "stderr",
     "output_type": "stream",
     "text": [
      "\n",
      "\n",
      "\n",
      "\n",
      "\n",
      "\n",
      "\n",
      "\n",
      "\n",
      "\n",
      "\n",
      "\n",
      "\n",
      "\n",
      "0it [00:00, ?it/s]\u001b[A\u001b[A\u001b[A\u001b[A\u001b[A\u001b[A\u001b[A\u001b[A\u001b[A\u001b[A\u001b[A\u001b[A\u001b[A\u001b[A"
     ]
    },
    {
     "name": "stdout",
     "output_type": "stream",
     "text": [
      "Reconstruction MSE after random init: 2.13449\n",
      "Entering first phase with Adam\n"
     ]
    },
    {
     "name": "stderr",
     "output_type": "stream",
     "text": [
      "\n",
      "\n",
      "\n",
      "\n",
      "\n",
      "\n",
      "\n",
      "\n",
      "\n",
      "\n",
      "\n",
      "\n",
      "\n",
      "\n",
      "1it [00:08,  8.57s/it]\u001b[A\u001b[A\u001b[A\u001b[A\u001b[A\u001b[A\u001b[A\u001b[A\u001b[A\u001b[A\u001b[A\u001b[A\u001b[A\u001b[A\n",
      "\n",
      "\n",
      "\n",
      "\n",
      "\n",
      "\n",
      "\n",
      "\n",
      "\n",
      "\n",
      "\n",
      "\n",
      "\n",
      "2it [00:17,  8.56s/it]\u001b[A\u001b[A\u001b[A\u001b[A\u001b[A\u001b[A\u001b[A\u001b[A\u001b[A\u001b[A\u001b[A\u001b[A\u001b[A\u001b[A\n",
      "\n",
      "\n",
      "\n",
      "\n",
      "\n",
      "\n",
      "\n",
      "\n",
      "\n",
      "\n",
      "\n",
      "\n",
      "\n",
      "3it [00:25,  8.57s/it]\u001b[A\u001b[A\u001b[A\u001b[A\u001b[A\u001b[A\u001b[A\u001b[A\u001b[A\u001b[A\u001b[A\u001b[A\u001b[A\u001b[A\n",
      "\n",
      "\n",
      "\n",
      "\n",
      "\n",
      "\n",
      "\n",
      "\n",
      "\n",
      "\n",
      "\n",
      "\n",
      "\n",
      "4it [00:34,  8.57s/it]\u001b[A\u001b[A\u001b[A\u001b[A\u001b[A\u001b[A\u001b[A\u001b[A\u001b[A\u001b[A\u001b[A\u001b[A\u001b[A\u001b[A\n",
      "\n",
      "\n",
      "\n",
      "\n",
      "\n",
      "\n",
      "\n",
      "\n",
      "\n",
      "\n",
      "\n",
      "\n",
      "\n",
      "5it [00:42,  8.57s/it]\u001b[A\u001b[A\u001b[A\u001b[A\u001b[A\u001b[A\u001b[A\u001b[A\u001b[A\u001b[A\u001b[A\u001b[A\u001b[A\u001b[A\n",
      "\n",
      "\n",
      "\n",
      "\n",
      "\n",
      "\n",
      "\n",
      "\n",
      "\n",
      "\n",
      "\n",
      "\n",
      "\n",
      "6it [00:51,  8.57s/it]\u001b[A\u001b[A\u001b[A\u001b[A\u001b[A\u001b[A\u001b[A\u001b[A\u001b[A\u001b[A\u001b[A\u001b[A\u001b[A\u001b[A\n",
      "\n",
      "\n",
      "\n",
      "\n",
      "\n",
      "\n",
      "\n",
      "\n",
      "\n",
      "\n",
      "\n",
      "\n",
      "\n",
      "7it [01:00,  8.58s/it]\u001b[A\u001b[A\u001b[A\u001b[A\u001b[A\u001b[A\u001b[A\u001b[A\u001b[A\u001b[A\u001b[A\u001b[A\u001b[A\u001b[A\n",
      "\n",
      "\n",
      "\n",
      "\n",
      "\n",
      "\n",
      "\n",
      "\n",
      "\n",
      "\n",
      "\n",
      "\n",
      "\n",
      "8it [01:08,  8.59s/it]\u001b[A\u001b[A\u001b[A\u001b[A\u001b[A\u001b[A\u001b[A\u001b[A\u001b[A\u001b[A\u001b[A\u001b[A\u001b[A\u001b[A\n",
      "\n",
      "\n",
      "\n",
      "\n",
      "\n",
      "\n",
      "\n",
      "\n",
      "\n",
      "\n",
      "\n",
      "\n",
      "\n",
      "9it [01:17,  8.59s/it]\u001b[A\u001b[A\u001b[A\u001b[A\u001b[A\u001b[A\u001b[A\u001b[A\u001b[A\u001b[A\u001b[A\u001b[A\u001b[A\u001b[A\n",
      "\n",
      "\n",
      "\n",
      "\n",
      "\n",
      "\n",
      "\n",
      "\n",
      "\n",
      "\n",
      "\n",
      "\n",
      "\n",
      "10it [01:25,  8.59s/it]\u001b[A\u001b[A\u001b[A\u001b[A\u001b[A\u001b[A\u001b[A\u001b[A\u001b[A\u001b[A\u001b[A\u001b[A\u001b[A\u001b[A\n",
      "\n",
      "\n",
      "\n",
      "\n",
      "\n",
      "\n",
      "\n",
      "\n",
      "\n",
      "\n",
      "\n",
      "\n",
      "\n",
      "11it [01:34,  8.58s/it]\u001b[A\u001b[A\u001b[A\u001b[A\u001b[A\u001b[A\u001b[A\u001b[A\u001b[A\u001b[A\u001b[A\u001b[A\u001b[A\u001b[A\n",
      "\n",
      "\n",
      "\n",
      "\n",
      "\n",
      "\n",
      "\n",
      "\n",
      "\n",
      "\n",
      "\n",
      "\n",
      "\n",
      "12it [01:42,  8.57s/it]\u001b[A\u001b[A\u001b[A\u001b[A\u001b[A\u001b[A\u001b[A\u001b[A\u001b[A\u001b[A\u001b[A\u001b[A\u001b[A\u001b[A\n",
      "\n",
      "\n",
      "\n",
      "\n",
      "\n",
      "\n",
      "\n",
      "\n",
      "\n",
      "\n",
      "\n",
      "\n",
      "\n",
      "13it [01:51,  8.55s/it]\u001b[A\u001b[A\u001b[A\u001b[A\u001b[A\u001b[A\u001b[A\u001b[A\u001b[A\u001b[A\u001b[A\u001b[A\u001b[A\u001b[A\n",
      "\n",
      "\n",
      "\n",
      "\n",
      "\n",
      "\n",
      "\n",
      "\n",
      "\n",
      "\n",
      "\n",
      "\n",
      "\n",
      "14it [01:59,  8.54s/it]\u001b[A\u001b[A\u001b[A\u001b[A\u001b[A\u001b[A\u001b[A\u001b[A\u001b[A\u001b[A\u001b[A\u001b[A\u001b[A\u001b[A\n",
      "\n",
      "\n",
      "\n",
      "\n",
      "\n",
      "\n",
      "\n",
      "\n",
      "\n",
      "\n",
      "\n",
      "\n",
      "\n",
      "15it [02:08,  8.53s/it]\u001b[A\u001b[A\u001b[A\u001b[A\u001b[A\u001b[A\u001b[A\u001b[A\u001b[A\u001b[A\u001b[A\u001b[A\u001b[A\u001b[A\n",
      "\n",
      "\n",
      "\n",
      "\n",
      "\n",
      "\n",
      "\n",
      "\n",
      "\n",
      "\n",
      "\n",
      "\n",
      "\n",
      "16it [02:16,  8.53s/it]\u001b[A\u001b[A\u001b[A\u001b[A\u001b[A\u001b[A\u001b[A\u001b[A\u001b[A\u001b[A\u001b[A\u001b[A\u001b[A\u001b[A\n",
      "\n",
      "\n",
      "\n",
      "\n",
      "\n",
      "\n",
      "\n",
      "\n",
      "\n",
      "\n",
      "\n",
      "\n",
      "\n",
      "17it [02:25,  8.54s/it]\u001b[A\u001b[A\u001b[A\u001b[A\u001b[A\u001b[A\u001b[A\u001b[A\u001b[A\u001b[A\u001b[A\u001b[A\u001b[A\u001b[A\n",
      "\n",
      "\n",
      "\n",
      "\n",
      "\n",
      "\n",
      "\n",
      "\n",
      "\n",
      "\n",
      "\n",
      "\n",
      "\n",
      "18it [02:34,  8.55s/it]\u001b[A\u001b[A\u001b[A\u001b[A\u001b[A\u001b[A\u001b[A\u001b[A\u001b[A\u001b[A\u001b[A\u001b[A\u001b[A\u001b[A\n",
      "\n",
      "\n",
      "\n",
      "\n",
      "\n",
      "\n",
      "\n",
      "\n",
      "\n",
      "\n",
      "\n",
      "\n",
      "\n",
      "19it [02:42,  8.57s/it]\u001b[A\u001b[A\u001b[A\u001b[A\u001b[A\u001b[A\u001b[A\u001b[A\u001b[A\u001b[A\u001b[A\u001b[A\u001b[A\u001b[A"
     ]
    }
   ],
   "source": [
    "ADA_EPOCHS = 40\n",
    "\n",
    "\n",
    "trainer.random_init()\n",
    "print('Reconstruction MSE after random init: {:.5f}'.format(trainer.evaluate()))\n",
    "print('Entering first phase with Adam')\n",
    "trainer.train_adaptive(n_epochs=ADA_EPOCHS)\n",
    "print('Evaluating')\n",
    "print('Reconstruction MSE after {} adaptive epochs: {:.5f}'.format(ADA_EPOCHS, trainer.evaluate()))"
   ]
  },
  {
   "cell_type": "code",
   "execution_count": 102,
   "metadata": {
    "colab": {},
    "colab_type": "code",
    "id": "fJtlaijy6JPe"
   },
   "outputs": [],
   "source": [
    "def try_sgd(sgd_epochs, min_lr=1e-12, max_lr=1e-2, num_rates=200):\n",
    "    test_lr, lr_loss = trainer.sylvain_gugger_table(min_lr, max_lr, num_rates, iters_per_lr=1)\n",
    "    MAX_LOSS = .05\n",
    "    _valid_loss = (~np.isnan(lr_loss)) & (lr_loss < MAX_LOSS)\n",
    "    test_lr, lr_loss = test_lr[_valid_loss], lr_loss[_valid_loss]\n",
    "    lr_loss_smooth = sp.signal.savgol_filter(lr_loss, 21, 2)\n",
    "    best_lr = trainer.sylvain_gugger_lr(test_lr, lr_loss_smooth)\n",
    "    fig, ax = plt.subplots()\n",
    "    ax.set_title('SGD lr versus loss as per Sylvain Gugger')\n",
    "    ax.set_xlabel('Log LR')\n",
    "    ax.set_ylabel('Loss')\n",
    "    ax.set_xscale('log')\n",
    "    ax.plot(test_lr, lr_loss, color='gray', linestyle='--')\n",
    "    ax.plot(test_lr, lr_loss_smooth, color='red')\n",
    "    ax.axvline(x=best_lr, color='black', linestyle='--')\n",
    "    plt.show()\n",
    "    print('Picking lr={:.5f}'.format(best_lr))\n",
    "    trainer.train_sgd(sgd_epochs, lr=best_lr)\n",
    "    print('Reconstruction MSE after {} SGD epochs: {:.5f}'.format(sgd_epochs, trainer.evaluate()))\n",
    "def try_copypasted_find_lr(sgd_epochs, min_lr=1e-12, max_lr=1e-2, beta=.98):\n",
    "    best_lr, log_lr, lr_loss, lr_loss_smooth = trainer.sylvain_gugger_find_lr(init_value = min_lr, final_value=max_lr, beta=beta)\n",
    "    test_lr = np.exp(log_lr)\n",
    "    fig, ax = plt.subplots()\n",
    "    ax.set_title('SGD lr versus loss as per Sylvain Gugger')\n",
    "    ax.set_xlabel('Log LR')\n",
    "    ax.set_ylabel('Loss')\n",
    "    ax.set_xscale('log')\n",
    "    ax.plot(test_lr, lr_loss, color='gray', linestyle=':')\n",
    "    ax.plot(test_lr, lr_loss_smooth, color='red')\n",
    "    ax.axvline(x=best_lr, color='black', linestyle='--')\n",
    "    plt.show()\n",
    "    print('Picking lr={:.5e}'.format(best_lr))\n",
    "    trainer.train_sgd(sgd_epochs, lr=best_lr)\n",
    "    print('Reconstruction MSE after {} SGD epochs: {:.5f}'.format(sgd_epochs, trainer.evaluate()))\n",
    "    "
   ]
  },
  {
   "cell_type": "code",
   "execution_count": 109,
   "metadata": {
    "colab": {
     "base_uri": "https://localhost:8080/",
     "height": 355
    },
    "colab_type": "code",
    "id": "vtSWYDsB_eXc",
    "outputId": "504b10aa-0393-4d14-b3cb-411eba72aada",
    "scrolled": true
   },
   "outputs": [
    {
     "data": {
      "image/png": "[encoded data removed]",
      "text/plain": [
       "<Figure size 432x288 with 1 Axes>"
      ]
     },
     "metadata": {
      "needs_background": "light"
     },
     "output_type": "display_data"
    },
    {
     "name": "stderr",
     "output_type": "stream",
     "text": [
      "\n",
      "\n",
      "\n",
      "\n",
      "\n",
      "\n",
      "\n",
      "\n",
      "\n",
      "\n",
      "\n",
      "\n",
      "\n",
      "0it [00:00, ?it/s]\u001b[A\u001b[A\u001b[A\u001b[A\u001b[A\u001b[A\u001b[A\u001b[A\u001b[A\u001b[A\u001b[A\u001b[A\u001b[A"
     ]
    },
    {
     "name": "stdout",
     "output_type": "stream",
     "text": [
      "Picking lr=1.06439e-02\n"
     ]
    },
    {
     "name": "stderr",
     "output_type": "stream",
     "text": [
      "\n",
      "\n",
      "\n",
      "\n",
      "\n",
      "\n",
      "\n",
      "\n",
      "\n",
      "\n",
      "\n",
      "\n",
      "\n",
      "1it [00:05,  5.41s/it]\u001b[A\u001b[A\u001b[A\u001b[A\u001b[A\u001b[A\u001b[A\u001b[A\u001b[A\u001b[A\u001b[A\u001b[A\u001b[A\n",
      "\n",
      "\n",
      "\n",
      "\n",
      "\n",
      "\n",
      "\n",
      "\n",
      "\n",
      "\n",
      "\n",
      "\n",
      "2it [00:10,  5.41s/it]\u001b[A\u001b[A\u001b[A\u001b[A\u001b[A\u001b[A\u001b[A\u001b[A\u001b[A\u001b[A\u001b[A\u001b[A\u001b[A\n",
      "\n",
      "\n",
      "\n",
      "\n",
      "\n",
      "\n",
      "\n",
      "\n",
      "\n",
      "\n",
      "\n",
      "\n",
      "3it [00:16,  5.41s/it]\u001b[A\u001b[A\u001b[A\u001b[A\u001b[A\u001b[A\u001b[A\u001b[A\u001b[A\u001b[A\u001b[A\u001b[A\u001b[A\n",
      "\n",
      "\n",
      "\n",
      "\n",
      "\n",
      "\n",
      "\n",
      "\n",
      "\n",
      "\n",
      "\n",
      "\n",
      "4it [00:21,  5.42s/it]\u001b[A\u001b[A\u001b[A\u001b[A\u001b[A\u001b[A\u001b[A\u001b[A\u001b[A\u001b[A\u001b[A\u001b[A\u001b[A\n",
      "\n",
      "\n",
      "\n",
      "\n",
      "\n",
      "\n",
      "\n",
      "\n",
      "\n",
      "\n",
      "\n",
      "\n",
      "5it [00:27,  5.42s/it]\u001b[A\u001b[A\u001b[A\u001b[A\u001b[A\u001b[A\u001b[A\u001b[A\u001b[A\u001b[A\u001b[A\u001b[A\u001b[A"
     ]
    },
    {
     "name": "stdout",
     "output_type": "stream",
     "text": [
      "[0024/0120] Reconstruction MSE: 0.02765\n"
     ]
    },
    {
     "name": "stderr",
     "output_type": "stream",
     "text": [
      "\n",
      "\n",
      "\n",
      "\n",
      "\n",
      "\n",
      "\n",
      "\n",
      "\n",
      "\n",
      "\n",
      "\n",
      "\n",
      "6it [00:32,  5.51s/it]\u001b[A\u001b[A\u001b[A\u001b[A\u001b[A\u001b[A\u001b[A\u001b[A\u001b[A\u001b[A\u001b[A\u001b[A\u001b[A\n",
      "\n",
      "\n",
      "\n",
      "\n",
      "\n",
      "\n",
      "\n",
      "\n",
      "\n",
      "\n",
      "\n",
      "\n",
      "7it [00:38,  5.51s/it]\u001b[A\u001b[A\u001b[A\u001b[A\u001b[A\u001b[A\u001b[A\u001b[A\u001b[A\u001b[A\u001b[A\u001b[A\u001b[A\n",
      "\n",
      "\n",
      "\n",
      "\n",
      "\n",
      "\n",
      "\n",
      "\n",
      "\n",
      "\n",
      "\n",
      "\n",
      "8it [00:43,  5.51s/it]\u001b[A\u001b[A\u001b[A\u001b[A\u001b[A\u001b[A\u001b[A\u001b[A\u001b[A\u001b[A\u001b[A\u001b[A\u001b[A\n",
      "\n",
      "\n",
      "\n",
      "\n",
      "\n",
      "\n",
      "\n",
      "\n",
      "\n",
      "\n",
      "\n",
      "\n",
      "9it [00:49,  5.52s/it]\u001b[A\u001b[A\u001b[A\u001b[A\u001b[A\u001b[A\u001b[A\u001b[A\u001b[A\u001b[A\u001b[A\u001b[A\u001b[A\n",
      "\n",
      "\n",
      "\n",
      "\n",
      "\n",
      "\n",
      "\n",
      "\n",
      "\n",
      "\n",
      "\n",
      "\n",
      "10it [00:54,  5.50s/it]\u001b[A\u001b[A\u001b[A\u001b[A\u001b[A\u001b[A\u001b[A\u001b[A\u001b[A\u001b[A\u001b[A\u001b[A\u001b[A\n",
      "\n",
      "\n",
      "\n",
      "\n",
      "\n",
      "\n",
      "\n",
      "\n",
      "\n",
      "\n",
      "\n",
      "\n",
      "11it [01:00,  5.48s/it]\u001b[A\u001b[A\u001b[A\u001b[A\u001b[A\u001b[A\u001b[A\u001b[A\u001b[A\u001b[A\u001b[A\u001b[A\u001b[A\n",
      "\n",
      "\n",
      "\n",
      "\n",
      "\n",
      "\n",
      "\n",
      "\n",
      "\n",
      "\n",
      "\n",
      "\n",
      "12it [01:05,  5.45s/it]\u001b[A\u001b[A\u001b[A\u001b[A\u001b[A\u001b[A\u001b[A\u001b[A\u001b[A\u001b[A\u001b[A\u001b[A\u001b[A\n",
      "\n",
      "\n",
      "\n",
      "\n",
      "\n",
      "\n",
      "\n",
      "\n",
      "\n",
      "\n",
      "\n",
      "\n",
      "13it [01:11,  5.45s/it]\u001b[A\u001b[A\u001b[A\u001b[A\u001b[A\u001b[A\u001b[A\u001b[A\u001b[A\u001b[A\u001b[A\u001b[A\u001b[A\n",
      "\n",
      "\n",
      "\n",
      "\n",
      "\n",
      "\n",
      "\n",
      "\n",
      "\n",
      "\n",
      "\n",
      "\n",
      "14it [01:16,  5.44s/it]\u001b[A\u001b[A\u001b[A\u001b[A\u001b[A\u001b[A\u001b[A\u001b[A\u001b[A\u001b[A\u001b[A\u001b[A\u001b[A\n",
      "\n",
      "\n",
      "\n",
      "\n",
      "\n",
      "\n",
      "\n",
      "\n",
      "\n",
      "\n",
      "\n",
      "\n",
      "15it [01:21,  5.44s/it]\u001b[A\u001b[A\u001b[A\u001b[A\u001b[A\u001b[A\u001b[A\u001b[A\u001b[A\u001b[A\u001b[A\u001b[A\u001b[A\n",
      "\n",
      "\n",
      "\n",
      "\n",
      "\n",
      "\n",
      "\n",
      "\n",
      "\n",
      "\n",
      "\n",
      "\n",
      "16it [01:27,  5.44s/it]\u001b[A\u001b[A\u001b[A\u001b[A\u001b[A\u001b[A\u001b[A\u001b[A\u001b[A\u001b[A\u001b[A\u001b[A\u001b[A\n",
      "\n",
      "\n",
      "\n",
      "\n",
      "\n",
      "\n",
      "\n",
      "\n",
      "\n",
      "\n",
      "\n",
      "\n",
      "17it [01:32,  5.44s/it]\u001b[A\u001b[A\u001b[A\u001b[A\u001b[A\u001b[A\u001b[A\u001b[A\u001b[A\u001b[A\u001b[A\u001b[A\u001b[A\n",
      "\n",
      "\n",
      "\n",
      "\n",
      "\n",
      "\n",
      "\n",
      "\n",
      "\n",
      "\n",
      "\n",
      "\n",
      "18it [01:38,  5.43s/it]\u001b[A\u001b[A\u001b[A\u001b[A\u001b[A\u001b[A\u001b[A\u001b[A\u001b[A\u001b[A\u001b[A\u001b[A\u001b[A\n",
      "\n",
      "\n",
      "\n",
      "\n",
      "\n",
      "\n",
      "\n",
      "\n",
      "\n",
      "\n",
      "\n",
      "\n",
      "19it [01:43,  5.44s/it]\u001b[A\u001b[A\u001b[A\u001b[A\u001b[A\u001b[A\u001b[A\u001b[A\u001b[A\u001b[A\u001b[A\u001b[A\u001b[A\n",
      "\n",
      "\n",
      "\n",
      "\n",
      "\n",
      "\n",
      "\n",
      "\n",
      "\n",
      "\n",
      "\n",
      "\n",
      "20it [01:49,  5.44s/it]\u001b[A\u001b[A\u001b[A\u001b[A\u001b[A\u001b[A\u001b[A\u001b[A\u001b[A\u001b[A\u001b[A\u001b[A\u001b[A\n",
      "\n",
      "\n",
      "\n",
      "\n",
      "\n",
      "\n",
      "\n",
      "\n",
      "\n",
      "\n",
      "\n",
      "\n",
      "21it [01:54,  5.45s/it]\u001b[A\u001b[A\u001b[A\u001b[A\u001b[A\u001b[A\u001b[A\u001b[A\u001b[A\u001b[A\u001b[A\u001b[A\u001b[A\n",
      "\n",
      "\n",
      "\n",
      "\n",
      "\n",
      "\n",
      "\n",
      "\n",
      "\n",
      "\n",
      "\n",
      "\n",
      "22it [02:00,  5.43s/it]\u001b[A\u001b[A\u001b[A\u001b[A\u001b[A\u001b[A\u001b[A\u001b[A\u001b[A\u001b[A\u001b[A\u001b[A\u001b[A\n",
      "\n",
      "\n",
      "\n",
      "\n",
      "\n",
      "\n",
      "\n",
      "\n",
      "\n",
      "\n",
      "\n",
      "\n",
      "23it [02:05,  5.43s/it]\u001b[A\u001b[A\u001b[A\u001b[A\u001b[A\u001b[A\u001b[A\u001b[A\u001b[A\u001b[A\u001b[A\u001b[A\u001b[A\n",
      "\n",
      "\n",
      "\n",
      "\n",
      "\n",
      "\n",
      "\n",
      "\n",
      "\n",
      "\n",
      "\n",
      "\n",
      "24it [02:10,  5.44s/it]\u001b[A\u001b[A\u001b[A\u001b[A\u001b[A\u001b[A\u001b[A\u001b[A\u001b[A\u001b[A\u001b[A\u001b[A\u001b[A\n",
      "\n",
      "\n",
      "\n",
      "\n",
      "\n",
      "\n",
      "\n",
      "\n",
      "\n",
      "\n",
      "\n",
      "\n",
      "25it [02:16,  5.44s/it]\u001b[A\u001b[A\u001b[A\u001b[A\u001b[A\u001b[A\u001b[A\u001b[A\u001b[A\u001b[A\u001b[A\u001b[A\u001b[A\n",
      "\n",
      "\n",
      "\n",
      "\n",
      "\n",
      "\n",
      "\n",
      "\n",
      "\n",
      "\n",
      "\n",
      "\n",
      "26it [02:21,  5.44s/it]\u001b[A\u001b[A\u001b[A\u001b[A\u001b[A\u001b[A\u001b[A\u001b[A\u001b[A\u001b[A\u001b[A\u001b[A\u001b[A\n",
      "\n",
      "\n",
      "\n",
      "\n",
      "\n",
      "\n",
      "\n",
      "\n",
      "\n",
      "\n",
      "\n",
      "\n",
      "27it [02:27,  5.44s/it]\u001b[A\u001b[A\u001b[A\u001b[A\u001b[A\u001b[A\u001b[A\u001b[A\u001b[A\u001b[A\u001b[A\u001b[A\u001b[A\n",
      "\n",
      "\n",
      "\n",
      "\n",
      "\n",
      "\n",
      "\n",
      "\n",
      "\n",
      "\n",
      "\n",
      "\n",
      "28it [02:32,  5.44s/it]\u001b[A\u001b[A\u001b[A\u001b[A\u001b[A\u001b[A\u001b[A\u001b[A\u001b[A\u001b[A\u001b[A\u001b[A\u001b[A\n",
      "\n",
      "\n",
      "\n",
      "\n",
      "\n",
      "\n",
      "\n",
      "\n",
      "\n",
      "\n",
      "\n",
      "\n",
      "29it [02:38,  5.44s/it]\u001b[A\u001b[A\u001b[A\u001b[A\u001b[A\u001b[A\u001b[A\u001b[A\u001b[A\u001b[A\u001b[A\u001b[A\u001b[A\n",
      "\n",
      "\n",
      "\n",
      "\n",
      "\n",
      "\n",
      "\n",
      "\n",
      "\n",
      "\n",
      "\n",
      "\n",
      "30it [02:43,  5.44s/it]\u001b[A\u001b[A\u001b[A\u001b[A\u001b[A\u001b[A\u001b[A\u001b[A\u001b[A\u001b[A\u001b[A\u001b[A\u001b[A"
     ]
    },
    {
     "name": "stdout",
     "output_type": "stream",
     "text": [
      "[0049/0120] Reconstruction MSE: 0.02756\n"
     ]
    },
    {
     "name": "stderr",
     "output_type": "stream",
     "text": [
      "\n",
      "\n",
      "\n",
      "\n",
      "\n",
      "\n",
      "\n",
      "\n",
      "\n",
      "\n",
      "\n",
      "\n",
      "\n",
      "31it [02:49,  5.53s/it]\u001b[A\u001b[A\u001b[A\u001b[A\u001b[A\u001b[A\u001b[A\u001b[A\u001b[A\u001b[A\u001b[A\u001b[A\u001b[A\n",
      "\n",
      "\n",
      "\n",
      "\n",
      "\n",
      "\n",
      "\n",
      "\n",
      "\n",
      "\n",
      "\n",
      "\n",
      "32it [02:54,  5.51s/it]\u001b[A\u001b[A\u001b[A\u001b[A\u001b[A\u001b[A\u001b[A\u001b[A\u001b[A\u001b[A\u001b[A\u001b[A\u001b[A"
     ]
    },
    {
     "ename": "KeyboardInterrupt",
     "evalue": "",
     "output_type": "error",
     "traceback": [
      "\u001b[0;31m---------------------------------------------------------------------------\u001b[0m",
      "\u001b[0;31mKeyboardInterrupt\u001b[0m                         Traceback (most recent call last)",
      "\u001b[0;32m<ipython-input-109-b4f1a0e71c1d>\u001b[0m in \u001b[0;36m<module>\u001b[0;34m\u001b[0m\n\u001b[0;32m----> 1\u001b[0;31m \u001b[0mtry_copypasted_find_lr\u001b[0m\u001b[0;34m(\u001b[0m\u001b[0;36m100\u001b[0m\u001b[0;34m)\u001b[0m\u001b[0;34m\u001b[0m\u001b[0;34m\u001b[0m\u001b[0m\n\u001b[0m\u001b[1;32m      2\u001b[0m \u001b[0mtorch\u001b[0m\u001b[0;34m.\u001b[0m\u001b[0msave\u001b[0m\u001b[0;34m(\u001b[0m\u001b[0mmodel\u001b[0m\u001b[0;34m.\u001b[0m\u001b[0mstate_dict\u001b[0m\u001b[0;34m(\u001b[0m\u001b[0;34m)\u001b[0m\u001b[0;34m,\u001b[0m \u001b[0;34m'aenc_after_sgd.pth'\u001b[0m\u001b[0;34m)\u001b[0m\u001b[0;34m\u001b[0m\u001b[0;34m\u001b[0m\u001b[0m\n",
      "\u001b[0;32m<ipython-input-102-b83dd466b791>\u001b[0m in \u001b[0;36mtry_copypasted_find_lr\u001b[0;34m(sgd_epochs, min_lr, max_lr, beta)\u001b[0m\n\u001b[1;32m     31\u001b[0m     \u001b[0mplt\u001b[0m\u001b[0;34m.\u001b[0m\u001b[0mshow\u001b[0m\u001b[0;34m(\u001b[0m\u001b[0;34m)\u001b[0m\u001b[0;34m\u001b[0m\u001b[0;34m\u001b[0m\u001b[0m\n\u001b[1;32m     32\u001b[0m     \u001b[0mprint\u001b[0m\u001b[0;34m(\u001b[0m\u001b[0;34m'Picking lr={:.5e}'\u001b[0m\u001b[0;34m.\u001b[0m\u001b[0mformat\u001b[0m\u001b[0;34m(\u001b[0m\u001b[0mbest_lr\u001b[0m\u001b[0;34m)\u001b[0m\u001b[0;34m)\u001b[0m\u001b[0;34m\u001b[0m\u001b[0;34m\u001b[0m\u001b[0m\n\u001b[0;32m---> 33\u001b[0;31m     \u001b[0mtrainer\u001b[0m\u001b[0;34m.\u001b[0m\u001b[0mtrain_sgd\u001b[0m\u001b[0;34m(\u001b[0m\u001b[0msgd_epochs\u001b[0m\u001b[0;34m,\u001b[0m \u001b[0mlr\u001b[0m\u001b[0;34m=\u001b[0m\u001b[0mbest_lr\u001b[0m\u001b[0;34m)\u001b[0m\u001b[0;34m\u001b[0m\u001b[0;34m\u001b[0m\u001b[0m\n\u001b[0m\u001b[1;32m     34\u001b[0m     \u001b[0mprint\u001b[0m\u001b[0;34m(\u001b[0m\u001b[0;34m'Reconstruction MSE after {} SGD epochs: {:.5f}'\u001b[0m\u001b[0;34m.\u001b[0m\u001b[0mformat\u001b[0m\u001b[0;34m(\u001b[0m\u001b[0msgd_epochs\u001b[0m\u001b[0;34m,\u001b[0m \u001b[0mtrainer\u001b[0m\u001b[0;34m.\u001b[0m\u001b[0mevaluate\u001b[0m\u001b[0;34m(\u001b[0m\u001b[0;34m)\u001b[0m\u001b[0;34m)\u001b[0m\u001b[0;34m)\u001b[0m\u001b[0;34m\u001b[0m\u001b[0;34m\u001b[0m\u001b[0m\n\u001b[1;32m     35\u001b[0m \u001b[0;34m\u001b[0m\u001b[0m\n",
      "\u001b[0;32m<ipython-input-29-bb80ed58bdb6>\u001b[0m in \u001b[0;36mtrain_sgd\u001b[0;34m(self, n_epochs, lr)\u001b[0m\n\u001b[1;32m    159\u001b[0m         \u001b[0;32mfor\u001b[0m \u001b[0me\u001b[0m \u001b[0;32min\u001b[0m \u001b[0mself\u001b[0m\u001b[0;34m.\u001b[0m\u001b[0mmake_epochs\u001b[0m\u001b[0;34m(\u001b[0m\u001b[0mn_epochs\u001b[0m\u001b[0;34m)\u001b[0m\u001b[0;34m:\u001b[0m\u001b[0;34m\u001b[0m\u001b[0;34m\u001b[0m\u001b[0m\n\u001b[1;32m    160\u001b[0m             \u001b[0;32mfor\u001b[0m \u001b[0mx\u001b[0m \u001b[0;32min\u001b[0m \u001b[0mself\u001b[0m\u001b[0;34m.\u001b[0m\u001b[0mdataloader\u001b[0m\u001b[0;34m:\u001b[0m\u001b[0;34m\u001b[0m\u001b[0;34m\u001b[0m\u001b[0m\n\u001b[0;32m--> 161\u001b[0;31m                 \u001b[0mself\u001b[0m\u001b[0;34m.\u001b[0m\u001b[0mgeneric_step\u001b[0m\u001b[0;34m(\u001b[0m\u001b[0mself\u001b[0m\u001b[0;34m.\u001b[0m\u001b[0mmodel\u001b[0m\u001b[0;34m,\u001b[0m \u001b[0mopt\u001b[0m\u001b[0;34m,\u001b[0m \u001b[0mx\u001b[0m\u001b[0;34m)\u001b[0m\u001b[0;34m\u001b[0m\u001b[0;34m\u001b[0m\u001b[0m\n\u001b[0m\u001b[1;32m    162\u001b[0m     \u001b[0;32mdef\u001b[0m \u001b[0mevaluate\u001b[0m\u001b[0;34m(\u001b[0m\u001b[0mself\u001b[0m\u001b[0;34m)\u001b[0m\u001b[0;34m:\u001b[0m\u001b[0;34m\u001b[0m\u001b[0;34m\u001b[0m\u001b[0m\n\u001b[1;32m    163\u001b[0m         \u001b[0mmodel\u001b[0m \u001b[0;34m=\u001b[0m \u001b[0mself\u001b[0m\u001b[0;34m.\u001b[0m\u001b[0mmodel\u001b[0m\u001b[0;34m\u001b[0m\u001b[0;34m\u001b[0m\u001b[0m\n",
      "\u001b[0;32m<ipython-input-29-bb80ed58bdb6>\u001b[0m in \u001b[0;36mgeneric_step\u001b[0;34m(model, optimizer, batch)\u001b[0m\n\u001b[1;32m     45\u001b[0m         \u001b[0mloss\u001b[0m\u001b[0;34m.\u001b[0m\u001b[0mbackward\u001b[0m\u001b[0;34m(\u001b[0m\u001b[0;34m)\u001b[0m\u001b[0;34m\u001b[0m\u001b[0;34m\u001b[0m\u001b[0m\n\u001b[1;32m     46\u001b[0m         \u001b[0moptimizer\u001b[0m\u001b[0;34m.\u001b[0m\u001b[0mstep\u001b[0m\u001b[0;34m(\u001b[0m\u001b[0;34m)\u001b[0m\u001b[0;34m\u001b[0m\u001b[0;34m\u001b[0m\u001b[0m\n\u001b[0;32m---> 47\u001b[0;31m         \u001b[0;32mreturn\u001b[0m \u001b[0mloss\u001b[0m\u001b[0;34m.\u001b[0m\u001b[0mitem\u001b[0m\u001b[0;34m(\u001b[0m\u001b[0;34m)\u001b[0m\u001b[0;34m\u001b[0m\u001b[0;34m\u001b[0m\u001b[0m\n\u001b[0m\u001b[1;32m     48\u001b[0m     \u001b[0;32mdef\u001b[0m \u001b[0mmake_epochs\u001b[0m\u001b[0;34m(\u001b[0m\u001b[0mself\u001b[0m\u001b[0;34m,\u001b[0m \u001b[0mn_epochs\u001b[0m\u001b[0;34m:\u001b[0m \u001b[0mint\u001b[0m\u001b[0;34m)\u001b[0m\u001b[0;34m:\u001b[0m\u001b[0;34m\u001b[0m\u001b[0;34m\u001b[0m\u001b[0m\n\u001b[1;32m     49\u001b[0m         \u001b[0mepochs\u001b[0m \u001b[0;34m=\u001b[0m \u001b[0mself\u001b[0m\u001b[0;34m.\u001b[0m\u001b[0m_make_epochs\u001b[0m\u001b[0;34m(\u001b[0m\u001b[0mn_epochs\u001b[0m\u001b[0;34m)\u001b[0m\u001b[0;34m\u001b[0m\u001b[0;34m\u001b[0m\u001b[0m\n",
      "\u001b[0;31mKeyboardInterrupt\u001b[0m: "
     ]
    }
   ],
   "source": [
    "try_copypasted_find_lr(100)\n",
    "torch.save(model.state_dict(), 'aenc_after_sgd.pth')"
   ]
  },
  {
   "cell_type": "markdown",
   "metadata": {
    "colab_type": "text",
    "id": "tLkLF1hC_eXh"
   },
   "source": [
    "Training may take long, it's okay."
   ]
  },
  {
   "cell_type": "markdown",
   "metadata": {
    "colab_type": "text",
    "id": "twGO5gAa4n7Y"
   },
   "source": [
    "**Check autoencoder shapes along different code_sizes. Check architecture of you encoder-decoder network is correct**"
   ]
  },
  {
   "cell_type": "code",
   "execution_count": null,
   "metadata": {
    "colab": {
     "base_uri": "https://localhost:8080/",
     "height": 148
    },
    "colab_type": "code",
    "id": "HmR7ot5__eXi",
    "outputId": "5379682d-2742-48a5-c9bc-06988f50336c"
   },
   "outputs": [],
   "source": [
    "get_dim = lambda layer: np.prod(layer.output_shape[1:])\n",
    "for code_size in [1,8,32,128,512,1024]:\n",
    "    help_tensor = next(iter(DataLoader(X_train_tensor, batch_size=BATCH_SIZE)))\n",
    "    model = pca_autoencoder_deep(code_size).to(device)\n",
    "    encoder_out = model.enc(help_tensor.type('torch.FloatTensor').to(device))\n",
    "    decoder_out = model.dec(encoder_out)\n",
    "    print(\"Testing code size %i\" % code_size)\n",
    "\n",
    "    assert encoder_out.shape[1:]==torch.Size([code_size]), f\"encoder output size, expected {code_size} got {encoder_out.shape[1:]}\"\n",
    "    assert decoder_out.shape[1:]==img_shape,   \"decoder must output an image of valid shape\"\n",
    "\n",
    "    assert (len(list(model.dec.children())) >= 6),  \"decoder must contain at least 3 dense layers\"\n",
    "\n",
    "print(\"All tests passed!\")"
   ]
  },
  {
   "cell_type": "markdown",
   "metadata": {
    "colab_type": "text",
    "id": "GiNYsxJQ_eXk"
   },
   "source": [
    "__Hint:__ if you're getting \"Encoder layer is smaller than bottleneck\" error, use code_size when defining intermediate layers. \n",
    "\n",
    "For example, such layer may have code_size*2 units."
   ]
  },
  {
   "cell_type": "markdown",
   "metadata": {
    "colab_type": "text",
    "id": "tkJCskEvyixo"
   },
   "source": [
    "** Lets check you model's score. You should beat value of 0.005 **"
   ]
  },
  {
   "cell_type": "code",
   "execution_count": null,
   "metadata": {
    "colab": {
     "base_uri": "https://localhost:8080/",
     "height": 251
    },
    "colab_type": "code",
    "id": "khcs90Yi_eXl",
    "outputId": "457ed763-d456-4aa9-d48b-c32770f510a5"
   },
   "outputs": [],
   "source": [
    "aenc_deep = model\n",
    "dataloader_test = DataLoader(X_test_tensor, batch_size=BATCH_SIZE, shuffle=True)\n",
    "scores = []\n",
    "for i, (batch) in enumerate(dataloader_test):\n",
    "    scores.append(aenc_deep.batch_loss(batch.to(device)).data.cpu().numpy())\n",
    "    # encoder_out = aenc_deep.enc(batch.to(device))\n",
    "reconstruction_mse  = np.mean(scores)\n",
    "\n",
    "assert reconstruction_mse <= 0.005, f\"Compression is too lossy, mse={reconstruction_mse:.5f}, expected no more than .005. See tips below.\"\n",
    "assert len(encoder_out.shape)==2 and encoder_out.shape[1]==32, \"Make sure encoder has code_size units\"\n",
    "print(\"Final MSE:\", reconstruction_mse)\n",
    "for i in range(5):\n",
    "    img = X_test_tensor[i]\n",
    "    visualize(img,aenc_deep)"
   ]
  },
  {
   "cell_type": "markdown",
   "metadata": {
    "colab_type": "text",
    "id": "KNlhwrtc_eXo"
   },
   "source": [
    "__Tips:__ If you keep getting \"Compression to lossy\" error, there's a few things you might try:\n",
    "\n",
    "* Make sure it converged. Some architectures need way more than 32 epochs to converge. They may fluctuate a lot, but eventually they're going to get good enough to pass. You may train your network for as long as you want.\n",
    "\n",
    "* Complexity. If you already have, like, 152 layers and still not passing threshold, you may wish to start from something simpler instead and go in small incremental steps.\n",
    "\n",
    "* Architecture. You can use any combination of layers (including convolutions, normalization, etc) as long as __encoder output only stores 32 numbers per training object__. \n",
    "\n",
    "A cunning learner can circumvent this last limitation by using some manual encoding strategy, but he is strongly recommended to avoid that."
   ]
  },
  {
   "cell_type": "markdown",
   "metadata": {
    "colab_type": "text",
    "id": "JQkFuzTz_eXp"
   },
   "source": [
    "## Denoising AutoEncoder\n",
    "\n",
    "Let's now make our model into a denoising autoencoder.\n",
    "\n",
    "We'll keep your model architecture, but change the way it trains. In particular, we'll corrupt it's input data randomly before each epoch.\n",
    "\n",
    "There are many strategies to apply noise. We'll implement two popular ones: adding gaussian noise and using dropout."
   ]
  },
  {
   "cell_type": "code",
   "execution_count": null,
   "metadata": {
    "colab": {},
    "colab_type": "code",
    "id": "sQUS359N_eXq"
   },
   "outputs": [],
   "source": [
    "def apply_gaussian_noise(X,sigma=0.1):\n",
    "    \"\"\"\n",
    "    adds noise from normal distribution with standard deviation sigma\n",
    "    :param X: image tensor of shape [batch,height,width,3]\n",
    "    \"\"\"\n",
    "        \n",
    "    noise = np.random.randn(*X.shape)*sigma\n",
    "    return X + noise\n",
    "    "
   ]
  },
  {
   "cell_type": "markdown",
   "metadata": {
    "colab_type": "text",
    "id": "xy71ZmuPz1il"
   },
   "source": [
    "**noise tests**"
   ]
  },
  {
   "cell_type": "code",
   "execution_count": null,
   "metadata": {
    "colab": {},
    "colab_type": "code",
    "id": "pslPEzXS_eXs"
   },
   "outputs": [],
   "source": [
    "\n",
    "theoretical_std = (X[:100].std()**2 + 0.5**2)**.5\n",
    "our_std = apply_gaussian_noise(X[:100],sigma=0.5).std()\n",
    "assert abs(theoretical_std - our_std) < 0.01, (\n",
    "    f\"Standard deviation ({our_std:.5f}) does not match it's required value ({theoretical_std:.5f}).\"\n",
    "    \" Make sure you use sigma as std.\"\n",
    ")\n",
    "assert abs(apply_gaussian_noise(X[:100],sigma=0.5).mean() - X[:100].mean()) < 0.01, \"Mean has changed. Please add zero-mean noise\""
   ]
  },
  {
   "cell_type": "code",
   "execution_count": null,
   "metadata": {
    "colab": {},
    "colab_type": "code",
    "id": "unMfBi8q_eXu"
   },
   "outputs": [],
   "source": [
    "plt.subplot(1,4,1)\n",
    "plt.imshow(X[0].transpose([1,2,0]))\n",
    "plt.subplot(1,4,2)\n",
    "plt.imshow(apply_gaussian_noise(X[:1],sigma=0.01)[0].transpose([1,2,0]).clip(0, 1))\n",
    "plt.subplot(1,4,3)\n",
    "plt.imshow(apply_gaussian_noise(X[:1],sigma=0.1)[0].transpose([1,2,0]).clip(0, 1))\n",
    "plt.subplot(1,4,4)\n",
    "plt.imshow(apply_gaussian_noise(X[:1],sigma=0.5)[0].transpose([1,2,0]).clip(0, 1))"
   ]
  },
  {
   "cell_type": "code",
   "execution_count": null,
   "metadata": {
    "colab": {},
    "colab_type": "code",
    "id": "9hHGK_Wr_eXx"
   },
   "outputs": [],
   "source": [
    "def train_noise(model, dataset, num_epoch=50, sigma=0.1, lr=0.002):\n",
    "    model.double()\n",
    "    model.to(device)\n",
    "    gd = optim.Adamax(model.parameters(), lr=lr)\n",
    "    dataloader = DataLoader(dataset, batch_size=BATCH_SIZE, shuffle=True)\n",
    "    losses = []\n",
    "    for epoch in range(num_epoch):\n",
    "        for i, (batch) in enumerate(dataloader):\n",
    "            batch = batch.to(device)\n",
    "            orig = torch.clone(batch)\n",
    "            apply_gaussian_noise(batch, sigma)\n",
    "            gd.zero_grad()\n",
    "            recons = model.dec(model.enc(batch))\n",
    "            loss = torch.sum((orig - recons)**2)\n",
    "            loss.backward()\n",
    "            losses.append(loss.item())\n",
    "            gd.step()\n",
    "            gd.zero_grad()\n",
    "        print(\"#%i, Train loss: %.7f\"%(epoch+1,np.mean(losses)),flush=True)"
   ]
  },
  {
   "cell_type": "code",
   "execution_count": null,
   "metadata": {
    "colab": {},
    "colab_type": "code",
    "id": "MKQK4HJL_eX2"
   },
   "outputs": [],
   "source": [
    "X_train_noise = apply_gaussian_noise(X_train)\n",
    "X_test_noise = apply_gaussian_noise(X_test)"
   ]
  },
  {
   "cell_type": "code",
   "execution_count": null,
   "metadata": {
    "colab": {},
    "colab_type": "code",
    "id": "8ClYTlpa_eX4"
   },
   "outputs": [],
   "source": [
    "X_train_tensor_n = torch.from_numpy(X_train_noise).type(torch.DoubleTensor)\n",
    "X_test_tensor_n = torch.Tensor(X_test_noise).type(torch.DoubleTensor)"
   ]
  },
  {
   "cell_type": "code",
   "execution_count": null,
   "metadata": {
    "colab": {},
    "colab_type": "code",
    "id": "fVD2-ujS_eX8"
   },
   "outputs": [],
   "source": [
    "aenc = pca_autoencoder()\n",
    "train(aenc, X_train_tensor_n, 50)"
   ]
  },
  {
   "cell_type": "markdown",
   "metadata": {
    "colab_type": "text",
    "id": "mlekH4ww_eX_"
   },
   "source": [
    "__Note:__ if it hasn't yet converged, increase the number of iterations.\n",
    "\n",
    "__Bonus:__ replace gaussian noise with masking random rectangles on image."
   ]
  },
  {
   "cell_type": "markdown",
   "metadata": {
    "colab_type": "text",
    "id": "HVj0NPXV3liL"
   },
   "source": [
    "** Let's evaluate!!! **"
   ]
  },
  {
   "cell_type": "code",
   "execution_count": null,
   "metadata": {
    "colab": {},
    "colab_type": "code",
    "id": "pr1Drxb1_eX_"
   },
   "outputs": [],
   "source": [
    "dataloader_test = DataLoader(X_test_tensor_n, batch_size=BATCH_SIZE, shuffle=True)\n",
    "scores = []\n",
    "for i, (batch) in enumerate(dataloader_test):\n",
    "    scores.append(aenc.batch_loss(batch.to(device = device)).data.cpu().numpy())\n",
    "    encoder_out = aenc.enc(batch.cuda(device = device))\n",
    "reconstruction_mse  = np.mean(scores)\n",
    "\n",
    "print(\"Final MSE:\", reconstruction_mse)\n",
    "for i in range(5):\n",
    "    img = X_test_tensor_n[i]\n",
    "    visualize(img,aenc)"
   ]
  },
  {
   "cell_type": "markdown",
   "metadata": {
    "colab_type": "text",
    "id": "weU6quCI_eYE"
   },
   "source": [
    "### Image retrieval with autoencoders\n",
    "\n",
    "So we've just trained a network that converts image into itself imperfectly. This task is not that useful in and of itself, but it has a number of awesome side-effects. Let's see it in action.\n",
    "\n",
    "First thing we can do is image retrieval aka image search. We we give it an image and find similar images in latent space. \n",
    "\n",
    "To speed up retrieval process, we shall use Locality-Sensitive Hashing on top of encoded vectors. We'll use scikit-learn's implementation for simplicity. In practical scenario, you may want to use [specialized libraries](https://erikbern.com/2015/07/04/benchmark-of-approximate-nearest-neighbor-libraries.html) for better performance and customization."
   ]
  },
  {
   "cell_type": "code",
   "execution_count": null,
   "metadata": {
    "colab": {},
    "colab_type": "code",
    "id": "afiR-pC3_eYG"
   },
   "outputs": [],
   "source": [
    "#encodes batch of images into a codes\n",
    "\n",
    "\n",
    "with torch.no_grad():\n",
    "    codes = aenc_deep.enc(X_train)"
   ]
  },
  {
   "cell_type": "code",
   "execution_count": null,
   "metadata": {
    "colab": {},
    "colab_type": "code",
    "id": "nojmuKtb_eYI"
   },
   "outputs": [],
   "source": [
    "assert codes.shape[0] == X_train_tensor.shape[0]"
   ]
  },
  {
   "cell_type": "code",
   "execution_count": null,
   "metadata": {
    "colab": {},
    "colab_type": "code",
    "id": "GfGatyHi_eYK"
   },
   "outputs": [],
   "source": [
    "from sklearn.neighbors import LSHForest\n",
    "lshf = LSHForest(n_estimators=50).fit(codes.detach().cpu().numpy())"
   ]
  },
  {
   "cell_type": "code",
   "execution_count": null,
   "metadata": {
    "colab": {},
    "colab_type": "code",
    "id": "FYhbhxLz_eYN"
   },
   "outputs": [],
   "source": [
    "images = torch.from_numpy(X_train).type(torch.DoubleTensor)"
   ]
  },
  {
   "cell_type": "code",
   "execution_count": null,
   "metadata": {
    "colab": {},
    "colab_type": "code",
    "id": "shw1V6Zn_eYP"
   },
   "outputs": [],
   "source": [
    "def get_similar(image, n_neighbors=5):\n",
    "    assert len(image.shape)==3,\"image must be [batch,height,width,3]\"\n",
    "\n",
    "    code = aenc.enc(image.cuda(device)).detach().cpu().numpy()\n",
    "    \n",
    "    (distances,),(idx,) = #<Your code: using lshf.kneighbors find nearest neighbors>\n",
    "    \n",
    "    return distances,images[idx]"
   ]
  },
  {
   "cell_type": "code",
   "execution_count": null,
   "metadata": {
    "colab": {},
    "colab_type": "code",
    "id": "5JkabL1A_eYQ"
   },
   "outputs": [],
   "source": [
    "def show_similar(image):\n",
    "    \n",
    "    distances,neighbors = get_similar(image,n_neighbors=11)\n",
    "    \n",
    "    plt.figure(figsize=[8,6])\n",
    "    plt.subplot(3,4,1)\n",
    "    plt.imshow(image.cpu().numpy().transpose([1,2,0]))\n",
    "    plt.title(\"Original image\")\n",
    "    \n",
    "    for i in range(11):\n",
    "        plt.subplot(3,4,i+2)\n",
    "        plt.imshow(neighbors[i].cpu().numpy().transpose([1,2,0]))\n",
    "        plt.title(\"Dist=%.3f\"%distances[i])\n",
    "    plt.show()"
   ]
  },
  {
   "cell_type": "code",
   "execution_count": null,
   "metadata": {
    "colab": {},
    "colab_type": "code",
    "id": "VG_0tXSq_eYT"
   },
   "outputs": [],
   "source": [
    "#smiles\n",
    "show_similar(X_test_tensor[2])"
   ]
  },
  {
   "cell_type": "code",
   "execution_count": null,
   "metadata": {
    "colab": {},
    "colab_type": "code",
    "id": "4Z25ZSQO_eYV"
   },
   "outputs": [],
   "source": [
    "#ethnicity\n",
    "show_similar(X_test_tensor[500])"
   ]
  },
  {
   "cell_type": "code",
   "execution_count": null,
   "metadata": {
    "colab": {},
    "colab_type": "code",
    "id": "uPyK6-vk_eYf"
   },
   "outputs": [],
   "source": [
    "#glasses\n",
    "show_similar(X_test_tensor[66])"
   ]
  },
  {
   "cell_type": "markdown",
   "metadata": {
    "colab_type": "text",
    "id": "piVrNWXZ_eYn"
   },
   "source": [
    "## Cheap image morphing\n"
   ]
  },
  {
   "cell_type": "markdown",
   "metadata": {
    "colab_type": "text",
    "id": "DYqDtg6K2z5e"
   },
   "source": [
    "Here you should take two full-sized objects, code it and obtain intermediate object by decoding an intermixture code.\n",
    "\n",
    "$Code_{mixt} = a1\\cdot code1 + a2\\cdot code2$"
   ]
  },
  {
   "cell_type": "code",
   "execution_count": null,
   "metadata": {
    "colab": {},
    "colab_type": "code",
    "id": "IFDk4E7N_eYr"
   },
   "outputs": [],
   "source": [
    "\n",
    "for _ in range(5):\n",
    "    image1,image2 =#<Your code:choose two image randomly>\n",
    "\n",
    "    code1, code2 = #<Your code:decode it>\n",
    "\n",
    "\n",
    "    plt.figure(figsize=[10,4])\n",
    "    for i,a in enumerate(np.linspace(0,1,num=7)):\n",
    "\n",
    "        output_code = #<Your code:define intermixture code>\n",
    "\n",
    "        output_image = aenc.dec(output_code[None])[0]\n",
    "        plt.subplot(1,7,i+1)\n",
    "        plt.imshow(output_image.cpu().detach().numpy().transpose([1,2,0]))\n",
    "        plt.title(\"a=%.2f\"%a)\n",
    "        \n",
    "    plt.show()"
   ]
  },
  {
   "cell_type": "markdown",
   "metadata": {
    "colab_type": "text",
    "id": "lKZTo47L_eYu"
   },
   "source": [
    "Of course there's a lot more you can do with autoencoders.\n",
    "\n",
    "If you want to generate images from scratch, however, we recommend you our honor track seminar about generative adversarial networks."
   ]
  }
 ],
 "metadata": {
  "accelerator": "GPU",
  "colab": {
   "collapsed_sections": [],
   "name": "hw3aenc.ipynb",
   "provenance": [],
   "version": "0.3.2"
  },
  "kernelspec": {
   "display_name": "Python 3",
   "language": "python",
   "name": "python3"
  },
  "language_info": {
   "codemirror_mode": {
    "name": "ipython",
    "version": 3
   },
   "file_extension": ".py",
   "mimetype": "text/x-python",
   "name": "python",
   "nbconvert_exporter": "python",
   "pygments_lexer": "ipython3",
   "version": "3.6.8"
  }
 },
 "nbformat": 4,
 "nbformat_minor": 2
}
