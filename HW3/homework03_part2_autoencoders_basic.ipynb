{
  "nbformat": 4,
  "nbformat_minor": 0,
  "metadata": {
    "colab": {
      "name": "homework03_part2_autoencoders_basic.ipynb",
      "version": "0.3.2",
      "provenance": [],
      "collapsed_sections": []
    },
    "language_info": {
      "codemirror_mode": {
        "name": "ipython",
        "version": 3
      },
      "file_extension": ".py",
      "mimetype": "text/x-python",
      "name": "python",
      "nbconvert_exporter": "python",
      "pygments_lexer": "ipython3",
      "version": "3.7.2"
    },
    "kernelspec": {
      "display_name": "Python 3",
      "language": "python",
      "name": "python3"
    },
    "accelerator": "GPU"
  },
  "cells": [
    {
      "metadata": {
        "colab_type": "text",
        "id": "VBNHzOrf_eWj"
      },
      "cell_type": "markdown",
      "source": [
        "### Denoising Autoencoders And Where To Find Them\n",
        "\n",
        "Today we're going to train deep autoencoders and deploy them to faces and search for similar images.\n",
        "\n",
        "Our new test subjects are human faces from the [lfw dataset](http://vis-www.cs.umass.edu/lfw/)."
      ]
    },
    {
      "metadata": {
        "colab_type": "text",
        "id": "H4hWkdhe_eWl"
      },
      "cell_type": "markdown",
      "source": [
        "**Collab setting**"
      ]
    },
    {
      "metadata": {
        "colab_type": "code",
        "id": "C9GUvLcu_eWm",
        "outputId": "c18c88da-a582-41e1-d81e-d025f70c2e7a",
        "colab": {
          "base_uri": "https://localhost:8080/",
          "height": 225
        }
      },
      "cell_type": "code",
      "source": [
        "# if you're running in colab,\n",
        "# 1. go to Runtime -> Change Runtimy Type -> GPU\n",
        "# 2. uncomment this:\n",
        "!wget https://raw.githubusercontent.com/yandexdataschool/Practical_DL/hw3_19/homework03/lfw_dataset.py -O lfw_dataset.py"
      ],
      "execution_count": 0,
      "outputs": [
        {
          "output_type": "stream",
          "text": [
            "--2019-05-01 10:36:25--  https://raw.githubusercontent.com/yandexdataschool/Practical_DL/hw3_19/homework03/lfw_dataset.py\n",
            "Resolving raw.githubusercontent.com (raw.githubusercontent.com)... 151.101.0.133, 151.101.64.133, 151.101.128.133, ...\n",
            "Connecting to raw.githubusercontent.com (raw.githubusercontent.com)|151.101.0.133|:443... connected.\n",
            "HTTP request sent, awaiting response... 200 OK\n",
            "Length: 2734 (2.7K) [text/plain]\n",
            "Saving to: ‘lfw_dataset.py’\n",
            "\n",
            "lfw_dataset.py      100%[===================>]   2.67K  --.-KB/s    in 0s      \n",
            "\n",
            "2019-05-01 10:36:30 (62.2 MB/s) - ‘lfw_dataset.py’ saved [2734/2734]\n",
            "\n"
          ],
          "name": "stdout"
        }
      ]
    },
    {
      "metadata": {
        "colab_type": "code",
        "id": "o7jFIMZd_eWp",
        "colab": {}
      },
      "cell_type": "code",
      "source": [
        "import torch\n",
        "import numpy as np\n",
        "\n",
        "from torch.utils.data import Dataset, DataLoader\n",
        "import torch.nn as nn\n",
        "import torch.nn.functional as F\n",
        "import torch.optim as optim\n",
        "\n",
        "\n",
        "EPOCHS = 100\n",
        "BATCH_SIZE = 32\n",
        "LEARNING_RATE = 1e-3\n",
        "\n",
        "LATENT_DIMENSION = 4\n",
        "BATCH_SIZE = 32\n",
        "\n",
        "device = torch.device(\"cuda\" if torch.cuda.is_available() else \"cpu\")"
      ],
      "execution_count": 0,
      "outputs": []
    },
    {
      "metadata": {
        "colab_type": "code",
        "id": "CRWV1ryH_eWv",
        "outputId": "6b2094f2-8bad-4c68-a517-799c30c93fd8",
        "colab": {
          "base_uri": "https://localhost:8080/",
          "height": 111
        }
      },
      "cell_type": "code",
      "source": [
        "import numpy as np\n",
        "from lfw_dataset import fetch_lfw_dataset\n",
        "from sklearn.model_selection import train_test_split\n",
        "X, attr = fetch_lfw_dataset(use_raw=True,dimx=38,dimy=38)\n",
        "X = X.transpose([0,3,1,2]).astype('float32') / 256.0\n",
        "\n",
        "img_shape = X.shape[1:]\n",
        "\n",
        "X_train, X_test = train_test_split(X, test_size=0.1,random_state=42)"
      ],
      "execution_count": 0,
      "outputs": [
        {
          "output_type": "stream",
          "text": [
            "images not found, donwloading...\n",
            "extracting...\n",
            "done\n",
            "attributes not found, downloading...\n",
            "done\n"
          ],
          "name": "stdout"
        }
      ]
    },
    {
      "metadata": {
        "colab_type": "code",
        "id": "3fAdhPn2_eWy",
        "colab": {}
      },
      "cell_type": "code",
      "source": [
        "X_train_tensor = torch.from_numpy(X_train).type(torch.DoubleTensor)\n",
        "X_test_tensor = torch.Tensor(X_test).type(torch.DoubleTensor)"
      ],
      "execution_count": 0,
      "outputs": []
    },
    {
      "metadata": {
        "colab_type": "code",
        "id": "FV1efJSM_eW0",
        "outputId": "9618c07d-8e17-4bdb-abcd-7d15cf259a64",
        "colab": {
          "base_uri": "https://localhost:8080/",
          "height": 36
        }
      },
      "cell_type": "code",
      "source": [
        "img_shape"
      ],
      "execution_count": 0,
      "outputs": [
        {
          "output_type": "execute_result",
          "data": {
            "text/plain": [
              "(3, 38, 38)"
            ]
          },
          "metadata": {
            "tags": []
          },
          "execution_count": 5
        }
      ]
    },
    {
      "metadata": {
        "colab_type": "code",
        "id": "MSVm1sIK_eW4",
        "outputId": "87956a55-0b1f-419a-a834-4addd839b805",
        "colab": {
          "base_uri": "https://localhost:8080/",
          "height": 306
        }
      },
      "cell_type": "code",
      "source": [
        "%matplotlib inline\n",
        "import matplotlib.pyplot as plt\n",
        "plt.title('sample image')\n",
        "for i in range(6):\n",
        "    plt.subplot(2,3,i+1)\n",
        "    plt.imshow(X[i].transpose([1,2,0]))\n",
        "\n",
        "print(\"X shape:\",X.shape)\n",
        "print(\"attr shape:\",attr.shape)"
      ],
      "execution_count": 0,
      "outputs": [
        {
          "output_type": "stream",
          "text": [
            "X shape: (13143, 3, 38, 38)\n",
            "attr shape: (13143, 73)\n"
          ],
          "name": "stdout"
        },
        {
          "output_type": "display_data",
          "data": {
            "image/png": "[encoded data removed]",
            "text/plain": [
              "<Figure size 432x288 with 6 Axes>"
            ]
          },
          "metadata": {
            "tags": []
          }
        }
      ]
    },
    {
      "metadata": {
        "colab_type": "text",
        "id": "csBv6bf1_eW7"
      },
      "cell_type": "markdown",
      "source": [
        "### Autoencoder architecture\n",
        "\n",
        "Let's design autoencoder as a single lasagne network, going from input image through bottleneck into the reconstructed image.\n",
        "\n",
        "<img src=\"http://nghiaho.com/wp-content/uploads/2012/12/autoencoder_network1.png\" width=640px>\n",
        "\n"
      ]
    },
    {
      "metadata": {
        "colab_type": "text",
        "id": "O6fFezL-_eW8"
      },
      "cell_type": "markdown",
      "source": [
        "## First step: PCA\n",
        "\n",
        "Principial Component Analysis is a popular dimensionality reduction method. \n",
        "\n",
        "Under the hood, PCA attempts to decompose object-feature matrix $X$ into two smaller matrices: $W$ and $\\hat W$ minimizing _mean squared error_:\n",
        "\n",
        "$$\\|(X W) \\hat{W} - X\\|^2_2 \\to_{W, \\hat{W}} \\min$$\n",
        "- $X \\in \\mathbb{R}^{n \\times m}$ - object matrix (**centered**);\n",
        "- $W \\in \\mathbb{R}^{m \\times d}$ - matrix of direct transformation;\n",
        "- $\\hat{W} \\in \\mathbb{R}^{d \\times m}$ - matrix of reverse transformation;\n",
        "- $n$ samples, $m$ original dimensions and $d$ target dimensions;\n",
        "\n",
        "In geometric terms, we want to find d axes along which most of variance occurs. The \"natural\" axes, if you wish.\n",
        "\n",
        "![](https://upload.wikimedia.org/wikipedia/commons/thumb/9/90/PCA_fish.png/256px-PCA_fish.png)\n",
        "\n",
        "\n",
        "PCA can also be seen as a special case of an autoencoder.\n",
        "\n",
        "* __Encoder__: X -> Dense(d units) -> code\n",
        "* __Decoder__: code -> Dense(m units) -> X\n",
        "\n",
        "Where Dense is a fully-connected layer with linear activaton:   $f(X) = W \\cdot X + \\vec b $\n",
        "\n",
        "\n",
        "Note: the bias term in those layers is responsible for \"centering\" the matrix i.e. substracting mean."
      ]
    },
    {
      "metadata": {
        "colab_type": "code",
        "id": "2JTeWcCc_eW9",
        "colab": {}
      },
      "cell_type": "code",
      "source": [
        "# this class corresponds to view-function and may be used as a reshape layer \n",
        "\n",
        "class View(nn.Module):\n",
        "    def __init__(self, *shape):\n",
        "        super(View, self).__init__()\n",
        "        self.shape = shape\n",
        "    def forward(self, input):\n",
        "        return input.view(*self.shape)"
      ],
      "execution_count": 0,
      "outputs": []
    },
    {
      "metadata": {
        "colab_type": "code",
        "id": "gB5hwVLe_eW_",
        "colab": {}
      },
      "cell_type": "code",
      "source": [
        "class pca_autoencoder(nn.Module):\n",
        "    \"\"\"\n",
        "    Here we define a simple linear autoencoder as described above.\n",
        "    We also flatten and un-flatten data to be compatible with image shapes\n",
        "    \"\"\"\n",
        "    \n",
        "    def __init__(self, code_size=32, n=38):\n",
        "        super(pca_autoencoder, self).__init__()\n",
        "        self.enc = nn.Linear(n, code_size)\n",
        "        self.dec = nn.Linear(code_size , n)\n",
        "    \n",
        "    def batch_loss(self, batch):\n",
        "        reconstruction = self.dec(self.enc(batch))\n",
        "        return torch.mean((batch - reconstruction)**2)\n",
        "    "
      ],
      "execution_count": 0,
      "outputs": []
    },
    {
      "metadata": {
        "colab_type": "text",
        "id": "69_Da_I7_eXB"
      },
      "cell_type": "markdown",
      "source": [
        "### Train the model\n",
        "\n",
        "As usual, iterate minibatches of data and call train_step, then evaluate loss on validation data.\n",
        "\n",
        "__Note to py2 users:__ you can safely drop `flush=True` from any code below."
      ]
    },
    {
      "metadata": {
        "colab_type": "code",
        "id": "7sbvg3Z__eXD",
        "colab": {}
      },
      "cell_type": "code",
      "source": [
        "def train(model, dataset, num_epoch=32):\n",
        "    model.double()\n",
        "    model.to(device)\n",
        "    gd = optim.Adamax(model.parameters(), lr=0.002)\n",
        "    dataloader = DataLoader(dataset, batch_size=BATCH_SIZE, shuffle=True)\n",
        "    losses = []\n",
        "    for epoch in range(num_epoch):\n",
        "        for i, (batch) in enumerate(dataloader):\n",
        "            gd.zero_grad()\n",
        "            loss = model.batch_loss(batch.to(device))\n",
        "            (loss).backward()\n",
        "            losses.append(loss.detach().cpu().numpy())\n",
        "            gd.step()\n",
        "            gd.zero_grad()\n",
        "        print(\"#%i, Train loss: %.7f\"%(epoch+1,np.mean(losses)),flush=True)"
      ],
      "execution_count": 0,
      "outputs": []
    },
    {
      "metadata": {
        "colab_type": "code",
        "id": "wj7YPamq_eXF",
        "colab": {}
      },
      "cell_type": "code",
      "source": [
        "def visualize(img, model):\n",
        "    \"\"\"Draws original, encoded and decoded images\"\"\"\n",
        "    code = model.enc(img[None].to(device))\n",
        "    reco = model.dec(code)\n",
        "\n",
        "    plt.subplot(1,3,1)\n",
        "    plt.title(\"Original\")\n",
        "    plt.imshow(img.cpu().numpy().transpose([1, 2, 0]).clip(0, 1))\n",
        "\n",
        "    plt.subplot(1,3,2)\n",
        "    plt.title(\"Code\")\n",
        "    plt.imshow(code.cpu().detach().numpy().reshape([code.shape[-1] // 2, -1]))\n",
        "\n",
        "    plt.subplot(1,3,3)\n",
        "    plt.title(\"Reconstructed\")\n",
        "    plt.imshow(reco[0].cpu().detach().numpy().transpose([1, 2, 0]).clip(0, 1))\n",
        "    plt.show()\n"
      ],
      "execution_count": 0,
      "outputs": []
    },
    {
      "metadata": {
        "colab_type": "code",
        "id": "4jkVqhLd_eXI",
        "outputId": "cfb75916-cdd8-42a3-a4e9-a642244d64da",
        "colab": {
          "base_uri": "https://localhost:8080/",
          "height": 772
        }
      },
      "cell_type": "code",
      "source": [
        "aenc = pca_autoencoder()\n",
        "train(aenc, X_train_tensor, 40)"
      ],
      "execution_count": 0,
      "outputs": [
        {
          "output_type": "stream",
          "text": [
            "#1, Train loss: 0.0210396\n",
            "#2, Train loss: 0.0134686\n",
            "#3, Train loss: 0.0102090\n",
            "#4, Train loss: 0.0082916\n",
            "#5, Train loss: 0.0069728\n",
            "#6, Train loss: 0.0060008\n",
            "#7, Train loss: 0.0052612\n",
            "#8, Train loss: 0.0046793\n",
            "#9, Train loss: 0.0042074\n",
            "#10, Train loss: 0.0038176\n",
            "#11, Train loss: 0.0034919\n",
            "#12, Train loss: 0.0032162\n",
            "#13, Train loss: 0.0029797\n",
            "#14, Train loss: 0.0027748\n",
            "#15, Train loss: 0.0025957\n",
            "#16, Train loss: 0.0024379\n",
            "#17, Train loss: 0.0022980\n",
            "#18, Train loss: 0.0021732\n",
            "#19, Train loss: 0.0020612\n",
            "#20, Train loss: 0.0019601\n",
            "#21, Train loss: 0.0018685\n",
            "#22, Train loss: 0.0017852\n",
            "#23, Train loss: 0.0017090\n",
            "#24, Train loss: 0.0016391\n",
            "#25, Train loss: 0.0015747\n",
            "#26, Train loss: 0.0015153\n",
            "#27, Train loss: 0.0014602\n",
            "#28, Train loss: 0.0014090\n",
            "#29, Train loss: 0.0013614\n",
            "#30, Train loss: 0.0013169\n",
            "#31, Train loss: 0.0012752\n",
            "#32, Train loss: 0.0012361\n",
            "#33, Train loss: 0.0011994\n",
            "#34, Train loss: 0.0011648\n",
            "#35, Train loss: 0.0011322\n",
            "#36, Train loss: 0.0011014\n",
            "#37, Train loss: 0.0010722\n",
            "#38, Train loss: 0.0010445\n",
            "#39, Train loss: 0.0010183\n",
            "#40, Train loss: 0.0009934\n"
          ],
          "name": "stdout"
        }
      ]
    },
    {
      "metadata": {
        "colab_type": "code",
        "id": "RqTUvLp8_eXM",
        "outputId": "21768e55-24b8-4cd7-b6e6-7db04e5a95d9",
        "colab": {
          "base_uri": "https://localhost:8080/",
          "height": 36
        }
      },
      "cell_type": "code",
      "source": [
        "dataloader_test = DataLoader(X_test_tensor, batch_size=BATCH_SIZE, shuffle=True)\n",
        "scores = []\n",
        "for i, (batch) in enumerate(dataloader_test):\n",
        "    scores.append(aenc.batch_loss(batch.to(device)).data.cpu().numpy())\n",
        "print (np.mean(scores))"
      ],
      "execution_count": 0,
      "outputs": [
        {
          "output_type": "stream",
          "text": [
            "2.091765779895569e-05\n"
          ],
          "name": "stdout"
        }
      ]
    },
    {
      "metadata": {
        "colab_type": "code",
        "id": "cvljk13x_eXP",
        "outputId": "866eb8b5-c802-4647-b0f3-2ccabc932bb8",
        "colab": {
          "base_uri": "https://localhost:8080/",
          "height": 742
        }
      },
      "cell_type": "code",
      "source": [
        "for i in range(5):\n",
        "    img = X_test_tensor[i]\n",
        "    visualize(img,aenc)\n"
      ],
      "execution_count": 0,
      "outputs": [
        {
          "output_type": "display_data",
          "data": {
            "image/png": "[encoded data removed]",
            "text/plain": [
              "<Figure size 432x288 with 3 Axes>"
            ]
          },
          "metadata": {
            "tags": []
          }
        },
        {
          "output_type": "display_data",
          "data": {
            "image/png": "[encoded data removed]",
            "text/plain": [
              "<Figure size 432x288 with 3 Axes>"
            ]
          },
          "metadata": {
            "tags": []
          }
        },
        {
          "output_type": "display_data",
          "data": {
            "image/png": "[encoded data removed]",
            "text/plain": [
              "<Figure size 432x288 with 3 Axes>"
            ]
          },
          "metadata": {
            "tags": []
          }
        },
        {
          "output_type": "display_data",
          "data": {
            "image/png": "[encoded data removed]",
            "text/plain": [
              "<Figure size 432x288 with 3 Axes>"
            ]
          },
          "metadata": {
            "tags": []
          }
        },
        {
          "output_type": "display_data",
          "data": {
            "image/png": "[encoded data removed]",
            "text/plain": [
              "<Figure size 432x288 with 3 Axes>"
            ]
          },
          "metadata": {
            "tags": []
          }
        }
      ]
    },
    {
      "metadata": {
        "colab_type": "text",
        "id": "NIurZSFN_eXV"
      },
      "cell_type": "markdown",
      "source": [
        "### Going deeper\n",
        "\n",
        "PCA is neat but surely we can do better. This time we want you to build a deep autoencoder by... stacking more layers.\n",
        "\n",
        "In particular, your encoder and decoder should be at least 3 layers deep each. You can use any nonlinearity you want and any number of hidden units in non-bottleneck layers provided you can actually afford training it.\n",
        "\n",
        "![layers](https://pbs.twimg.com/media/CYggEo-VAAACg_n.png:small)\n",
        "\n",
        "A few sanity checks:\n",
        "* There shouldn't be any hidden layer smaller than bottleneck (encoder output).\n",
        "* Don't forget to insert nonlinearities between intermediate dense layers.\n",
        "* Convolutional layers are good idea. To undo convolution use L.Deconv2D, pooling - L.UpSampling2D.\n",
        "* Adding activation after bottleneck is allowed, but not strictly necessary."
      ]
    },
    {
      "metadata": {
        "id": "OOaXN8gaU4ES",
        "colab_type": "code",
        "outputId": "ddafe98e-71f9-48a2-b809-82bb1b070530",
        "colab": {
          "base_uri": "https://localhost:8080/",
          "height": 225
        }
      },
      "cell_type": "code",
      "source": [
        "! wget https://gist.githubusercontent.com/jeasinema/ed9236ce743c8efaf30fa2ff732749f5/raw/d837f5c96a727d1b3292a3eedf06c19aca6c1a8a/weight_init.py"
      ],
      "execution_count": 0,
      "outputs": [
        {
          "output_type": "stream",
          "text": [
            "--2019-05-01 12:17:03--  https://gist.githubusercontent.com/jeasinema/ed9236ce743c8efaf30fa2ff732749f5/raw/d837f5c96a727d1b3292a3eedf06c19aca6c1a8a/weight_init.py\n",
            "Resolving gist.githubusercontent.com (gist.githubusercontent.com)... 151.101.0.133, 151.101.64.133, 151.101.128.133, ...\n",
            "Connecting to gist.githubusercontent.com (gist.githubusercontent.com)|151.101.0.133|:443... connected.\n",
            "HTTP request sent, awaiting response... 200 OK\n",
            "Length: 2511 (2.5K) [text/plain]\n",
            "Saving to: ‘weight_init.py’\n",
            "\n",
            "\rweight_init.py        0%[                    ]       0  --.-KB/s               \rweight_init.py      100%[===================>]   2.45K  --.-KB/s    in 0s      \n",
            "\n",
            "2019-05-01 12:17:03 (33.6 MB/s) - ‘weight_init.py’ saved [2511/2511]\n",
            "\n"
          ],
          "name": "stdout"
        }
      ]
    },
    {
      "metadata": {
        "colab_type": "code",
        "id": "IGP0HAr3_eXW",
        "colab": {}
      },
      "cell_type": "code",
      "source": [
        "from weight_init import weight_init\n",
        "\n",
        "\n",
        "def enc_block(in_feats, out_feats, kernel_size=(3, 3), stride=1, padding=0, bn=True):\n",
        "    return [\n",
        "            nn.Conv2d(in_feats, out_feats, kernel_size=kernel_size, padding=padding, stride=stride),\n",
        "            *([nn.BatchNorm2d(out_feats)] if bn else []),\n",
        "            nn.ReLU(),\n",
        "    ]\n",
        "\n",
        "def dec_block(in_feats, out_feats,  kernel_size=(3, 3), stride=1, padding=0, bn=True):\n",
        "    return [\n",
        "            nn.ConvTranspose2d(in_feats, out_feats, kernel_size=kernel_size, padding=padding, stride=stride),\n",
        "            *([nn.BatchNorm2d(out_feats)] if bn else []),\n",
        "            nn.ReLU(),\n",
        "    ]\n",
        "\n",
        "class DummyDims(nn.Module):\n",
        "    def __init__(self, squeeze=True, dims=[]):\n",
        "        super(DummyDims, self).__init__()\n",
        "        self.squeeze = squeeze\n",
        "        self.dims = tuple(dims)\n",
        "    def forward(self, input):\n",
        "        if self.squeeze:\n",
        "            for d in self.dims:\n",
        "                input = input.squeeze(d)\n",
        "        else:\n",
        "            for d in self.dims:\n",
        "                input = input.unsqueeze(d)\n",
        "        return input\n",
        "\n",
        "class pca_autoencoder_deep(nn.Module):\n",
        "    def __init__(self, code_size=32, n=38, depth=3, log_basewidth=2, trailing_1x1=False, bn=True):\n",
        "        super(pca_autoencoder_deep, self).__init__()\n",
        "        sizes = [3] + [code_size * (log_basewidth**(k-1)) for k in range(depth, 0, -1)]\n",
        "        sizes = list(zip(sizes, sizes[1:]))\n",
        "        enc_layers = sum((enc_block(s1, s2, kernel_size=3 if s1 != 2 else 1, padding=1, bn=bn) for s1, s2 in sizes), [])\n",
        "        dec_layers = sum((dec_block(s2, s1, kernel_size=3 if s1 != 2 else 1, padding=1, bn=bn) for s1, s2 in reversed(sizes)), [])\n",
        "        if trailing_1x1:\n",
        "          dec_layers.append(torch.nn.Conv2d(3, 3, kernel_size=1))\n",
        "        self.enc = nn.Sequential(\n",
        "            *enc_layers,\n",
        "            nn.AdaptiveMaxPool2d(1),\n",
        "            DummyDims(squeeze=True, dims=[-1, -1]),\n",
        "        )\n",
        "        self.dec = nn.Sequential(\n",
        "            DummyDims(squeeze=False, dims=[-1, -1]),\n",
        "            nn.Upsample((n, n)),\n",
        "            *dec_layers,\n",
        "        )\n",
        "        self.apply(weight_init)\n",
        "    def batch_loss(self, batch):\n",
        "        reconstruction = self.dec(self.enc(batch))\n",
        "        return torch.mean((batch - reconstruction)**2)"
      ],
      "execution_count": 0,
      "outputs": []
    },
    {
      "metadata": {
        "colab_type": "code",
        "id": "vtSWYDsB_eXc",
        "outputId": "239c8fe7-f78b-4e49-96d3-9913645edfc2",
        "colab": {
          "base_uri": "https://localhost:8080/",
          "height": 460
        }
      },
      "cell_type": "code",
      "source": [
        "aenc_deep = pca_autoencoder_deep(depth=4, log_basewidth=2, bn=True)\n",
        "train(aenc_deep, X_train_tensor, 20)"
      ],
      "execution_count": 0,
      "outputs": [
        {
          "output_type": "stream",
          "text": [
            "/usr/local/lib/python3.6/dist-packages/torch/nn/modules/upsampling.py:129: UserWarning: nn.Upsample is deprecated. Use nn.functional.interpolate instead.\n",
            "  warnings.warn(\"nn.{} is deprecated. Use nn.functional.interpolate instead.\".format(self.name))\n"
          ],
          "name": "stderr"
        },
        {
          "output_type": "stream",
          "text": [
            "#1, Train loss: 0.0692797\n",
            "#2, Train loss: 0.0579583\n",
            "#3, Train loss: 0.0514940\n",
            "#4, Train loss: 0.0468940\n",
            "#5, Train loss: 0.0436110\n"
          ],
          "name": "stdout"
        },
        {
          "output_type": "error",
          "ename": "KeyboardInterrupt",
          "evalue": "ignored",
          "traceback": [
            "\u001b[0;31m---------------------------------------------------------------------------\u001b[0m",
            "\u001b[0;31mKeyboardInterrupt\u001b[0m                         Traceback (most recent call last)",
            "\u001b[0;32m<ipython-input-47-ce1106991a8f>\u001b[0m in \u001b[0;36m<module>\u001b[0;34m()\u001b[0m\n\u001b[1;32m      1\u001b[0m \u001b[0maenc_deep\u001b[0m \u001b[0;34m=\u001b[0m \u001b[0mpca_autoencoder_deep\u001b[0m\u001b[0;34m(\u001b[0m\u001b[0mdepth\u001b[0m\u001b[0;34m=\u001b[0m\u001b[0;36m4\u001b[0m\u001b[0;34m,\u001b[0m \u001b[0mlog_basewidth\u001b[0m\u001b[0;34m=\u001b[0m\u001b[0;36m2\u001b[0m\u001b[0;34m,\u001b[0m \u001b[0mbn\u001b[0m\u001b[0;34m=\u001b[0m\u001b[0;32mTrue\u001b[0m\u001b[0;34m)\u001b[0m\u001b[0;34m\u001b[0m\u001b[0;34m\u001b[0m\u001b[0m\n\u001b[0;32m----> 2\u001b[0;31m \u001b[0mtrain\u001b[0m\u001b[0;34m(\u001b[0m\u001b[0maenc_deep\u001b[0m\u001b[0;34m,\u001b[0m \u001b[0mX_train_tensor\u001b[0m\u001b[0;34m,\u001b[0m \u001b[0;36m20\u001b[0m\u001b[0;34m)\u001b[0m\u001b[0;34m\u001b[0m\u001b[0;34m\u001b[0m\u001b[0m\n\u001b[0m",
            "\u001b[0;32m<ipython-input-9-ec86dcde21ca>\u001b[0m in \u001b[0;36mtrain\u001b[0;34m(model, dataset, num_epoch)\u001b[0m\n\u001b[1;32m     10\u001b[0m             \u001b[0mloss\u001b[0m \u001b[0;34m=\u001b[0m \u001b[0mmodel\u001b[0m\u001b[0;34m.\u001b[0m\u001b[0mbatch_loss\u001b[0m\u001b[0;34m(\u001b[0m\u001b[0mbatch\u001b[0m\u001b[0;34m.\u001b[0m\u001b[0mto\u001b[0m\u001b[0;34m(\u001b[0m\u001b[0mdevice\u001b[0m\u001b[0;34m)\u001b[0m\u001b[0;34m)\u001b[0m\u001b[0;34m\u001b[0m\u001b[0;34m\u001b[0m\u001b[0m\n\u001b[1;32m     11\u001b[0m             \u001b[0;34m(\u001b[0m\u001b[0mloss\u001b[0m\u001b[0;34m)\u001b[0m\u001b[0;34m.\u001b[0m\u001b[0mbackward\u001b[0m\u001b[0;34m(\u001b[0m\u001b[0;34m)\u001b[0m\u001b[0;34m\u001b[0m\u001b[0;34m\u001b[0m\u001b[0m\n\u001b[0;32m---> 12\u001b[0;31m             \u001b[0mlosses\u001b[0m\u001b[0;34m.\u001b[0m\u001b[0mappend\u001b[0m\u001b[0;34m(\u001b[0m\u001b[0mloss\u001b[0m\u001b[0;34m.\u001b[0m\u001b[0mdetach\u001b[0m\u001b[0;34m(\u001b[0m\u001b[0;34m)\u001b[0m\u001b[0;34m.\u001b[0m\u001b[0mcpu\u001b[0m\u001b[0;34m(\u001b[0m\u001b[0;34m)\u001b[0m\u001b[0;34m.\u001b[0m\u001b[0mnumpy\u001b[0m\u001b[0;34m(\u001b[0m\u001b[0;34m)\u001b[0m\u001b[0;34m)\u001b[0m\u001b[0;34m\u001b[0m\u001b[0;34m\u001b[0m\u001b[0m\n\u001b[0m\u001b[1;32m     13\u001b[0m             \u001b[0mgd\u001b[0m\u001b[0;34m.\u001b[0m\u001b[0mstep\u001b[0m\u001b[0;34m(\u001b[0m\u001b[0;34m)\u001b[0m\u001b[0;34m\u001b[0m\u001b[0;34m\u001b[0m\u001b[0m\n\u001b[1;32m     14\u001b[0m             \u001b[0mgd\u001b[0m\u001b[0;34m.\u001b[0m\u001b[0mzero_grad\u001b[0m\u001b[0;34m(\u001b[0m\u001b[0;34m)\u001b[0m\u001b[0;34m\u001b[0m\u001b[0;34m\u001b[0m\u001b[0m\n",
            "\u001b[0;31mKeyboardInterrupt\u001b[0m: "
          ]
        }
      ]
    },
    {
      "metadata": {
        "colab_type": "text",
        "id": "tLkLF1hC_eXh"
      },
      "cell_type": "markdown",
      "source": [
        "Training may take long, it's okay."
      ]
    },
    {
      "metadata": {
        "colab_type": "text",
        "id": "twGO5gAa4n7Y"
      },
      "cell_type": "markdown",
      "source": [
        "**Check autoencoder shapes along different code_sizes. Check architecture of you encoder-decoder network is correct**"
      ]
    },
    {
      "metadata": {
        "colab_type": "code",
        "id": "HmR7ot5__eXi",
        "outputId": "46eaef3b-ab3d-4d55-8d51-0c2d35c90533",
        "colab": {
          "base_uri": "https://localhost:8080/",
          "height": 136
        }
      },
      "cell_type": "code",
      "source": [
        "get_dim = lambda layer: np.prod(layer.output_shape[1:])\n",
        "for code_size in [1,8,32,128,512,1024]:\n",
        "    help_tensor = next(iter(DataLoader(X_train_tensor, batch_size=BATCH_SIZE)))\n",
        "    model = pca_autoencoder_deep(code_size).to(device)\n",
        "    encoder_out = model.enc(help_tensor.type('torch.FloatTensor').to(device))\n",
        "    decoder_out = model.dec(encoder_out)\n",
        "    print(\"Testing code size %i\" % code_size)\n",
        "\n",
        "    assert encoder_out.shape[1:]==torch.Size([code_size]), f\"encoder output size, expected {code_size} got {encoder_out.shape[1:]}\"\n",
        "    assert decoder_out.shape[1:]==img_shape,   \"decoder must output an image of valid shape\"\n",
        "\n",
        "    assert (len(list(model.dec.children())) >= 6),  \"decoder must contain at least 3 dense layers\"\n",
        "\n",
        "print(\"All tests passed!\")"
      ],
      "execution_count": 0,
      "outputs": [
        {
          "output_type": "stream",
          "text": [
            "Testing code size 1\n",
            "Testing code size 8\n",
            "Testing code size 32\n",
            "Testing code size 128\n",
            "Testing code size 512\n",
            "Testing code size 1024\n",
            "All tests passed!\n"
          ],
          "name": "stdout"
        }
      ]
    },
    {
      "metadata": {
        "colab_type": "text",
        "id": "GiNYsxJQ_eXk"
      },
      "cell_type": "markdown",
      "source": [
        "__Hint:__ if you're getting \"Encoder layer is smaller than bottleneck\" error, use code_size when defining intermediate layers. \n",
        "\n",
        "For example, such layer may have code_size*2 units."
      ]
    },
    {
      "metadata": {
        "colab_type": "text",
        "id": "tkJCskEvyixo"
      },
      "cell_type": "markdown",
      "source": [
        "** Lets check you model's score. You should beat value of 0.005 **"
      ]
    },
    {
      "metadata": {
        "colab_type": "code",
        "id": "khcs90Yi_eXl",
        "outputId": "ec79444d-7be6-4a7d-9a87-3f7d60b8aa10",
        "colab": {
          "base_uri": "https://localhost:8080/",
          "height": 1349
        }
      },
      "cell_type": "code",
      "source": [
        "dataloader_test = DataLoader(X_test_tensor, batch_size=BATCH_SIZE, shuffle=True)\n",
        "scores = []\n",
        "for i, (batch) in enumerate(dataloader_test):\n",
        "    scores.append(aenc_deep.batch_loss(batch.to(device)).data.cpu().numpy())\n",
        "    encoder_out = aenc_deep.enc(batch.to(device))\n",
        "reconstruction_mse  = np.mean(scores)\n",
        "\n",
        "assert reconstruction_mse <= 0.005, f\"Compression is too lossy, mse={reconstruction_mse:.5f}, expected no more than .005. See tips below.\"\n",
        "assert len(encoder_out.shape)==2 and encoder_out.shape[1]==32, \"Make sure encoder has code_size units\"\n",
        "print(\"Final MSE:\", reconstruction_mse)\n",
        "for i in range(5):\n",
        "    img = X_test_tensor[i]\n",
        "    visualize(img,aenc_deep)"
      ],
      "execution_count": 0,
      "outputs": [
        {
          "output_type": "error",
          "ename": "AssertionError",
          "evalue": "Compression is too lossy, mse=0.03407, expected no more than .005. See tips below.",
          "traceback": [
            "\u001b[0;31m---------------------------------------------------------------------------\u001b[0m",
            "\u001b[0;31mAssertionError\u001b[0m                            Traceback (most recent call last)",
            "\u001b[0;32m<ipython-input-86-c6215a7e5dee>\u001b[0m in \u001b[0;36m<module>\u001b[0;34m\u001b[0m\n\u001b[1;32m      6\u001b[0m \u001b[0mreconstruction_mse\u001b[0m  \u001b[0;34m=\u001b[0m \u001b[0mnp\u001b[0m\u001b[0;34m.\u001b[0m\u001b[0mmean\u001b[0m\u001b[0;34m(\u001b[0m\u001b[0mscores\u001b[0m\u001b[0;34m)\u001b[0m\u001b[0;34m\u001b[0m\u001b[0;34m\u001b[0m\u001b[0m\n\u001b[1;32m      7\u001b[0m \u001b[0;34m\u001b[0m\u001b[0m\n\u001b[0;32m----> 8\u001b[0;31m \u001b[0;32massert\u001b[0m \u001b[0mreconstruction_mse\u001b[0m \u001b[0;34m<=\u001b[0m \u001b[0;36m0.005\u001b[0m\u001b[0;34m,\u001b[0m \u001b[0;34mf\"Compression is too lossy, mse={reconstruction_mse:.5f}, expected no more than .005. See tips below.\"\u001b[0m\u001b[0;34m\u001b[0m\u001b[0;34m\u001b[0m\u001b[0m\n\u001b[0m\u001b[1;32m      9\u001b[0m \u001b[0;32massert\u001b[0m \u001b[0mlen\u001b[0m\u001b[0;34m(\u001b[0m\u001b[0mencoder_out\u001b[0m\u001b[0;34m.\u001b[0m\u001b[0mshape\u001b[0m\u001b[0;34m)\u001b[0m\u001b[0;34m==\u001b[0m\u001b[0;36m2\u001b[0m \u001b[0;32mand\u001b[0m \u001b[0mencoder_out\u001b[0m\u001b[0;34m.\u001b[0m\u001b[0mshape\u001b[0m\u001b[0;34m[\u001b[0m\u001b[0;36m1\u001b[0m\u001b[0;34m]\u001b[0m\u001b[0;34m==\u001b[0m\u001b[0;36m32\u001b[0m\u001b[0;34m,\u001b[0m \u001b[0;34m\"Make sure encoder has code_size units\"\u001b[0m\u001b[0;34m\u001b[0m\u001b[0;34m\u001b[0m\u001b[0m\n\u001b[1;32m     10\u001b[0m \u001b[0mprint\u001b[0m\u001b[0;34m(\u001b[0m\u001b[0;34m\"Final MSE:\"\u001b[0m\u001b[0;34m,\u001b[0m \u001b[0mreconstruction_mse\u001b[0m\u001b[0;34m)\u001b[0m\u001b[0;34m\u001b[0m\u001b[0;34m\u001b[0m\u001b[0m\n",
            "\u001b[0;31mAssertionError\u001b[0m: Compression is too lossy, mse=0.03407, expected no more than .005. See tips below."
          ]
        }
      ]
    },
    {
      "metadata": {
        "colab_type": "text",
        "id": "KNlhwrtc_eXo"
      },
      "cell_type": "markdown",
      "source": [
        "__Tips:__ If you keep getting \"Compression to lossy\" error, there's a few things you might try:\n",
        "\n",
        "* Make sure it converged. Some architectures need way more than 32 epochs to converge. They may fluctuate a lot, but eventually they're going to get good enough to pass. You may train your network for as long as you want.\n",
        "\n",
        "* Complexity. If you already have, like, 152 layers and still not passing threshold, you may wish to start from something simpler instead and go in small incremental steps.\n",
        "\n",
        "* Architecture. You can use any combination of layers (including convolutions, normalization, etc) as long as __encoder output only stores 32 numbers per training object__. \n",
        "\n",
        "A cunning learner can circumvent this last limitation by using some manual encoding strategy, but he is strongly recommended to avoid that."
      ]
    },
    {
      "metadata": {
        "colab_type": "text",
        "id": "JQkFuzTz_eXp"
      },
      "cell_type": "markdown",
      "source": [
        "## Denoising AutoEncoder\n",
        "\n",
        "Let's now make our model into a denoising autoencoder.\n",
        "\n",
        "We'll keep your model architecture, but change the way it trains. In particular, we'll corrupt it's input data randomly before each epoch.\n",
        "\n",
        "There are many strategies to apply noise. We'll implement two popular one: adding gaussian noise and using dropout."
      ]
    },
    {
      "metadata": {
        "colab_type": "code",
        "id": "sQUS359N_eXq",
        "colab": {}
      },
      "cell_type": "code",
      "source": [
        "def apply_gaussian_noise(X,sigma=0.1):\n",
        "    \"\"\"\n",
        "    adds noise from normal distribution with standard deviation sigma\n",
        "    :param X: image tensor of shape [batch,height,width,3]\n",
        "    \"\"\"\n",
        "        \n",
        "    noise = np.random.randn(*X.shape)*sigma\n",
        "    return X + noise\n",
        "    "
      ],
      "execution_count": 0,
      "outputs": []
    },
    {
      "metadata": {
        "colab_type": "text",
        "id": "xy71ZmuPz1il"
      },
      "cell_type": "markdown",
      "source": [
        "**noise tests**"
      ]
    },
    {
      "metadata": {
        "colab_type": "code",
        "id": "pslPEzXS_eXs",
        "colab": {}
      },
      "cell_type": "code",
      "source": [
        "\n",
        "theoretical_std = (X[:100].std()**2 + 0.5**2)**.5\n",
        "our_std = apply_gaussian_noise(X[:100],sigma=0.5).std()\n",
        "assert abs(theoretical_std - our_std) < 0.01, (\n",
        "    f\"Standard deviation ({our_std:.5f}) does not match it's required value ({theoretical_std:.5f}).\"\n",
        "    \" Make sure you use sigma as std.\"\n",
        ")\n",
        "assert abs(apply_gaussian_noise(X[:100],sigma=0.5).mean() - X[:100].mean()) < 0.01, \"Mean has changed. Please add zero-mean noise\""
      ],
      "execution_count": 0,
      "outputs": []
    },
    {
      "metadata": {
        "colab_type": "code",
        "id": "unMfBi8q_eXu",
        "outputId": "0f0f446f-ae38-481d-d7dd-8e0b1290795e",
        "colab": {
          "base_uri": "https://localhost:8080/",
          "height": 141
        }
      },
      "cell_type": "code",
      "source": [
        "plt.subplot(1,4,1)\n",
        "plt.imshow(X[0].transpose([1,2,0]))\n",
        "plt.subplot(1,4,2)\n",
        "plt.imshow(apply_gaussian_noise(X[:1],sigma=0.01)[0].transpose([1,2,0]).clip(0, 1))\n",
        "plt.subplot(1,4,3)\n",
        "plt.imshow(apply_gaussian_noise(X[:1],sigma=0.1)[0].transpose([1,2,0]).clip(0, 1))\n",
        "plt.subplot(1,4,4)\n",
        "plt.imshow(apply_gaussian_noise(X[:1],sigma=0.5)[0].transpose([1,2,0]).clip(0, 1))"
      ],
      "execution_count": 0,
      "outputs": [
        {
          "output_type": "execute_result",
          "data": {
            "text/plain": [
              "<matplotlib.image.AxesImage at 0x7f1f09011f98>"
            ]
          },
          "metadata": {
            "tags": []
          },
          "execution_count": 83
        },
        {
          "output_type": "display_data",
          "data": {
            "image/png": "[encoded data removed]",
            "text/plain": [
              "<Figure size 432x288 with 4 Axes>"
            ]
          },
          "metadata": {
            "tags": [],
            "needs_background": "light"
          }
        }
      ]
    },
    {
      "metadata": {
        "colab_type": "code",
        "id": "9hHGK_Wr_eXx",
        "colab": {}
      },
      "cell_type": "code",
      "source": [
        "def train_noise(model, dataset, num_epoch=50, sigma=0.1, lr=0.002):\n",
        "    model.double()\n",
        "    model.to(device)\n",
        "    gd = optim.Adamax(model.parameters(), lr=lr)\n",
        "    dataloader = DataLoader(dataset, batch_size=BATCH_SIZE, shuffle=True)\n",
        "    losses = []\n",
        "    for epoch in range(num_epoch):\n",
        "        for i, (batch) in enumerate(dataloader):\n",
        "            batch = batch.to(device)\n",
        "            apply_gaussian_noise(batch, sigma)\n",
        "            gd.zero_grad()\n",
        "            loss = model.batch_loss(batch)\n",
        "            (loss).backward()\n",
        "            losses.append(loss.detach().cpu().numpy())\n",
        "            gd.step()\n",
        "            gd.zero_grad()\n",
        "        print(\"#%i, Train loss: %.7f\"%(epoch+1,np.mean(losses)),flush=True)"
      ],
      "execution_count": 0,
      "outputs": []
    },
    {
      "metadata": {
        "colab_type": "code",
        "id": "MKQK4HJL_eX2",
        "colab": {}
      },
      "cell_type": "code",
      "source": [
        "X_train_noise = apply_gaussian_noise(X_train)\n",
        "X_test_noise = apply_gaussian_noise(X_test)"
      ],
      "execution_count": 0,
      "outputs": []
    },
    {
      "metadata": {
        "colab_type": "code",
        "id": "8ClYTlpa_eX4",
        "colab": {}
      },
      "cell_type": "code",
      "source": [
        "X_train_tensor_n = torch.from_numpy(X_train_noise).type(torch.DoubleTensor)\n",
        "X_test_tensor_n = torch.Tensor(X_test_noise).type(torch.DoubleTensor)"
      ],
      "execution_count": 0,
      "outputs": []
    },
    {
      "metadata": {
        "colab_type": "code",
        "id": "fVD2-ujS_eX8",
        "outputId": "a7757a50-c871-449a-f664-4d719e44b4ae",
        "colab": {
          "base_uri": "https://localhost:8080/",
          "height": 867
        }
      },
      "cell_type": "code",
      "source": [
        "aenc = pca_autoencoder()\n",
        "train(aenc, X_train_tensor_n, 50)"
      ],
      "execution_count": 0,
      "outputs": [
        {
          "output_type": "stream",
          "text": [
            "#1, Train loss: 0.0288858\n",
            "#2, Train loss: 0.0211128\n",
            "#3, Train loss: 0.0172908\n",
            "#4, Train loss: 0.0148225\n",
            "#5, Train loss: 0.0130061\n",
            "#6, Train loss: 0.0115733\n",
            "#7, Train loss: 0.0103973\n",
            "#8, Train loss: 0.0094096\n",
            "#9, Train loss: 0.0085819\n",
            "#10, Train loss: 0.0078981\n",
            "#11, Train loss: 0.0073335\n",
            "#12, Train loss: 0.0068613\n",
            "#13, Train loss: 0.0064605\n",
            "#14, Train loss: 0.0061162\n",
            "#15, Train loss: 0.0058173\n"
          ],
          "name": "stdout"
        },
        {
          "output_type": "error",
          "ename": "KeyboardInterrupt",
          "evalue": "",
          "traceback": [
            "\u001b[0;31m---------------------------------------------------------------------------\u001b[0m",
            "\u001b[0;31mKeyboardInterrupt\u001b[0m                         Traceback (most recent call last)",
            "\u001b[0;32m<ipython-input-96-4c53f46f8624>\u001b[0m in \u001b[0;36m<module>\u001b[0;34m\u001b[0m\n\u001b[1;32m      1\u001b[0m \u001b[0maenc\u001b[0m \u001b[0;34m=\u001b[0m \u001b[0mpca_autoencoder\u001b[0m\u001b[0;34m(\u001b[0m\u001b[0;34m)\u001b[0m\u001b[0;34m\u001b[0m\u001b[0;34m\u001b[0m\u001b[0m\n\u001b[0;32m----> 2\u001b[0;31m \u001b[0mtrain\u001b[0m\u001b[0;34m(\u001b[0m\u001b[0maenc\u001b[0m\u001b[0;34m,\u001b[0m \u001b[0mX_train_tensor_n\u001b[0m\u001b[0;34m,\u001b[0m \u001b[0;36m50\u001b[0m\u001b[0;34m)\u001b[0m\u001b[0;34m\u001b[0m\u001b[0;34m\u001b[0m\u001b[0m\n\u001b[0m",
            "\u001b[0;32m<ipython-input-25-ec86dcde21ca>\u001b[0m in \u001b[0;36mtrain\u001b[0;34m(model, dataset, num_epoch)\u001b[0m\n\u001b[1;32m      9\u001b[0m             \u001b[0mgd\u001b[0m\u001b[0;34m.\u001b[0m\u001b[0mzero_grad\u001b[0m\u001b[0;34m(\u001b[0m\u001b[0;34m)\u001b[0m\u001b[0;34m\u001b[0m\u001b[0;34m\u001b[0m\u001b[0m\n\u001b[1;32m     10\u001b[0m             \u001b[0mloss\u001b[0m \u001b[0;34m=\u001b[0m \u001b[0mmodel\u001b[0m\u001b[0;34m.\u001b[0m\u001b[0mbatch_loss\u001b[0m\u001b[0;34m(\u001b[0m\u001b[0mbatch\u001b[0m\u001b[0;34m.\u001b[0m\u001b[0mto\u001b[0m\u001b[0;34m(\u001b[0m\u001b[0mdevice\u001b[0m\u001b[0;34m)\u001b[0m\u001b[0;34m)\u001b[0m\u001b[0;34m\u001b[0m\u001b[0;34m\u001b[0m\u001b[0m\n\u001b[0;32m---> 11\u001b[0;31m             \u001b[0;34m(\u001b[0m\u001b[0mloss\u001b[0m\u001b[0;34m)\u001b[0m\u001b[0;34m.\u001b[0m\u001b[0mbackward\u001b[0m\u001b[0;34m(\u001b[0m\u001b[0;34m)\u001b[0m\u001b[0;34m\u001b[0m\u001b[0;34m\u001b[0m\u001b[0m\n\u001b[0m\u001b[1;32m     12\u001b[0m             \u001b[0mlosses\u001b[0m\u001b[0;34m.\u001b[0m\u001b[0mappend\u001b[0m\u001b[0;34m(\u001b[0m\u001b[0mloss\u001b[0m\u001b[0;34m.\u001b[0m\u001b[0mdetach\u001b[0m\u001b[0;34m(\u001b[0m\u001b[0;34m)\u001b[0m\u001b[0;34m.\u001b[0m\u001b[0mcpu\u001b[0m\u001b[0;34m(\u001b[0m\u001b[0;34m)\u001b[0m\u001b[0;34m.\u001b[0m\u001b[0mnumpy\u001b[0m\u001b[0;34m(\u001b[0m\u001b[0;34m)\u001b[0m\u001b[0;34m)\u001b[0m\u001b[0;34m\u001b[0m\u001b[0;34m\u001b[0m\u001b[0m\n\u001b[1;32m     13\u001b[0m             \u001b[0mgd\u001b[0m\u001b[0;34m.\u001b[0m\u001b[0mstep\u001b[0m\u001b[0;34m(\u001b[0m\u001b[0;34m)\u001b[0m\u001b[0;34m\u001b[0m\u001b[0;34m\u001b[0m\u001b[0m\n",
            "\u001b[0;32m~/.conda/lib/python3.7/site-packages/torch/tensor.py\u001b[0m in \u001b[0;36mbackward\u001b[0;34m(self, gradient, retain_graph, create_graph)\u001b[0m\n\u001b[1;32m    100\u001b[0m                 \u001b[0mproducts\u001b[0m\u001b[0;34m.\u001b[0m \u001b[0mDefaults\u001b[0m \u001b[0mto\u001b[0m\u001b[0;31m \u001b[0m\u001b[0;31m`\u001b[0m\u001b[0;31m`\u001b[0m\u001b[0;32mFalse\u001b[0m\u001b[0;31m`\u001b[0m\u001b[0;31m`\u001b[0m\u001b[0;34m.\u001b[0m\u001b[0;34m\u001b[0m\u001b[0;34m\u001b[0m\u001b[0m\n\u001b[1;32m    101\u001b[0m         \"\"\"\n\u001b[0;32m--> 102\u001b[0;31m         \u001b[0mtorch\u001b[0m\u001b[0;34m.\u001b[0m\u001b[0mautograd\u001b[0m\u001b[0;34m.\u001b[0m\u001b[0mbackward\u001b[0m\u001b[0;34m(\u001b[0m\u001b[0mself\u001b[0m\u001b[0;34m,\u001b[0m \u001b[0mgradient\u001b[0m\u001b[0;34m,\u001b[0m \u001b[0mretain_graph\u001b[0m\u001b[0;34m,\u001b[0m \u001b[0mcreate_graph\u001b[0m\u001b[0;34m)\u001b[0m\u001b[0;34m\u001b[0m\u001b[0;34m\u001b[0m\u001b[0m\n\u001b[0m\u001b[1;32m    103\u001b[0m \u001b[0;34m\u001b[0m\u001b[0m\n\u001b[1;32m    104\u001b[0m     \u001b[0;32mdef\u001b[0m \u001b[0mregister_hook\u001b[0m\u001b[0;34m(\u001b[0m\u001b[0mself\u001b[0m\u001b[0;34m,\u001b[0m \u001b[0mhook\u001b[0m\u001b[0;34m)\u001b[0m\u001b[0;34m:\u001b[0m\u001b[0;34m\u001b[0m\u001b[0;34m\u001b[0m\u001b[0m\n",
            "\u001b[0;32m~/.conda/lib/python3.7/site-packages/torch/autograd/__init__.py\u001b[0m in \u001b[0;36mbackward\u001b[0;34m(tensors, grad_tensors, retain_graph, create_graph, grad_variables)\u001b[0m\n\u001b[1;32m     88\u001b[0m     Variable._execution_engine.run_backward(\n\u001b[1;32m     89\u001b[0m         \u001b[0mtensors\u001b[0m\u001b[0;34m,\u001b[0m \u001b[0mgrad_tensors\u001b[0m\u001b[0;34m,\u001b[0m \u001b[0mretain_graph\u001b[0m\u001b[0;34m,\u001b[0m \u001b[0mcreate_graph\u001b[0m\u001b[0;34m,\u001b[0m\u001b[0;34m\u001b[0m\u001b[0;34m\u001b[0m\u001b[0m\n\u001b[0;32m---> 90\u001b[0;31m         allow_unreachable=True)  # allow_unreachable flag\n\u001b[0m\u001b[1;32m     91\u001b[0m \u001b[0;34m\u001b[0m\u001b[0m\n\u001b[1;32m     92\u001b[0m \u001b[0;34m\u001b[0m\u001b[0m\n",
            "\u001b[0;31mKeyboardInterrupt\u001b[0m: "
          ]
        }
      ]
    },
    {
      "metadata": {
        "colab_type": "text",
        "id": "mlekH4ww_eX_"
      },
      "cell_type": "markdown",
      "source": [
        "__Note:__ if it hasn't yet converged, increase the number of iterations.\n",
        "\n",
        "__Bonus:__ replace gaussian noise with masking random rectangles on image."
      ]
    },
    {
      "metadata": {
        "colab_type": "text",
        "id": "HVj0NPXV3liL"
      },
      "cell_type": "markdown",
      "source": [
        "** Let's evaluate!!! **"
      ]
    },
    {
      "metadata": {
        "colab_type": "code",
        "id": "pr1Drxb1_eX_",
        "colab": {}
      },
      "cell_type": "code",
      "source": [
        "dataloader_test = DataLoader(X_test_tensor_n, batch_size=BATCH_SIZE, shuffle=True)\n",
        "scores = []\n",
        "for i, (batch) in enumerate(dataloader_test):\n",
        "    scores.append(aenc.batch_loss(batch.cuda(device = device)).data.cpu().numpy())\n",
        "    encoder_out = aenc.enc(batch.cuda(device = device))\n",
        "reconstruction_mse  = np.mean(scores)\n",
        "\n",
        "print(\"Final MSE:\", reconstruction_mse)\n",
        "for i in range(5):\n",
        "    img = X_test_tensor_n[i]\n",
        "    visualize(img,aenc)"
      ],
      "execution_count": 0,
      "outputs": []
    },
    {
      "metadata": {
        "colab_type": "text",
        "id": "weU6quCI_eYE"
      },
      "cell_type": "markdown",
      "source": [
        "### Image retrieval with autoencoders\n",
        "\n",
        "So we've just trained a network that converts image into itself imperfectly. This task is not that useful in and of itself, but it has a number of awesome side-effects. Let's see it in action.\n",
        "\n",
        "First thing we can do is image retrieval aka image search. We we give it an image and find similar images in latent space. \n",
        "\n",
        "To speed up retrieval process, we shall use Locality-Sensitive Hashing on top of encoded vectors. We'll use scikit-learn's implementation for simplicity. In practical scenario, you may want to use [specialized libraries](https://erikbern.com/2015/07/04/benchmark-of-approximate-nearest-neighbor-libraries.html) for better performance and customization."
      ]
    },
    {
      "metadata": {
        "colab_type": "code",
        "id": "afiR-pC3_eYG",
        "colab": {}
      },
      "cell_type": "code",
      "source": [
        "#encodes batch of images into a codes\n",
        "\n",
        "\n",
        "with torch.no_grad():\n",
        "    codes = aenc_deep.enc(X_train)"
      ],
      "execution_count": 0,
      "outputs": []
    },
    {
      "metadata": {
        "colab_type": "code",
        "id": "nojmuKtb_eYI",
        "colab": {}
      },
      "cell_type": "code",
      "source": [
        "assert codes.shape[0] == X_train_tensor.shape[0]"
      ],
      "execution_count": 0,
      "outputs": []
    },
    {
      "metadata": {
        "colab_type": "code",
        "id": "GfGatyHi_eYK",
        "colab": {}
      },
      "cell_type": "code",
      "source": [
        "from sklearn.neighbors import LSHForest\n",
        "lshf = LSHForest(n_estimators=50).fit(codes.detach().cpu().numpy())"
      ],
      "execution_count": 0,
      "outputs": []
    },
    {
      "metadata": {
        "colab_type": "code",
        "id": "FYhbhxLz_eYN",
        "colab": {}
      },
      "cell_type": "code",
      "source": [
        "images = torch.from_numpy(X_train).type(torch.DoubleTensor)"
      ],
      "execution_count": 0,
      "outputs": []
    },
    {
      "metadata": {
        "colab_type": "code",
        "id": "shw1V6Zn_eYP",
        "colab": {}
      },
      "cell_type": "code",
      "source": [
        "def get_similar(image, n_neighbors=5):\n",
        "    assert len(image.shape)==3,\"image must be [batch,height,width,3]\"\n",
        "\n",
        "    code = aenc.enc(image.cuda(device)).detach().cpu().numpy()\n",
        "    \n",
        "    (distances,),(idx,) = #<Your code: using lshf.kneighbors find nearest neighbors>\n",
        "    \n",
        "    return distances,images[idx]"
      ],
      "execution_count": 0,
      "outputs": []
    },
    {
      "metadata": {
        "colab_type": "code",
        "id": "5JkabL1A_eYQ",
        "colab": {}
      },
      "cell_type": "code",
      "source": [
        "def show_similar(image):\n",
        "    \n",
        "    distances,neighbors = get_similar(image,n_neighbors=11)\n",
        "    \n",
        "    plt.figure(figsize=[8,6])\n",
        "    plt.subplot(3,4,1)\n",
        "    plt.imshow(image.cpu().numpy().transpose([1,2,0]))\n",
        "    plt.title(\"Original image\")\n",
        "    \n",
        "    for i in range(11):\n",
        "        plt.subplot(3,4,i+2)\n",
        "        plt.imshow(neighbors[i].cpu().numpy().transpose([1,2,0]))\n",
        "        plt.title(\"Dist=%.3f\"%distances[i])\n",
        "    plt.show()"
      ],
      "execution_count": 0,
      "outputs": []
    },
    {
      "metadata": {
        "colab_type": "code",
        "id": "VG_0tXSq_eYT",
        "colab": {}
      },
      "cell_type": "code",
      "source": [
        "#smiles\n",
        "show_similar(X_test_tensor[2])"
      ],
      "execution_count": 0,
      "outputs": []
    },
    {
      "metadata": {
        "colab_type": "code",
        "id": "4Z25ZSQO_eYV",
        "colab": {}
      },
      "cell_type": "code",
      "source": [
        "#ethnicity\n",
        "show_similar(X_test_tensor[500])"
      ],
      "execution_count": 0,
      "outputs": []
    },
    {
      "metadata": {
        "colab_type": "code",
        "id": "uPyK6-vk_eYf",
        "colab": {}
      },
      "cell_type": "code",
      "source": [
        "#glasses\n",
        "show_similar(X_test_tensor[66])"
      ],
      "execution_count": 0,
      "outputs": []
    },
    {
      "metadata": {
        "colab_type": "text",
        "id": "piVrNWXZ_eYn"
      },
      "cell_type": "markdown",
      "source": [
        "## Cheap image morphing\n"
      ]
    },
    {
      "metadata": {
        "colab_type": "text",
        "id": "DYqDtg6K2z5e"
      },
      "cell_type": "markdown",
      "source": [
        "Here you should take two full-sized objects, code it and obtain intermediate object by decoding an intermixture code.\n",
        "\n",
        "$Code_{mixt} = a1\\cdot code1 + a2\\cdot code2$"
      ]
    },
    {
      "metadata": {
        "colab_type": "code",
        "id": "IFDk4E7N_eYr",
        "colab": {}
      },
      "cell_type": "code",
      "source": [
        "\n",
        "for _ in range(5):\n",
        "    image1,image2 =#<Your code:choose two image randomly>\n",
        "\n",
        "    code1, code2 = #<Your code:decode it>\n",
        "\n",
        "\n",
        "    plt.figure(figsize=[10,4])\n",
        "    for i,a in enumerate(np.linspace(0,1,num=7)):\n",
        "\n",
        "        output_code = #<Your code:define intermixture code>\n",
        "\n",
        "        output_image = aenc.dec(output_code[None])[0]\n",
        "        plt.subplot(1,7,i+1)\n",
        "        plt.imshow(output_image.cpu().detach().numpy().transpose([1,2,0]))\n",
        "        plt.title(\"a=%.2f\"%a)\n",
        "        \n",
        "    plt.show()"
      ],
      "execution_count": 0,
      "outputs": []
    },
    {
      "metadata": {
        "colab_type": "text",
        "id": "lKZTo47L_eYu"
      },
      "cell_type": "markdown",
      "source": [
        "Of course there's a lot more you can do with autoencoders.\n",
        "\n",
        "If you want to generate images from scratch, however, we recommend you our honor track seminar about generative adversarial networks."
      ]
    }
  ]
}