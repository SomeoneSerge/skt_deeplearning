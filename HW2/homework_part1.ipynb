{
 "cells": [
  {
   "cell_type": "markdown",
   "metadata": {},
   "source": [
    "# Homework 2, *part 1* (40 points)\n",
    "\n",
    "This warm-up problem set is provided to help you get used to PyTorch.\n",
    "\n",
    "Please, only fill parts marked with \"`Your code here`\"."
   ]
  },
  {
   "cell_type": "code",
   "execution_count": 1,
   "metadata": {},
   "outputs": [],
   "source": [
    "import numpy as np\n",
    "import math\n",
    "\n",
    "import matplotlib.pyplot as plt\n",
    "%matplotlib inline\n",
    "\n",
    "import torch\n",
    "assert torch.__version__ >= '1.0.0'"
   ]
  },
  {
   "cell_type": "markdown",
   "metadata": {},
   "source": [
    "To learn best practices $-$ for example,\n",
    "\n",
    "* how to choose between `.sqrt()` and `.sqrt_()`,\n",
    "* when to use `.view()` and how is it different from `.reshape()`,\n",
    "* which `dtype` to use,\n",
    "\n",
    "$-$ you are expected to google a lot, read tutorials on the Web and study documentation.\n",
    "\n",
    "Quick documentation on functions and modules is available with `?` and `help()`, like so:"
   ]
  },
  {
   "cell_type": "code",
   "execution_count": 2,
   "metadata": {},
   "outputs": [
    {
     "name": "stdout",
     "output_type": "stream",
     "text": [
      "Help on built-in function sqrt:\n",
      "\n",
      "sqrt(...)\n",
      "    sqrt(input, out=None) -> Tensor\n",
      "    \n",
      "    Returns a new tensor with the square-root of the elements of :attr:`input`.\n",
      "    \n",
      "    .. math::\n",
      "        \\text{out}_{i} = \\sqrt{\\text{input}_{i}}\n",
      "    \n",
      "    Args:\n",
      "        input (Tensor): the input tensor\n",
      "        out (Tensor, optional): the output tensor\n",
      "    \n",
      "    Example::\n",
      "    \n",
      "        >>> a = torch.randn(4)\n",
      "        >>> a\n",
      "        tensor([-2.0755,  1.0226,  0.0831,  0.4806])\n",
      "        >>> torch.sqrt(a)\n",
      "        tensor([    nan,  1.0112,  0.2883,  0.6933])\n",
      "\n"
     ]
    }
   ],
   "source": [
    "help(torch.sqrt)"
   ]
  },
  {
   "cell_type": "code",
   "execution_count": 3,
   "metadata": {},
   "outputs": [
    {
     "data": {
      "text/plain": [
       "\u001b[0;31mDocstring:\u001b[0m\n",
       "cat(tensors, dim=0, out=None) -> Tensor\n",
       "\n",
       "Concatenates the given sequence of :attr:`seq` tensors in the given dimension.\n",
       "All tensors must either have the same shape (except in the concatenating\n",
       "dimension) or be empty.\n",
       "\n",
       ":func:`torch.cat` can be seen as an inverse operation for :func:`torch.split`\n",
       "and :func:`torch.chunk`.\n",
       "\n",
       ":func:`torch.cat` can be best understood via examples.\n",
       "\n",
       "Args:\n",
       "    tensors (sequence of Tensors): any python sequence of tensors of the same type.\n",
       "        Non-empty tensors provided must have the same shape, except in the\n",
       "        cat dimension.\n",
       "    dim (int, optional): the dimension over which the tensors are concatenated\n",
       "    out (Tensor, optional): the output tensor\n",
       "\n",
       "Example::\n",
       "\n",
       "    >>> x = torch.randn(2, 3)\n",
       "    >>> x\n",
       "    tensor([[ 0.6580, -1.0969, -0.4614],\n",
       "            [-0.1034, -0.5790,  0.1497]])\n",
       "    >>> torch.cat((x, x, x), 0)\n",
       "    tensor([[ 0.6580, -1.0969, -0.4614],\n",
       "            [-0.1034, -0.5790,  0.1497],\n",
       "            [ 0.6580, -1.0969, -0.4614],\n",
       "            [-0.1034, -0.5790,  0.1497],\n",
       "            [ 0.6580, -1.0969, -0.4614],\n",
       "            [-0.1034, -0.5790,  0.1497]])\n",
       "    >>> torch.cat((x, x, x), 1)\n",
       "    tensor([[ 0.6580, -1.0969, -0.4614,  0.6580, -1.0969, -0.4614,  0.6580,\n",
       "             -1.0969, -0.4614],\n",
       "            [-0.1034, -0.5790,  0.1497, -0.1034, -0.5790,  0.1497, -0.1034,\n",
       "             -0.5790,  0.1497]])\n",
       "\u001b[0;31mType:\u001b[0m      builtin_function_or_method\n"
      ]
     },
     "metadata": {},
     "output_type": "display_data"
    }
   ],
   "source": [
    "# to close the Jupyter help bar, press `Esc` or `q`\n",
    "?torch.cat"
   ]
  },
  {
   "cell_type": "markdown",
   "metadata": {},
   "source": [
    "## Task 1 (3 points)\n",
    "\n",
    "Use tensors only: **no lists, loops, numpy arrays etc.**\n",
    "\n",
    "$\\rho(\\theta)$ is defined in polar coordinate system:\n",
    "\n",
    "$$\\rho(\\theta) = (1 + 0.9 \\cdot \\cos{8\\theta} ) \\cdot (1 + 0.1 \\cdot \\cos{24\\theta}) \\cdot (0.9 + 0.05 \\cdot \\cos {200\\theta}) \\cdot (1 + \\sin{\\theta})$$\n",
    "\n",
    "1. Create a regular grid of 1000 values of $\\theta$ between $-\\pi$ and $\\pi$.\n",
    "2. Compute $\\rho(\\theta)$ at these values.\n",
    "3. Convert it into Cartesian coordinates ([howto](http://www.mathsisfun.com/polar-cartesian-coordinates.html))."
   ]
  },
  {
   "cell_type": "code",
   "execution_count": 4,
   "metadata": {},
   "outputs": [],
   "source": [
    "theta = torch.linspace(-math.pi, math.pi, 1000)\n",
    "assert theta.shape == (1000,)\n",
    "\n",
    "rho = (1. + .9*torch.cos(8*theta)) * (1. + .1 * torch.cos(24*theta)) * (.9 + .05 * torch.cos(200*theta)) * (1. + torch.sin(theta))\n",
    "assert torch.is_same_size(rho, theta)\n",
    "\n",
    "x, y = rho*torch.cos(theta), rho*torch.sin(theta)"
   ]
  },
  {
   "cell_type": "code",
   "execution_count": 5,
   "metadata": {},
   "outputs": [
    {
     "data": {
      "image/png": "[encoded data removed]",
      "text/plain": [
       "<Figure size 432x432 with 1 Axes>"
      ]
     },
     "metadata": {
      "needs_background": "light"
     },
     "output_type": "display_data"
    }
   ],
   "source": [
    "# Run this cell and make sure the plot is correct\n",
    "plt.figure(figsize=[6,6])\n",
    "plt.fill(x.numpy(), y.numpy(), color='green')\n",
    "plt.grid()"
   ]
  },
  {
   "cell_type": "markdown",
   "metadata": {},
   "source": [
    "## Task 2 (7 points)\n",
    "\n",
    "Use tensors only: **no lists, loops, numpy arrays etc.**\n",
    "\n",
    "We will implement [Conway's Game of Life](https://en.wikipedia.org/wiki/Conway's_Game_of_Life) in PyTorch.\n",
    "\n",
    "![img](https://cdn.tutsplus.com/gamedev/authors/legacy/Stephane%20Beniak/2012/09/11/Preview_Image.png)\n",
    "\n",
    "If you skipped the URL above, here are the rules:\n",
    "* You have a 2D grid of cells, where each cell is \"alive\"(1) or \"dead\"(0)\n",
    "* At one step in time, the generation update happens:\n",
    "  * Any living cell that has 2 or 3 neighbors survives, otherwise (0,1 or 4+ neighbors) it dies\n",
    "  * Any cell with exactly 3 neighbors becomes alive if it was dead\n",
    "\n",
    "You are given a reference numpy implementation of the update step. Your task is to convert it to PyTorch."
   ]
  },
  {
   "cell_type": "code",
   "execution_count": 6,
   "metadata": {},
   "outputs": [],
   "source": [
    "from scipy.signal import correlate2d as conv2d\n",
    "\n",
    "def numpy_update(alive_map):\n",
    "    # Count neighbours with convolution\n",
    "    conv_kernel = np.array([[1,1,1],\n",
    "                            [1,0,1],\n",
    "                            [1,1,1]])\n",
    "    \n",
    "    num_alive_neighbors = conv2d(alive_map, conv_kernel, mode='same')\n",
    "    \n",
    "    # Apply game rules\n",
    "    born = np.logical_and(num_alive_neighbors == 3, alive_map == 0)\n",
    "    survived = np.logical_and(np.isin(num_alive_neighbors, [2,3]), alive_map == 1)\n",
    "    \n",
    "    np.copyto(alive_map, np.logical_or(born, survived))"
   ]
  },
  {
   "cell_type": "code",
   "execution_count": 7,
   "metadata": {},
   "outputs": [],
   "source": [
    "def torch_update(alive_map):\n",
    "    \"\"\"\n",
    "    Game of Life update function that does to `alive_map` exactly the same as `numpy_update`.\n",
    "    \n",
    "    :param alive_map: `torch.tensor` of shape `(height, width)` and dtype `torch.float32`\n",
    "        containing 0s (dead) an 1s (alive)\n",
    "    \"\"\"\n",
    "    k = (\n",
    "        torch.tensor([\n",
    "            [1, 1, 1],\n",
    "            [1, 0, 1],\n",
    "            [1, 1, 1]\n",
    "        ])\n",
    "        .unsqueeze(0) # 1 output channel\n",
    "        .unsqueeze(0) # which pulls values from 1 input channel\n",
    "        .type(torch.float32) # Because torch.conv2d is \\sout{stupid} not polymorphic\n",
    "    )\n",
    "    convolvable_map = (\n",
    "        alive_map\n",
    "        .unsqueeze(0) # 1 batch\n",
    "        .unsqueeze(0) # 1 input channel\n",
    "    )\n",
    "    n_neighbours = (\n",
    "        torch.conv2d(convolvable_map, k, padding=1)\n",
    "        .squeeze(0)\n",
    "        .squeeze(0)\n",
    "    )\n",
    "    survived = (alive_map == 1) & (2 <= n_neighbours ) & (n_neighbours <= 3)\n",
    "    born = (alive_map == 0) & (n_neighbours == 3)\n",
    "    alive_map.copy_(survived | born)   \n",
    "    return alive_map"
   ]
  },
  {
   "cell_type": "code",
   "execution_count": 8,
   "metadata": {},
   "outputs": [
    {
     "data": {
      "image/png": "[encoded data removed]",
      "text/plain": [
       "<Figure size 720x720 with 4 Axes>"
      ]
     },
     "metadata": {
      "needs_background": "light"
     },
     "output_type": "display_data"
    }
   ],
   "source": [
    "fig, ((np0, t0), (np1, t1)) = plt.subplots(2, 2, figsize=(10, 10))\n",
    "MS = 10.\n",
    "# Generate a random initial map\n",
    "alive_map_numpy = np.random.choice([0, 1], p=(0.5, 0.5), size=(20, 20))\n",
    "alive_map_torch = torch.tensor(alive_map_numpy).float().clone()\n",
    "np0.spy(alive_map_numpy, markersize=MS)\n",
    "np0.set_title('initial state, numpy')\n",
    "t0.spy(alive_map_torch.numpy(), markersize=MS)\n",
    "t0.set_title('initial state, torch')\n",
    "\n",
    "numpy_update(alive_map_numpy)\n",
    "torch_update(alive_map_torch)\n",
    "np1.spy(alive_map_numpy, markersize=MS)\n",
    "np1.set_title('resulting state, numpy')\n",
    "t1.spy(alive_map_torch.numpy(), markersize=MS)\n",
    "t1.set_title('resulting state, torch')\n",
    "\n",
    "# results should be identical\n",
    "#assert np.allclose(alive_map_torch.numpy(), alive_map_numpy), \\\n",
    "#    \"Your PyTorch implementation doesn't match numpy_update.\"\n",
    "#print(\"Well done!\")\n",
    "\n",
    "plt.show()"
   ]
  },
  {
   "cell_type": "code",
   "execution_count": null,
   "metadata": {},
   "outputs": [
    {
     "name": "stdout",
     "output_type": "stream",
     "text": [
      "Well done!\n"
     ]
    }
   ],
   "source": [
    "# Generate a random initial map\n",
    "alive_map_numpy = np.random.choice([0, 1], p=(0.5, 0.5), size=(100, 100))\n",
    "alive_map_torch = torch.tensor(alive_map_numpy).float().clone()\n",
    "\n",
    "numpy_update(alive_map_numpy)\n",
    "torch_update(alive_map_torch)\n",
    "\n",
    "# results should be identical\n",
    "assert np.allclose(alive_map_torch.numpy(), alive_map_numpy), \\\n",
    "    \"Your PyTorch implementation doesn't match numpy_update.\"\n",
    "print(\"Well done!\")"
   ]
  },
  {
   "cell_type": "code",
   "execution_count": null,
   "metadata": {},
   "outputs": [
    {
     "data": {
      "image/png": "[encoded data removed]",
      "text/plain": [
       "<Figure size 576x576 with 1 Axes>"
      ]
     },
     "metadata": {},
     "output_type": "display_data"
    },
    {
     "data": {
      "application/vnd.jupyter.widget-view+json": {
       "model_id": "",
       "version_major": 2,
       "version_minor": 0
      },
      "text/plain": [
       "FigureCanvasNbAgg()"
      ]
     },
     "metadata": {},
     "output_type": "display_data"
    },
    {
     "data": {
      "image/png": "[encoded data removed]",
      "text/plain": [
       "<Figure size 576x576 with 1 Axes>"
      ]
     },
     "metadata": {
      "needs_background": "light"
     },
     "output_type": "display_data"
    }
   ],
   "source": [
    "# begin For JUPYTERLAB\n",
    "%matplotlib widget\n",
    "plt.ion()\n",
    "handle = display(None, display_id=True)\n",
    "# end\n",
    "\n",
    "# initialize game field\n",
    "alive_map = np.random.choice([0, 1], size=(100, 100))\n",
    "alive_map = torch.tensor(alive_map).float()\n",
    "\n",
    "fig = plt.figure(figsize=(8, 8))\n",
    "ax = fig.add_subplot(111)\n",
    "fig.show()\n",
    "\n",
    "for _ in range(100):\n",
    "    torch_update(alive_map)\n",
    "    \n",
    "    # re-draw image\n",
    "    ax.clear()\n",
    "    ax.imshow(alive_map.numpy(), cmap='gray')\n",
    "    fig.canvas.draw()\n",
    "    handle.update(fig)"
   ]
  },
  {
   "cell_type": "code",
   "execution_count": null,
   "metadata": {},
   "outputs": [
    {
     "data": {
      "application/vnd.jupyter.widget-view+json": {
       "model_id": "",
       "version_major": 2,
       "version_minor": 0
      },
      "text/plain": [
       "FigureCanvasNbAgg()"
      ]
     },
     "metadata": {},
     "output_type": "display_data"
    },
    {
     "data": {
      "image/png": "[encoded data removed]",
      "text/plain": [
       "<Figure size 576x576 with 1 Axes>"
      ]
     },
     "metadata": {
      "needs_background": "light"
     },
     "output_type": "display_data"
    }
   ],
   "source": [
    "# A fun setup for your amusement\n",
    "alive_map = np.arange(100) % 2 + np.zeros([100, 100])\n",
    "alive_map[48:52, 50] = 1\n",
    "\n",
    "alive_map = torch.tensor(alive_map).float()\n",
    "\n",
    "fig = plt.figure(figsize=(8, 8))\n",
    "ax = fig.add_subplot(111)\n",
    "fig.show()\n",
    "\n",
    "for _ in range(150):\n",
    "    torch_update(alive_map)\n",
    "    ax.clear()\n",
    "    ax.imshow(alive_map.numpy(), cmap='gray')\n",
    "    fig.canvas.draw()"
   ]
  },
  {
   "cell_type": "markdown",
   "metadata": {},
   "source": [
    "More fun with Game of Life: [video](https://www.youtube.com/watch?v=C2vgICfQawE)"
   ]
  },
  {
   "cell_type": "markdown",
   "metadata": {},
   "source": [
    "## Task 3 (30 points)\n",
    "\n",
    "You have to solve yet another character recognition problem: 10 letters, ~14 000 train samples.\n",
    "\n",
    "For this, we ask you to build a multilayer perceptron (*i.e. a neural network of linear layers*) from scratch using **low-level** PyTorch interface.\n",
    "\n",
    "Requirements:\n",
    "1. at least 82% accuracy\n",
    "2. at least 2 linear layers\n",
    "3. use [softmax followed by categorical cross-entropy](https://gombru.github.io/2018/05/23/cross_entropy_loss/)\n",
    "\n",
    "**You are NOT allowed to use**\n",
    "* numpy arrays\n",
    "* `torch.nn`, `torch.optim`\n",
    "* convolutions\n",
    "\n",
    "Tips:\n",
    "\n",
    "* Pick random batches (either shuffle data before each epoch or sample each batch randomly).\n",
    "* Do not initialize weights with zeros ([learn why](https://stats.stackexchange.com/questions/27112/danger-of-setting-all-initial-weights-to-zero-in-backpropagation)). Gaussian noise with small variance will do.\n",
    "* 50 hidden neurons and a sigmoid nonlinearity will do for a start. Many ways to improve.\n",
    "* To improve accuracy, consider changing layers' sizes, nonlinearities, optimization methods, weights initialization.\n",
    "* Don't use GPU yet.\n",
    "\n",
    "**Reproducibility requirement**: you have to format your code cells so that `Cell -> Run All` on a fresh notebook **reliably** trains your model to the desired accuracy in a couple of minutes and reports the accuracy reached.\n",
    "\n",
    "Happy googling!"
   ]
  },
  {
   "cell_type": "code",
   "execution_count": null,
   "metadata": {
    "scrolled": true
   },
   "outputs": [
    {
     "name": "stdout",
     "output_type": "stream",
     "text": [
      "Parsing...\n",
      "found broken img: ./notMNIST_small/A/RGVtb2NyYXRpY2FCb2xkT2xkc3R5bGUgQm9sZC50dGY=.png [it's ok if <10 images are broken]\n",
      "found broken img: ./notMNIST_small/F/Q3Jvc3NvdmVyIEJvbGRPYmxpcXVlLnR0Zg==.png [it's ok if <10 images are broken]\n"
     ]
    }
   ],
   "source": [
    "np.random.seed(666)\n",
    "torch.manual_seed(666)\n",
    "\n",
    "from notmnist import load_notmnist\n",
    "letters = 'ABCDEFGHIJ' \n",
    "X_train, y_train, X_test, y_test = map(torch.tensor, load_notmnist(letters=letters))\n",
    "X_train.squeeze_()\n",
    "X_test.squeeze_();"
   ]
  },
  {
   "cell_type": "code",
   "execution_count": null,
   "metadata": {},
   "outputs": [
    {
     "data": {
      "application/vnd.jupyter.widget-view+json": {
       "model_id": "",
       "version_major": 2,
       "version_minor": 0
      },
      "text/plain": [
       "FigureCanvasNbAgg()"
      ]
     },
     "metadata": {},
     "output_type": "display_data"
    },
    {
     "data": {
      "image/png": "[encoded data removed]",
      "text/plain": [
       "<Figure size 1080x216 with 20 Axes>"
      ]
     },
     "metadata": {
      "needs_background": "light"
     },
     "output_type": "display_data"
    }
   ],
   "source": [
    "fig, axarr = plt.subplots(2, 10, figsize=(15,3))\n",
    "\n",
    "for idx, ax in enumerate(axarr.ravel()):\n",
    "    ax.imshow(X_train[idx].numpy(), cmap='gray')\n",
    "    ax.axis('off')\n",
    "    ax.set_title(letters[y_train[idx]])"
   ]
  },
  {
   "cell_type": "markdown",
   "metadata": {},
   "source": [
    "The cell below has an example layout for encapsulating your neural network. Feel free to modify the interface if you need to (add arguments, add return values, add methods etc.). For example, you may want to add a method `do_gradient_step()` that executes one optimization algorithm (SGD / Adadelta / Adam / ...) step."
   ]
  },
  {
   "cell_type": "code",
   "execution_count": null,
   "metadata": {},
   "outputs": [
    {
     "data": {
      "text/plain": [
       "(torch.Size([14043, 28, 28]), torch.Size([14043]), torch.Size([10]))"
      ]
     },
     "execution_count": 14,
     "metadata": {},
     "output_type": "execute_result"
    }
   ],
   "source": [
    "X_train.shape, y_train.shape, torch.unique(y_train).size()"
   ]
  },
  {
   "cell_type": "code",
   "execution_count": null,
   "metadata": {},
   "outputs": [],
   "source": [
    "import functools\n",
    "import functional\n",
    "import itertools\n",
    "import abc\n",
    "\n",
    "class ParameterizedModel(abc.ABC):\n",
    "    def __init__(self):\n",
    "        self.training = True\n",
    "    def set_mode(self, training: bool, recursive: bool = True):\n",
    "        if self.training != training and recursive:\n",
    "            for p in self.parameters():\n",
    "                p.requires_grad_(training)\n",
    "        self.training = training\n",
    "    @abc.abstractmethod\n",
    "    def forward(self, input):\n",
    "        return input\n",
    "    @abc.abstractmethod\n",
    "    def parameters(self):\n",
    "        return tuple()\n",
    "\n",
    "class Sequential(ParameterizedModel):\n",
    "    def __init__(self, *layers: ParameterizedModel):\n",
    "        super(Sequential, self).__init__()\n",
    "        self.layers = layers\n",
    "        # self._forward = functools.reduce(functional.compose, self.layers, functional.id)\n",
    "    def forward(self, input):\n",
    "        # return self._forward(*input)\n",
    "        for layer in self.layers:\n",
    "            input = layer.forward(input)\n",
    "        return input\n",
    "    def parameters(self):\n",
    "        return sum(map(lambda x: x.parameters(), self.layers), tuple())\n",
    "    def set_mode(self, training: bool):\n",
    "        super(Sequential, self).set_mode(training, recursive=False)\n",
    "        for layer in self.layers:\n",
    "            layer.set_mode(training)\n",
    "\n",
    "class Linear(ParameterizedModel):\n",
    "    def __init__(self, n_in, n_out, bias=True):\n",
    "        super(Linear, self).__init__()\n",
    "        self.mat = torch.Tensor(n_in,\n",
    "                                n_out) # row-centric\n",
    "        self.bias = torch.Tensor(1, n_out)\n",
    "    def forward(self, input):\n",
    "        input = input @ self.mat # malloc\n",
    "        input += self.bias\n",
    "        return input\n",
    "    def parameters(self):\n",
    "        return (self.mat, self.bias)\n",
    "\n",
    "class Conv2d(ParameterizedModel):\n",
    "    def __init__(self, in_channels, out_channels, kernel_size=3, padding=1, **kwargs):\n",
    "        super(Conv2d, self).__init__()\n",
    "        self._kwargs = kwargs\n",
    "        kernel_size = kernel_size if isinstance(kernel_size, tuple) else 2 * (kernel_size,)\n",
    "        # self._kwargs['kernel_size'] = kernel_size\n",
    "        self._kwargs['padding'] = padding\n",
    "        self.weights = torch.empty(out_channels, in_channels, *kernel_size)\n",
    "    def forward(self, input):\n",
    "        return torch.conv2d(input, self.weights, **self._kwargs)\n",
    "    def parameters(self):\n",
    "        return (self.weights,)\n",
    "\n",
    "class Apply(ParameterizedModel):\n",
    "    def __init__(self, func, *args, **kwargs):\n",
    "        super(Apply, self).__init__()\n",
    "        self.func = func\n",
    "        self._args = args\n",
    "        self._kwargs = kwargs\n",
    "    def forward(self, input):\n",
    "        return self.func(input, *self._args, **self._kwargs)\n",
    "    def parameters(self):\n",
    "        return tuple()\n",
    "    \n",
    "class Combine(ParameterizedModel):\n",
    "    def __init__(self, *layers, combinator=torch.cat):\n",
    "        super(Combine, self).__init__()\n",
    "        self.layers = layers\n",
    "        self.combinator = combinator\n",
    "    def forward(self, input):\n",
    "        return self.combinator([layer.forward(input)\n",
    "                                for layer in self.layers])\n",
    "    def parameters(self):\n",
    "        return sum(map(lambda x: x.parameters(), self.layers), tuple())\n",
    "    def set_mode(self, training: bool):\n",
    "        super(Combine, self).set_mode(training, recursive=False)\n",
    "        for layer in self.layers:\n",
    "            layer.set_mode(training)\n",
    "    \n",
    "class Identity(ParameterizedModel):\n",
    "    def forward(self, input):\n",
    "        return input\n",
    "    def parameters(self):\n",
    "        return tuple()\n",
    "\n",
    "class Dropout(ParameterizedModel):\n",
    "    def __init__(self, p):\n",
    "        super(Dropout, self).__init__()\n",
    "        self.p = p\n",
    "    def forward(self, input):\n",
    "        return torch.dropout(input, p=self.p, train=self.training)\n",
    "    def parameters(self):\n",
    "        return tuple() \n",
    "    \n",
    "def WideResBlock(in_ch, out_ch, ks, p=.75):\n",
    "    return Combine(Identity(),\n",
    "                   Sequential(\n",
    "                       Conv2d(in_ch, out_ch, ks),\n",
    "                       Dropout(p),\n",
    "                       Conv2d(out_ch, out_ch, ks)),\n",
    "                   combinator=sum) # `sum` is suboptimal!\n",
    "\n",
    "class Flatten(ParameterizedModel):\n",
    "    def forward(self, input):\n",
    "        return torch.flatten(input, start_dim=1)\n",
    "    def parameters(self):\n",
    "        return tuple()\n",
    "    \n",
    "\n",
    "\n",
    "class PrintShape(ParameterizedModel):\n",
    "    def __init__(self, comment):\n",
    "        super(PrintShape, self).__init__()\n",
    "        self.comment = comment\n",
    "    def forward(self, input):\n",
    "        print('[I] {}: {}'.format(self.comment, input.shape))\n",
    "        return input\n",
    "    def parameters(self):\n",
    "        return tuple()\n",
    "\n",
    "\n",
    "class WarnAboutNans(ParameterizedModel):\n",
    "    def __init__(self, comment):\n",
    "        super(WarnAboutNans, self).__init__()\n",
    "        self.comment = comment\n",
    "    def forward(self, input):\n",
    "        nans = torch.isnan(input)\n",
    "        infs = torch.isinf(input)\n",
    "        if torch.any(nans):\n",
    "        \tprint('[W] {}: {} NaNs'.format(self.comment, torch.sum(nans).item()))\n",
    "        if torch.any(infs):\n",
    "        \tprint('[W] {}: {} Inftys'.format(self.comment, torch.sum(infs).item()))\n",
    "        return input\n",
    "    def parameters(self):\n",
    "        return tuple()\n",
    "\n",
    "class FinalModel(ParameterizedModel):\n",
    "    def __init__(self, model, n_tests=128, seed=42):\n",
    "        \"\"\"\n",
    "`FinalModel(model)` is used to deploy the `model`, meaning:\n",
    "-   `FinalModel` got a :meth:`predict()` in addition to :meth:`forward`\n",
    "-   `FinalModel` is deterministic, while source `model` may be stochastic.\n",
    "    It runs `model` several times, averaging the output.\n",
    "    Initial seed for each call of :meth:`forward()` is fixed.\n",
    "    Thus if `model` had a `Dropout` layer,\n",
    "    `FinalModel` will average outputs of realizations of `model` with different\n",
    "    disabled neurons.\"\"\"\n",
    "        self.model = model\n",
    "        self.n_tests = n_tests\n",
    "        self.seed = seed\n",
    "    def forward(self, input):\n",
    "        training = self.model.training\n",
    "        try:\n",
    "            self.model.set_mode(training=False)\n",
    "            return self.model.forward(input)\n",
    "        finally:\n",
    "            self.model.set_mode(training=training)\n",
    "    def predict(self, input):\n",
    "        \"\"\"\n",
    "        images: `torch.tensor` of shape `batch_size x height x width`\n",
    "            and dtype `torch.float32`.\n",
    "        \n",
    "        returns: `output`, a `torch.tensor` of shape `batch_size x 10`,\n",
    "            where `output[i][j]` is the probability of `i`-th\n",
    "            batch sample to belong to `j`-th class.\n",
    "        \"\"\"\n",
    "        meas = self.forward(input)\n",
    "        return meas.argmax(-1)\n",
    "    def parameters(self):\n",
    "        return self.model.parameters()\n",
    "#\n",
    "# End of modeling part.\n",
    "# ---\n",
    "# Data Loader, optimizer, train loop\n",
    "# ---\n",
    "#\n",
    "\n",
    "def make_epoch_batches(signal, response, batch_size):\n",
    "    dataset_size = signal.shape[0]\n",
    "    indices = torch.randperm(dataset_size)\n",
    "    head = indices[len(indices) % batch_size]\n",
    "    while len(indices) >= batch_size:\n",
    "        batch, indices = indices[:batch_size], indices[batch_size:]\n",
    "        yield signal[batch], response[batch]\n",
    "    if len(indices) > 0:\n",
    "        batch = torch.cat(indices, head)\n",
    "        yield signal[batch], response[batch]\n",
    "\n",
    "class Adam:\n",
    "    def __init__(self, parameters, lr=1e-3, betas=[.9, .999], vareps=1e-8):\n",
    "        self.parameters = parameters\n",
    "        self.betas = betas\n",
    "        self.lr = lr\n",
    "        self.vareps = vareps\n",
    "        (self.velo,\n",
    "         self.accel,\n",
    "         self.velo_buf,\n",
    "         self.accel_buf,\n",
    "         self.par_temp) = [list() for i in range(5)]\n",
    "        # TODO:\n",
    "        for p in parameters:\n",
    "            self.velo.append(torch.zeros_like(p))\n",
    "            self.accel.append(torch.zeros_like(p))\n",
    "            self.velo_buf.append(torch.zeros_like(p))\n",
    "            self.accel_buf.append(torch.zeros_like(p))\n",
    "            self.par_temp.append(torch.zeros_like(p))\n",
    "        self._epoch_posthooks = []\n",
    "    def register_epoch_posthook(self, hook):\n",
    "        self._epoch_posthooks.append(hook)\n",
    "    def _zero_grad(self):\n",
    "        with torch.no_grad():\n",
    "            for p in self.parameters:\n",
    "                if p.grad is not None:\n",
    "                    p.grad.zero_()\n",
    "    def _step(self):\n",
    "        b1, b2 = self.betas\n",
    "        vareps = self.vareps\n",
    "        b1t, b2t = b1, b2\n",
    "        buffers = zip(\n",
    "            self.parameters,\n",
    "            self.velo,\n",
    "            self.velo_buf,\n",
    "            self.accel,\n",
    "            self.accel_buf,\n",
    "        )\n",
    "        for B in buffers:\n",
    "            p, m1, m1_buf, m2, m2_buf = B\n",
    "            assert hasattr(p, 'grad') and p.grad is not None\n",
    "            # m1 <- b1 m1 + (1 - b1) grad\n",
    "            m1.mul_(b1)\n",
    "            m1_buf.copy_(p.grad.data)\n",
    "            m1_buf.mul_(1. - b1)\n",
    "            m1.add_(m1_buf)\n",
    "            # m2 <- b2 m2 + (1 - b2) [grad]^2\n",
    "            m2.mul_(b2)\n",
    "            m2_buf.copy_(p.grad.data)\n",
    "            m2_buf.mul_(p.grad.data)\n",
    "            m2.add_(m2_buf)\n",
    "            # correction\n",
    "            m1_buf.copy_(m1)\n",
    "            m2_buf.copy_(m2)\n",
    "            m1_buf.div_(1. - b1t)\n",
    "            m2_buf.div_(1. - b2t)\n",
    "            # actual update\n",
    "            # p <- p - alpha m1_corrected / ((sqrt m2_corrected) + varepsilon)\n",
    "            alpha_t = self.lr * math.sqrt(1. - b2t)/(1. - b1t)\n",
    "            alpha_t = self.lr\n",
    "            m2_buf.sqrt_()\n",
    "            m2_buf.add_(self.vareps)\n",
    "            m1_buf.div_(m2_buf)\n",
    "            m1_buf.mul_(-alpha_t)\n",
    "            with torch.no_grad():\n",
    "                p.add_(m1_buf)\n",
    "            # end of update\n",
    "            b1t *= b1\n",
    "            b2t *= b2\n",
    "    def evolve(self, model, loss, make_batches, n_epochs):\n",
    "        for e in range(n_epochs):\n",
    "            for images, labels in make_batches():\n",
    "                self._zero_grad()\n",
    "                pred = model.forward(images)\n",
    "                L = loss(pred, labels)\n",
    "                L.backward()\n",
    "                self._step()\n",
    "            for hook in self._epoch_posthooks:\n",
    "                hook(e, model)\n",
    "\n",
    "\n",
    "def crossentropy(pred, labels):\n",
    "    truth = torch.zeros_like(pred)\n",
    "    truth.index_fill_(dim=1, index=labels, value=1.)\n",
    "    return torch.sum(torch.log_softmax(pred, dim=-1)\n",
    "                     * truth\n",
    "                     / pred.shape[0])"
   ]
  },
  {
   "cell_type": "code",
   "execution_count": null,
   "metadata": {},
   "outputs": [],
   "source": [
    "def accuracy(model, images, labels):\n",
    "    \"\"\"\n",
    "    model: `NeuralNet`\n",
    "    images: `torch.tensor` of shape `N x height x width`\n",
    "        and dtype `torch.float32`\n",
    "    labels: `torch.tensor` of shape `N` and dtype `torch.int64`. Contains\n",
    "        class index for each sample\n",
    "    \n",
    "    returns:\n",
    "        fraction of samples from `images` correctly classified by `model`\n",
    "    \"\"\"\n",
    "    # Your code here\n",
    "    pred = model.predict(images)\n",
    "    return torch.sum(pred == labels)/float(labels.shape[0])"
   ]
  },
  {
   "cell_type": "code",
   "execution_count": null,
   "metadata": {},
   "outputs": [],
   "source": [
    "def test_adam():\n",
    "    class QModel(ParameterizedModel):\n",
    "        def __init__(self, A):\n",
    "            self.A = A\n",
    "        def forward(self, input):\n",
    "            A = self.A\n",
    "            out = torch.einsum('bi,ij,bj->b', input, A, input)\n",
    "            assert out.dim() == 1\n",
    "            return out\n",
    "        def parameters(self):\n",
    "            return (self.A,)\n",
    "    n = 5\n",
    "    true_model = QModel(torch.randn(n, n))\n",
    "    def make_batches():\n",
    "        def batches(bs=128):\n",
    "            while True:\n",
    "                x = torch.randn(bs, n)\n",
    "                y = true_model.forward(x)\n",
    "                yield (x, y)\n",
    "        return batches()\n",
    "    trainable = QModel(torch.randn(n, n, requires_grad=True))\n",
    "    opt = Adam(trainable.parameters(), lr=.1)\n",
    "    lossporn = []\n",
    "    opt.register_epoch_posthook(lambda L: lossporn.append(L))\n",
    "    loss = lambda pred, labels: torch.norm(pred - labels)**2\n",
    "    opt.evolve(trainable, loss, make_batches, 1000)\n",
    "    fig, ax = plt.subplots()\n",
    "    ax.plot(lossporn)\n",
    "    with torch.no_grad():\n",
    "        print(torch.norm(true_model.A - trainable.A))\n",
    "test_adam()\n",
    "plt.show()"
   ]
  },
  {
   "cell_type": "code",
   "execution_count": null,
   "metadata": {},
   "outputs": [],
   "source": [
    "class AddExplicitChannel(ParameterizedModel):\n",
    "    def forward(self, input):\n",
    "        return input.unsqueeze(-3)\n",
    "    def parameters(self):\n",
    "        return tuple()\n",
    "    \n",
    "\n",
    "def make_wide_resnet():\n",
    "    network = Sequential(\n",
    "        AddExplicitChannel(),\n",
    "        # PrintShape(\"dummy channel\"),\n",
    "        WideResBlock(1, 3, 3, .5),\n",
    "        # PrintShape(\"res1\"),\n",
    "        WideResBlock(3, 3, 3, .5),\n",
    "        # PrintShape(\"res1\"),\n",
    "        WideResBlock(3, 3, 3, .5),\n",
    "        # PrintShape(\"res1\"),\n",
    "        Conv2d(3, 1, 1, # merge to just one channel\n",
    "               padding=0), # otherwise width and height get increased by 2\n",
    "        # PrintShape(\"1x1\"),\n",
    "        Flatten(),\n",
    "        # PrintShape(\"flattened\"),\n",
    "        Linear(28*28, 10),\n",
    "    )\n",
    "    for p in network.parameters():\n",
    "        p.normal_()\n",
    "        p.requires_grad_(True)\n",
    "    return network\n",
    "\n",
    "\n",
    "trainable_model = make_wide_resnet()\n",
    "model = FinalModel(trainable_model, 2)\n",
    "print('\\n'.join([str(tuple(x.shape)) for x in trainable_model.parameters()]))\n",
    "\n",
    "# Your code here (train the model)\n",
    "def do(n_epochs):\n",
    "    fig, ax = plt.subplots()\n",
    "    handle = display(None, display_id=True)\n",
    "    opt = Adam(trainable_model.parameters(), .5)\n",
    "    loss_history = []\n",
    "    def epoch_posthook(epoch, model):\n",
    "        try:\n",
    "            model.set_mode(training=False)\n",
    "            acc = accuracy(model, X_test, y_test)\n",
    "            loss_history.append(acc)\n",
    "            ax.clear()\n",
    "            ax.set_title('Logloss')\n",
    "            ax.set_xlabel('iter')\n",
    "            ax.set_ylabel('log 1-NLL')\n",
    "            ax.plot(loss_history)\n",
    "            fig.canvas.draw()\n",
    "            handle.update(fig)\n",
    "        finally:\n",
    "            model.set_mode(training=True)\n",
    "    opt.register_epoch_posthook(epoch_posthook)\n",
    "    loss = crossentropy\n",
    "    opt.evolve(trainable_model, loss, make_batch_stream(X_train, y_train, 100), n_epochs)\n",
    "\n",
    "do(100)"
   ]
  },
  {
   "cell_type": "code",
   "execution_count": null,
   "metadata": {},
   "outputs": [],
   "source": [
    "train_acc = accuracy(model, X_train, y_train) * 100\n",
    "test_acc = accuracy(model, X_test, y_test) * 100\n",
    "print(\"Train accuracy: %.2f, test accuracy: %.2f\" % (train_acc, test_acc))\n",
    "\n",
    "assert test_acc >= 82.0, \"You have to do better\""
   ]
  },
  {
   "cell_type": "code",
   "execution_count": null,
   "metadata": {},
   "outputs": [],
   "source": []
  }
 ],
 "metadata": {
  "kernelspec": {
   "display_name": "Python 3",
   "language": "python",
   "name": "python3"
  },
  "language_info": {
   "codemirror_mode": {
    "name": "ipython",
    "version": 3
   },
   "file_extension": ".py",
   "mimetype": "text/x-python",
   "name": "python",
   "nbconvert_exporter": "python",
   "pygments_lexer": "ipython3",
   "version": "3.7.2"
  }
 },
 "nbformat": 4,
 "nbformat_minor": 2
}
