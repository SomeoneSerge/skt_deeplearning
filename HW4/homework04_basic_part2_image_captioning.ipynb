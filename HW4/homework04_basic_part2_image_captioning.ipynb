{
  "nbformat": 4,
  "nbformat_minor": 0,
  "metadata": {
    "colab": {
      "name": "homework04_basic_part2_image_captioning.ipynb",
      "version": "0.3.2",
      "provenance": [],
      "collapsed_sections": [],
      "toc_visible": true
    },
    "language_info": {
      "codemirror_mode": {
        "name": "ipython",
        "version": 3
      },
      "file_extension": ".py",
      "mimetype": "text/x-python",
      "name": "python",
      "nbconvert_exporter": "python",
      "pygments_lexer": "ipython3",
      "version": "3.6.8"
    },
    "kernelspec": {
      "display_name": "Python 3",
      "language": "python",
      "name": "python3"
    }
  },
  "cells": [
    {
      "cell_type": "markdown",
      "metadata": {
        "id": "nrpFbB8T2ax3",
        "colab_type": "text"
      },
      "source": [
        "<h1 align=\"center\"> Image Captioning (8 points) </h1>\n",
        "\n",
        "In this notebook you will teach a network to do image captioning\n",
        "![img](https://i.imgur.com/obITaMl.png)\n",
        "\n",
        "\n",
        "\n",
        "#### Alright, here's our plan:\n",
        "1. Take a pre-trained inception v3 to vectorize images\n",
        "2. Stack an LSTM on top of it\n",
        "3. Train the thing on [MSCOCO](http://cocodataset.org/#download)"
      ]
    },
    {
      "cell_type": "code",
      "metadata": {
        "id": "XZrHR9dF2ax8",
        "colab_type": "code",
        "colab": {
          "base_uri": "https://localhost:8080/",
          "height": 753
        },
        "outputId": "582073e6-c440-4845-8573-885abadc0ee1"
      },
      "source": [
        "# Please either download data from https://yadi.sk/d/b4nAwIE73TVcp5 or generate it manually with preprocess_data.ipynb\n",
        "! git clone https://github.com/newkozlukov/skt_deeplearning\n",
        "! apt install git-lfs\n",
        "! cd skt_deeplearning/HW4 ; make"
      ],
      "execution_count": 1,
      "outputs": [
        {
          "output_type": "stream",
          "text": [
            "Cloning into 'skt_deeplearning'...\n",
            "remote: Enumerating objects: 8, done.\u001b[K\n",
            "remote: Counting objects:  12% (1/8)   \u001b[K\rremote: Counting objects:  25% (2/8)   \u001b[K\rremote: Counting objects:  37% (3/8)   \u001b[K\rremote: Counting objects:  50% (4/8)   \u001b[K\rremote: Counting objects:  62% (5/8)   \u001b[K\rremote: Counting objects:  75% (6/8)   \u001b[K\rremote: Counting objects:  87% (7/8)   \u001b[K\rremote: Counting objects: 100% (8/8)   \u001b[K\rremote: Counting objects: 100% (8/8), done.\u001b[K\n",
            "remote: Compressing objects: 100% (7/7), done.\u001b[K\n",
            "remote: Total 1256 (delta 1), reused 4 (delta 1), pack-reused 1248\u001b[K\n",
            "Receiving objects: 100% (1256/1256), 71.23 MiB | 33.20 MiB/s, done.\n",
            "Resolving deltas: 100% (723/723), done.\n",
            "Reading package lists... Done\n",
            "Building dependency tree       \n",
            "Reading state information... Done\n",
            "The following package was automatically installed and is no longer required:\n",
            "  libnvidia-common-410\n",
            "Use 'apt autoremove' to remove it.\n",
            "The following NEW packages will be installed:\n",
            "  git-lfs\n",
            "0 upgraded, 1 newly installed, 0 to remove and 7 not upgraded.\n",
            "Need to get 2,129 kB of archives.\n",
            "After this operation, 7,662 kB of additional disk space will be used.\n",
            "Get:1 http://archive.ubuntu.com/ubuntu bionic/universe amd64 git-lfs amd64 2.3.4-1 [2,129 kB]\n",
            "Fetched 2,129 kB in 1s (1,635 kB/s)\n",
            "Selecting previously unselected package git-lfs.\n",
            "(Reading database ... 130824 files and directories currently installed.)\n",
            "Preparing to unpack .../git-lfs_2.3.4-1_amd64.deb ...\n",
            "Unpacking git-lfs (2.3.4-1) ...\n",
            "Setting up git-lfs (2.3.4-1) ...\n",
            "Processing triggers for man-db (2.8.3-2ubuntu0.1) ...\n",
            "git lfs install\n",
            "Updated git hooks.\n",
            "Git LFS initialized.\n",
            "git lfs fetch\n",
            "Fetching master\n",
            "Git LFS: (4 of 4 files) 1.04 GB / 1.04 GB\n",
            "git lfs checkout -- .\n",
            "Git LFS: (2 of 2 files) 965.58 MB / 965.58 MB\n",
            "git pull\n",
            "Already up to date.\n",
            "unzip Train_rev1.zip\n",
            "Archive:  Train_rev1.zip\n",
            "  inflating: Train_rev1.csv          \n"
          ],
          "name": "stdout"
        }
      ]
    },
    {
      "cell_type": "code",
      "metadata": {
        "id": "Ueknqvgn3HO6",
        "colab_type": "code",
        "colab": {}
      },
      "source": [
        "! tar -xf skt_deeplearning/HW4/handout.tar.gz"
      ],
      "execution_count": 0,
      "outputs": []
    },
    {
      "cell_type": "markdown",
      "metadata": {
        "id": "-f8YbCsa2ayG",
        "colab_type": "text"
      },
      "source": [
        "### Data preprocessing"
      ]
    },
    {
      "cell_type": "code",
      "metadata": {
        "id": "4Im22dq42ayI",
        "colab_type": "code",
        "colab": {
          "base_uri": "https://localhost:8080/",
          "height": 55
        },
        "outputId": "4077c9ce-f2de-4e9b-883e-bff22bfc0db1"
      },
      "source": [
        "%%time\n",
        "# Read Dataset\n",
        "import numpy as np\n",
        "import json\n",
        "\n",
        "img_codes = np.load(\"data/image_codes.npy\")\n",
        "captions = json.load(open('data/captions_tokenized.json'))"
      ],
      "execution_count": 3,
      "outputs": [
        {
          "output_type": "stream",
          "text": [
            "CPU times: user 247 ms, sys: 975 ms, total: 1.22 s\n",
            "Wall time: 7.98 s\n"
          ],
          "name": "stdout"
        }
      ]
    },
    {
      "cell_type": "markdown",
      "metadata": {
        "id": "kaTD47Of2ayU",
        "colab_type": "text"
      },
      "source": [
        "### Data structure\n",
        "\n",
        "To save your time, we've already vectorized all MSCOCO17 images with a pre-trained inception_v3 network from [torchvision](https://github.com/pytorch/vision/blob/master/torchvision/models/inception.py).\n",
        "\n",
        "The whole process takes anywhere between a day on CPU and 10min on 3x tesla m40. If you want to play with that yourself, [you're welcome](https://gist.github.com/justheuristic/11fd01f9c12c0bf960499580d104130b)."
      ]
    },
    {
      "cell_type": "code",
      "metadata": {
        "id": "P9d2uSc52ayW",
        "colab_type": "code",
        "colab": {
          "base_uri": "https://localhost:8080/",
          "height": 225
        },
        "outputId": "9c0febfa-d7ae-4286-f2a5-8323991b265b"
      },
      "source": [
        "print(\"Each image code is a 2048-unit vector [ shape: %s ]\" % str(img_codes.shape))\n",
        "print(img_codes[0,:10], end='\\n\\n')\n",
        "print(\"For each image there are 5 reference captions, e.g.:\\n\")\n",
        "print('\\n'.join(captions[0]))"
      ],
      "execution_count": 4,
      "outputs": [
        {
          "output_type": "stream",
          "text": [
            "Each image code is a 2048-unit vector [ shape: (118287, 2048) ]\n",
            "[0.3659946  0.2016555  0.9245725  0.57063824 0.547268   0.8275868\n",
            " 0.3687277  0.12085301 0.0561931  0.49758485]\n",
            "\n",
            "For each image there are 5 reference captions, e.g.:\n",
            "\n",
            "people shopping in an open market for vegetables .\n",
            "an open market full of people and piles of vegetables .\n",
            "people are shopping at an open air produce market .\n",
            "large piles of carrots and potatoes at a crowded outdoor market .\n",
            "people shop for vegetables like carrots and potatoes at an open air market .\n"
          ],
          "name": "stdout"
        }
      ]
    },
    {
      "cell_type": "markdown",
      "metadata": {
        "id": "57YgVI3h2ayf",
        "colab_type": "text"
      },
      "source": [
        "As you can see, all captions are already tokenized and lowercased. We now want to split them and add some special tokens for start/end of caption."
      ]
    },
    {
      "cell_type": "code",
      "metadata": {
        "id": "Berk-7aw2ayh",
        "colab_type": "code",
        "colab": {}
      },
      "source": [
        "#split descriptions into tokens\n",
        "for img_i in range(len(captions)):\n",
        "    for caption_i in range(len(captions[img_i])):\n",
        "        sentence = captions[img_i][caption_i] \n",
        "        captions[img_i][caption_i] = [\"#START#\"]+sentence.split(' ')+[\"#END#\"]"
      ],
      "execution_count": 0,
      "outputs": []
    },
    {
      "cell_type": "markdown",
      "metadata": {
        "id": "9XkQu-ep2ayo",
        "colab_type": "text"
      },
      "source": [
        "You don't want your network to predict a million-size vector of probabilities at each step, so we're gotta make some cuts. \n",
        "\n",
        "We want you to __count the occurences of each word__ so that we can decide which words to keep in our vocabulary."
      ]
    },
    {
      "cell_type": "code",
      "metadata": {
        "id": "T26m4XGb2ayp",
        "colab_type": "code",
        "colab": {}
      },
      "source": [
        "# Build a Vocabulary\n",
        "from collections import Counter\n",
        "word_counts = Counter()\n",
        "\n",
        "# Compute word frequencies for each word in captions. See code above for data structure\n",
        "import itertools\n",
        "word_counts = Counter(\n",
        "    itertools.chain.from_iterable(itertools.chain.from_iterable(captions))\n",
        ")"
      ],
      "execution_count": 0,
      "outputs": []
    },
    {
      "cell_type": "code",
      "metadata": {
        "id": "wgiSBI1N2ayy",
        "colab_type": "code",
        "colab": {}
      },
      "source": [
        "vocab  = ['#UNK#', '#START#', '#END#', '#PAD#']\n",
        "vocab += [k for k, v in word_counts.items() if v >= 5 if k not in vocab]\n",
        "n_tokens = len(vocab)\n",
        "\n",
        "assert 10000 <= n_tokens <= 10500\n",
        "\n",
        "word_to_index = {w: i for i, w in enumerate(vocab)}"
      ],
      "execution_count": 0,
      "outputs": []
    },
    {
      "cell_type": "code",
      "metadata": {
        "id": "3bcR5rVxTJde",
        "colab_type": "code",
        "colab": {
          "base_uri": "https://localhost:8080/",
          "height": 36
        },
        "outputId": "dcac366b-7178-48f1-c4f5-dfe0aac9e24e"
      },
      "source": [
        "print(len(word_to_index))"
      ],
      "execution_count": 8,
      "outputs": [
        {
          "output_type": "stream",
          "text": [
            "10403\n"
          ],
          "name": "stdout"
        }
      ]
    },
    {
      "cell_type": "code",
      "metadata": {
        "id": "uba7v5B72ay-",
        "colab_type": "code",
        "colab": {}
      },
      "source": [
        "eos_ix = word_to_index['#END#']\n",
        "unk_ix = word_to_index['#UNK#']\n",
        "pad_ix = word_to_index['#PAD#']\n",
        "\n",
        "def as_matrix(sequences, max_len=None):\n",
        "    \"\"\" Convert a list of tokens into a matrix with padding \"\"\"\n",
        "    max_len = max_len or max(map(len,sequences))\n",
        "    \n",
        "    matrix = np.zeros((len(sequences), max_len), dtype='int32') + pad_ix\n",
        "    for i,seq in enumerate(sequences):\n",
        "        row_ix = [word_to_index.get(word, unk_ix) for word in seq[:max_len]]\n",
        "        matrix[i, :len(row_ix)] = row_ix\n",
        "    \n",
        "    return matrix"
      ],
      "execution_count": 0,
      "outputs": []
    },
    {
      "cell_type": "code",
      "metadata": {
        "id": "lGI2Mp1y2azJ",
        "colab_type": "code",
        "colab": {
          "base_uri": "https://localhost:8080/",
          "height": 206
        },
        "outputId": "93fa67cd-1460-4a40-8a94-f5c07a37943a"
      },
      "source": [
        "#try it out on several descriptions of a random image\n",
        "as_matrix(captions[1337])"
      ],
      "execution_count": 10,
      "outputs": [
        {
          "output_type": "execute_result",
          "data": {
            "text/plain": [
              "array([[   1,   24,  262,  140,    6,  159,   14,   24,  858,  155,   12,\n",
              "           2,    3,    3,    3,    3,    3,    3,    3],\n",
              "       [   1,   24,  262,   53,   18,   24,  858,  155,    2,    3,    3,\n",
              "           3,    3,    3,    3,    3,    3,    3,    3],\n",
              "       [   1,   24,  262,   41,   18,  903,   35,  620,  155,    2,    3,\n",
              "           3,    3,    3,    3,    3,    3,    3,    3],\n",
              "       [   1,   45,  115,  262,   41,   53,   18,  620, 1525,   77,   12,\n",
              "           2,    3,    3,    3,    3,    3,    3,    3],\n",
              "       [   1,   24,  262,   53,   18,   24,  858,  123,   58,   45,  276,\n",
              "        3641,   24, 3642,   35,   45, 1128,   12,    2]], dtype=int32)"
            ]
          },
          "metadata": {
            "tags": []
          },
          "execution_count": 10
        }
      ]
    },
    {
      "cell_type": "markdown",
      "metadata": {
        "id": "LTik0uK22azW",
        "colab_type": "text"
      },
      "source": [
        "### Building our neural network\n",
        "\n",
        "As we mentioned earlier, we shall build an rnn \"language-model\" conditioned on vectors from the convolutional part. \n",
        "\n",
        "![img](https://raw.githubusercontent.com/yunjey/pytorch-tutorial/master/tutorials/03-advanced/image_captioning/png/model.png)\n",
        "_image: http://bit.ly/2FKnqHm_\n",
        "\n",
        "\n",
        "We'll unbox the inception net later to save memory, for now just pretend that it's available.\n"
      ]
    },
    {
      "cell_type": "code",
      "metadata": {
        "id": "mIb5YX_K2azY",
        "colab_type": "code",
        "colab": {}
      },
      "source": [
        "import torch, torch.nn as nn\n",
        "import torch.nn.functional as F"
      ],
      "execution_count": 0,
      "outputs": []
    },
    {
      "cell_type": "code",
      "metadata": {
        "id": "8ja_2zSD2aze",
        "colab_type": "code",
        "colab": {}
      },
      "source": [
        "class CaptionNet(nn.Module):\n",
        "    def __init__(self, n_tokens=n_tokens, emb_size=128, lstm_units=256, cnn_feature_size=2048):\n",
        "        \"\"\" A recurrent 'head' network for image captioning. See scheme above. \"\"\"\n",
        "        super(self.__class__, self).__init__()\n",
        "        \n",
        "        # a layer that converts conv features to \n",
        "        self.cnn_to_h0 = nn.Linear(cnn_feature_size, lstm_units)\n",
        "        self.cnn_to_c0 = nn.Linear(cnn_feature_size, lstm_units)\n",
        "        \n",
        "        # recurrent part, please create the layers as per scheme above.\n",
        "\n",
        "        # create embedding for input words. Use the parameters (e.g. emb_size).\n",
        "        self.emb = torch.nn.Embedding(n_tokens, emb_size, padding_idx=pad_ix)\n",
        "        # lstm: create a recurrent core of your network. Use either LSTMCell or just LSTM. \n",
        "        # In the latter case (nn.LSTM), make sure batch_first=True\n",
        "        self.lstm = torch.nn.LSTM(emb_size, lstm_units, batch_first=True)\n",
        "            \n",
        "        # create logits: linear layer that takes lstm hidden state as input and computes one number per token\n",
        "        self.logits = torch.nn.Linear(lstm_units, n_tokens) \n",
        "        \n",
        "    def forward(self, image_vectors, captions_ix):\n",
        "        \"\"\" \n",
        "        Apply the network in training mode. \n",
        "        :param image_vectors: torch tensor containing inception vectors. shape: [batch, cnn_feature_size]\n",
        "        :param captions_ix: torch tensor containing captions as matrix. shape: [batch, word_i]. \n",
        "            padded with pad_ix\n",
        "        :returns: logits for next token at each tick, shape: [batch, word_i, n_tokens]\n",
        "        \"\"\"\n",
        "        initial_cell = self.cnn_to_c0(image_vectors)\n",
        "        initial_hid = self.cnn_to_h0(image_vectors)\n",
        "        \n",
        "        # compute embeddings for captions_ix\n",
        "        captions_emb = self.emb(captions_ix)\n",
        "        \n",
        "        # apply recurrent layer to captions_emb. \n",
        "        # 1. initialize lstm state with initial_* from above\n",
        "        # 2. feed it with captions. Mind the dimension order in docstring\n",
        "        # 3. compute logits for next token probabilities\n",
        "        # Note: if you used nn.LSTM, you can just give it (initial_cell[None], initial_hid[None]) as second arg\n",
        "\n",
        "        # lstm_out should be lstm hidden state sequence of shape [batch, caption_length, lstm_units]\n",
        "        lstm_out, (hn, cn) = self.lstm(captions_emb, (initial_hid.unsqueeze(0), initial_cell.unsqueeze(0)))\n",
        "        \n",
        "        # compute logits from lstm_out\n",
        "        logits = self.logits(lstm_out)\n",
        "        \n",
        "        return logits        "
      ],
      "execution_count": 0,
      "outputs": []
    },
    {
      "cell_type": "code",
      "metadata": {
        "id": "64cKSZDF2azl",
        "colab_type": "code",
        "colab": {}
      },
      "source": [
        "network = CaptionNet(n_tokens)"
      ],
      "execution_count": 0,
      "outputs": []
    },
    {
      "cell_type": "code",
      "metadata": {
        "id": "FAOE4PBn2azt",
        "colab_type": "code",
        "colab": {
          "base_uri": "https://localhost:8080/",
          "height": 36
        },
        "outputId": "207f6f11-4036-405d-c881-13b457418a1a"
      },
      "source": [
        "dummy_img_vec = torch.randn(len(captions[0]), 2048)\n",
        "dummy_capt_ix = torch.tensor(as_matrix(captions[0]), dtype=torch.int64)\n",
        "\n",
        "dummy_logits = network.forward(dummy_img_vec, dummy_capt_ix)\n",
        "\n",
        "print('shape:', dummy_logits.shape)\n",
        "assert dummy_logits.shape == (dummy_capt_ix.shape[0], dummy_capt_ix.shape[1], n_tokens)"
      ],
      "execution_count": 14,
      "outputs": [
        {
          "output_type": "stream",
          "text": [
            "shape: torch.Size([5, 16, 10403])\n"
          ],
          "name": "stdout"
        }
      ]
    },
    {
      "cell_type": "code",
      "metadata": {
        "id": "D3pEXrIm2azz",
        "colab_type": "code",
        "colab": {}
      },
      "source": [
        "def compute_loss(network, image_vectors, captions_ix):\n",
        "    \"\"\"\n",
        "    :param image_vectors: torch tensor containing inception vectors. shape: [batch, cnn_feature_size]\n",
        "    :param captions_ix: torch tensor containing captions as matrix. shape: [batch, word_i]. \n",
        "        padded with pad_ix\n",
        "    :returns: scalar crossentropy loss (neg llh) loss for next captions_ix given previous ones\n",
        "    \"\"\"\n",
        "    \n",
        "    # captions for input - all except last cuz we don't know next token for last one.\n",
        "    captions_ix_inp = captions_ix[:, :-1].contiguous()\n",
        "    captions_ix_next = captions_ix[:, 1:].contiguous()\n",
        "    \n",
        "    # apply the network, get predictions for captions_ix_next\n",
        "    logits_for_next = network.forward(image_vectors, captions_ix_inp)\n",
        "    \n",
        "    \n",
        "    # compute the loss function between logits_for_next and captions_ix_next\n",
        "    # Use the mask, Luke: make sure that predicting next tokens after EOS do not contribute to loss\n",
        "    # you can do that either by multiplying elementwise loss by (captions_ix_next != pad_ix)\n",
        "    # or by using ignore_index in some losses.\n",
        "    n_tokens = len(word_to_index)\n",
        "    words = logits_for_next.shape[0] * logits_for_next.shape[1]\n",
        "    loss = -1. * torch.nn.functional.nll_loss(\n",
        "        logits_for_next.view(words, len(word_to_index)),\n",
        "        captions_ix_next.view(words).long(),\n",
        "        ignore_index=int(pad_ix))\n",
        "    \n",
        "    return loss.view(1)"
      ],
      "execution_count": 0,
      "outputs": []
    },
    {
      "cell_type": "code",
      "metadata": {
        "id": "B-wZCjqp2az7",
        "colab_type": "code",
        "colab": {}
      },
      "source": [
        "dummy_loss = compute_loss(network, dummy_img_vec, dummy_capt_ix)\n",
        "\n",
        "assert dummy_loss.shape == torch.Size([1]), 'loss must be scalar'\n",
        "assert dummy_loss.data.numpy() > 0, \"did you forget the 'negative' part of negative log-likelihood\"\n",
        "\n",
        "dummy_loss.backward()\n",
        "\n",
        "assert all(param.grad is not None for param in network.parameters()), \\\n",
        "        'loss should depend differentiably on all neural network weights'"
      ],
      "execution_count": 0,
      "outputs": []
    },
    {
      "cell_type": "markdown",
      "metadata": {
        "id": "VAxn6IUJ2a0B",
        "colab_type": "text"
      },
      "source": [
        "Create ~~adam~~ your favorite optimizer for the network."
      ]
    },
    {
      "cell_type": "code",
      "metadata": {
        "id": "sT8WSjik2a0C",
        "colab_type": "code",
        "colab": {}
      },
      "source": [
        "optimizer = torch.optim.Adam(network.parameters(), betas=(.8, .99), lr=.001)"
      ],
      "execution_count": 0,
      "outputs": []
    },
    {
      "cell_type": "markdown",
      "metadata": {
        "id": "EbsjdSeY2a0L",
        "colab_type": "text"
      },
      "source": [
        "# Training\n",
        "\n",
        "* First implement the batch generator\n",
        "* Than train the network as usual"
      ]
    },
    {
      "cell_type": "code",
      "metadata": {
        "id": "_G_CEMYX2a0M",
        "colab_type": "code",
        "colab": {}
      },
      "source": [
        "from sklearn.model_selection import train_test_split\n",
        "captions = np.array(captions)\n",
        "train_img_codes, val_img_codes, train_captions, val_captions = train_test_split(img_codes, captions,\n",
        "                                                                                test_size=0.1,\n",
        "                                                                                random_state=42)"
      ],
      "execution_count": 0,
      "outputs": []
    },
    {
      "cell_type": "code",
      "metadata": {
        "id": "SHipIV2S2a0X",
        "colab_type": "code",
        "colab": {}
      },
      "source": [
        "from random import choice\n",
        "\n",
        "def generate_batch(img_codes, captions, batch_size, max_caption_len=None):\n",
        "    \n",
        "    #sample random numbers for image/caption indicies\n",
        "    random_image_ix = np.random.randint(0, len(img_codes), size=batch_size)\n",
        "    \n",
        "    #get images\n",
        "    batch_images = img_codes[random_image_ix]\n",
        "    \n",
        "    #5-7 captions for each image\n",
        "    captions_for_batch_images = captions[random_image_ix]\n",
        "    \n",
        "    #pick one from a set of captions for each image\n",
        "    batch_captions = list(map(choice,captions_for_batch_images))\n",
        "    \n",
        "    #convert to matrix\n",
        "    batch_captions_ix = as_matrix(batch_captions,max_len=max_caption_len)\n",
        "    \n",
        "    return torch.tensor(batch_images, dtype=torch.float32), torch.tensor(batch_captions_ix, dtype=torch.int64)\n",
        "    "
      ],
      "execution_count": 0,
      "outputs": []
    },
    {
      "cell_type": "code",
      "metadata": {
        "id": "orrutM_C2a0d",
        "colab_type": "code",
        "colab": {
          "base_uri": "https://localhost:8080/",
          "height": 187
        },
        "outputId": "ac3427a5-0fd6-4544-ec9b-7fbcc7b6e385"
      },
      "source": [
        "generate_batch(img_codes,captions,3)"
      ],
      "execution_count": 36,
      "outputs": [
        {
          "output_type": "execute_result",
          "data": {
            "text/plain": [
              "(tensor([[0.3006, 0.0840, 0.2057,  ..., 0.0544, 2.0720, 0.7213],\n",
              "         [0.4571, 0.1411, 0.7369,  ..., 0.1462, 0.6989, 0.6711],\n",
              "         [0.0382, 0.2237, 0.3679,  ..., 0.2987, 0.8711, 0.2184]]),\n",
              " tensor([[   1,   45,  282,   41, 2011,  117,  387, 6242,   58,   45,  578,    6,\n",
              "           336,  102,   12,    2],\n",
              "         [   1,   24,   86,   87,   14,   24,   29,   51,    7, 1015,    2,    3,\n",
              "             3,    3,    3,    3],\n",
              "         [   1,   88,  147,   17,  148,  163,   24,   36, 6395,   12,    2,    3,\n",
              "             3,    3,    3,    3]]))"
            ]
          },
          "metadata": {
            "tags": []
          },
          "execution_count": 36
        }
      ]
    },
    {
      "cell_type": "markdown",
      "metadata": {
        "id": "27iWYGEQ2a0m",
        "colab_type": "text"
      },
      "source": [
        "### Main loop\n",
        "\n",
        "Train on minibatches just as usual. Evaluate on val from time to time.\n",
        "\n",
        "##### TIps\n",
        "* If training loss has become close to 0 or model produces garbage,\n",
        "    double-check that you're predicting __next__ words, not current or t+2'th words.\n",
        "* If the model generates fluent captions that have nothing to do with the images\n",
        " * this may be due to recurrent net not receiving image vectors.\n",
        " * alternatively it may be caused by gradient explosion, try clipping 'em or just restarting the training\n",
        " * finally, you may just need to train the model a bit more\n",
        "\n",
        "\n",
        "* Crossentropy is a poor measure of overfitting\n",
        " * Model can overfit validation crossentropy but keep improving validation quality.\n",
        " * Use human _(manual)_ evaluation or try automated metrics: [cider](https://github.com/vrama91/cider) or [bleu](https://www.nltk.org/_modules/nltk/translate/bleu_score.html)\n",
        " \n",
        "\n",
        "* We recommend you to periodically evaluate the network using the next \"apply trained model\" block\n",
        " *  its safe to interrupt training, run a few examples and start training again\n",
        " \n",
        "* The typical loss values should be around 3~5 if you average over time, scale by length if you sum over time. The reasonable captions began appearing at loss=2.8 ~ 3.0\n",
        " "
      ]
    },
    {
      "cell_type": "code",
      "metadata": {
        "id": "a41v59rt2a0n",
        "colab_type": "code",
        "colab": {}
      },
      "source": [
        "batch_size = 50  # adjust me\n",
        "n_epochs = 100  # adjust me\n",
        "n_batches_per_epoch = 50  # adjust me\n",
        "n_validation_batches = 5  # how many batches are used for validation after each epoch"
      ],
      "execution_count": 0,
      "outputs": []
    },
    {
      "cell_type": "code",
      "metadata": {
        "scrolled": false,
        "id": "jYaiodTg2a0y",
        "colab_type": "code",
        "colab": {
          "base_uri": "https://localhost:8080/",
          "height": 3488
        },
        "outputId": "98af048e-e244-4a95-ea8d-988d9c3606c0"
      },
      "source": [
        "from tqdm import tqdm\n",
        "\n",
        "for epoch in range(n_epochs):\n",
        "    \n",
        "    train_loss=0\n",
        "    network.train(True)\n",
        "    for _ in tqdm(range(n_batches_per_epoch)):\n",
        "        \n",
        "        loss_t = compute_loss(network, *generate_batch(train_img_codes, train_captions, batch_size))\n",
        "        \n",
        "        \n",
        "        # clear old gradients; do a backward pass to get new gradients; then train with opt\n",
        "        optimizer.zero_grad()\n",
        "        loss_t.backward()\n",
        "        optimizer.step()\n",
        "        \n",
        "        train_loss += loss_t.item()\n",
        "        \n",
        "    train_loss /= n_batches_per_epoch\n",
        "    \n",
        "    val_loss=0\n",
        "    network.train(False)\n",
        "    for _ in range(n_validation_batches):\n",
        "        loss_t = compute_loss(network, *generate_batch(val_img_codes, val_captions, batch_size))\n",
        "        val_loss += loss_t.item()\n",
        "    val_loss /= n_validation_batches\n",
        "    \n",
        "    print('\\nEpoch: {}, train loss: {}, val loss: {}'.format(epoch, train_loss, val_loss))\n",
        "\n",
        "print(\"Finished!\")"
      ],
      "execution_count": 0,
      "outputs": [
        {
          "output_type": "stream",
          "text": [
            "100%|██████████| 50/50 [00:25<00:00,  1.94it/s]\n",
            "  0%|          | 0/50 [00:00<?, ?it/s]"
          ],
          "name": "stderr"
        },
        {
          "output_type": "stream",
          "text": [
            "\n",
            "Epoch: 0, train loss: 929.7100073242187, val loss: 688.7094482421875\n"
          ],
          "name": "stdout"
        },
        {
          "output_type": "stream",
          "text": [
            "100%|██████████| 50/50 [00:27<00:00,  1.91it/s]\n",
            "  0%|          | 0/50 [00:00<?, ?it/s]"
          ],
          "name": "stderr"
        },
        {
          "output_type": "stream",
          "text": [
            "\n",
            "Epoch: 1, train loss: -113.02194858551026, val loss: -254.83851928710936\n"
          ],
          "name": "stdout"
        },
        {
          "output_type": "stream",
          "text": [
            "100%|██████████| 50/50 [00:27<00:00,  1.89it/s]\n",
            "  0%|          | 0/50 [00:00<?, ?it/s]"
          ],
          "name": "stderr"
        },
        {
          "output_type": "stream",
          "text": [
            "\n",
            "Epoch: 2, train loss: -392.6677008056641, val loss: -574.4995483398437\n"
          ],
          "name": "stdout"
        },
        {
          "output_type": "stream",
          "text": [
            "100%|██████████| 50/50 [00:25<00:00,  2.09it/s]\n",
            "  0%|          | 0/50 [00:00<?, ?it/s]"
          ],
          "name": "stderr"
        },
        {
          "output_type": "stream",
          "text": [
            "\n",
            "Epoch: 3, train loss: -725.712841796875, val loss: -831.4624389648437\n"
          ],
          "name": "stdout"
        },
        {
          "output_type": "stream",
          "text": [
            "100%|██████████| 50/50 [00:26<00:00,  1.93it/s]\n",
            "  0%|          | 0/50 [00:00<?, ?it/s]"
          ],
          "name": "stderr"
        },
        {
          "output_type": "stream",
          "text": [
            "\n",
            "Epoch: 4, train loss: -875.4975598144531, val loss: -898.9669555664062\n"
          ],
          "name": "stdout"
        },
        {
          "output_type": "stream",
          "text": [
            "100%|██████████| 50/50 [00:26<00:00,  1.86it/s]\n",
            "  0%|          | 0/50 [00:00<?, ?it/s]"
          ],
          "name": "stderr"
        },
        {
          "output_type": "stream",
          "text": [
            "\n",
            "Epoch: 5, train loss: -913.4844409179688, val loss: -926.4563842773438\n"
          ],
          "name": "stdout"
        },
        {
          "output_type": "stream",
          "text": [
            "100%|██████████| 50/50 [00:27<00:00,  1.61it/s]\n",
            "  0%|          | 0/50 [00:00<?, ?it/s]"
          ],
          "name": "stderr"
        },
        {
          "output_type": "stream",
          "text": [
            "\n",
            "Epoch: 6, train loss: -935.0588232421875, val loss: -946.0024658203125\n"
          ],
          "name": "stdout"
        },
        {
          "output_type": "stream",
          "text": [
            "100%|██████████| 50/50 [00:27<00:00,  1.94it/s]\n",
            "  0%|          | 0/50 [00:00<?, ?it/s]"
          ],
          "name": "stderr"
        },
        {
          "output_type": "stream",
          "text": [
            "\n",
            "Epoch: 7, train loss: -949.6158312988281, val loss: -948.8892700195313\n"
          ],
          "name": "stdout"
        },
        {
          "output_type": "stream",
          "text": [
            "100%|██████████| 50/50 [00:27<00:00,  1.83it/s]\n",
            "  0%|          | 0/50 [00:00<?, ?it/s]"
          ],
          "name": "stderr"
        },
        {
          "output_type": "stream",
          "text": [
            "\n",
            "Epoch: 8, train loss: -958.4365661621093, val loss: -973.030322265625\n"
          ],
          "name": "stdout"
        },
        {
          "output_type": "stream",
          "text": [
            "100%|██████████| 50/50 [00:28<00:00,  1.78it/s]\n",
            "  0%|          | 0/50 [00:00<?, ?it/s]"
          ],
          "name": "stderr"
        },
        {
          "output_type": "stream",
          "text": [
            "\n",
            "Epoch: 9, train loss: -973.3268444824218, val loss: -984.9213012695312\n"
          ],
          "name": "stdout"
        },
        {
          "output_type": "stream",
          "text": [
            "100%|██████████| 50/50 [00:27<00:00,  1.55it/s]\n",
            "  0%|          | 0/50 [00:00<?, ?it/s]"
          ],
          "name": "stderr"
        },
        {
          "output_type": "stream",
          "text": [
            "\n",
            "Epoch: 10, train loss: -992.778046875, val loss: -999.2383056640625\n"
          ],
          "name": "stdout"
        },
        {
          "output_type": "stream",
          "text": [
            "100%|██████████| 50/50 [00:27<00:00,  1.97it/s]\n",
            "  0%|          | 0/50 [00:00<?, ?it/s]"
          ],
          "name": "stderr"
        },
        {
          "output_type": "stream",
          "text": [
            "\n",
            "Epoch: 11, train loss: -998.0283813476562, val loss: -1007.556640625\n"
          ],
          "name": "stdout"
        },
        {
          "output_type": "stream",
          "text": [
            "100%|██████████| 50/50 [00:29<00:00,  1.91it/s]\n",
            "  0%|          | 0/50 [00:00<?, ?it/s]"
          ],
          "name": "stderr"
        },
        {
          "output_type": "stream",
          "text": [
            "\n",
            "Epoch: 12, train loss: -1008.1730590820313, val loss: -1018.5599365234375\n"
          ],
          "name": "stdout"
        },
        {
          "output_type": "stream",
          "text": [
            "100%|██████████| 50/50 [00:28<00:00,  1.62it/s]\n",
            "  0%|          | 0/50 [00:00<?, ?it/s]"
          ],
          "name": "stderr"
        },
        {
          "output_type": "stream",
          "text": [
            "\n",
            "Epoch: 13, train loss: -1018.8545764160157, val loss: -1023.3683959960938\n"
          ],
          "name": "stdout"
        },
        {
          "output_type": "stream",
          "text": [
            "100%|██████████| 50/50 [00:27<00:00,  1.85it/s]\n",
            "  0%|          | 0/50 [00:00<?, ?it/s]"
          ],
          "name": "stderr"
        },
        {
          "output_type": "stream",
          "text": [
            "\n",
            "Epoch: 14, train loss: -1030.94734375, val loss: -1035.6990844726563\n"
          ],
          "name": "stdout"
        },
        {
          "output_type": "stream",
          "text": [
            "100%|██████████| 50/50 [00:28<00:00,  1.66it/s]\n",
            "  0%|          | 0/50 [00:00<?, ?it/s]"
          ],
          "name": "stderr"
        },
        {
          "output_type": "stream",
          "text": [
            "\n",
            "Epoch: 15, train loss: -1039.2628088378906, val loss: -1045.3384033203124\n"
          ],
          "name": "stdout"
        },
        {
          "output_type": "stream",
          "text": [
            "100%|██████████| 50/50 [00:29<00:00,  1.75it/s]\n",
            "  0%|          | 0/50 [00:00<?, ?it/s]"
          ],
          "name": "stderr"
        },
        {
          "output_type": "stream",
          "text": [
            "\n",
            "Epoch: 16, train loss: -1050.091591796875, val loss: -1055.4604125976562\n"
          ],
          "name": "stdout"
        },
        {
          "output_type": "stream",
          "text": [
            "100%|██████████| 50/50 [00:28<00:00,  1.67it/s]\n",
            "  0%|          | 0/50 [00:00<?, ?it/s]"
          ],
          "name": "stderr"
        },
        {
          "output_type": "stream",
          "text": [
            "\n",
            "Epoch: 17, train loss: -1054.6387915039063, val loss: -1071.4000244140625\n"
          ],
          "name": "stdout"
        },
        {
          "output_type": "stream",
          "text": [
            "100%|██████████| 50/50 [00:30<00:00,  1.53it/s]\n",
            "  0%|          | 0/50 [00:00<?, ?it/s]"
          ],
          "name": "stderr"
        },
        {
          "output_type": "stream",
          "text": [
            "\n",
            "Epoch: 18, train loss: -1067.714931640625, val loss: -1073.5588134765626\n"
          ],
          "name": "stdout"
        },
        {
          "output_type": "stream",
          "text": [
            "100%|██████████| 50/50 [00:28<00:00,  1.92it/s]\n",
            "  0%|          | 0/50 [00:00<?, ?it/s]"
          ],
          "name": "stderr"
        },
        {
          "output_type": "stream",
          "text": [
            "\n",
            "Epoch: 19, train loss: -1079.0432739257812, val loss: -1088.3155517578125\n"
          ],
          "name": "stdout"
        },
        {
          "output_type": "stream",
          "text": [
            "100%|██████████| 50/50 [00:28<00:00,  1.82it/s]\n",
            "  0%|          | 0/50 [00:00<?, ?it/s]"
          ],
          "name": "stderr"
        },
        {
          "output_type": "stream",
          "text": [
            "\n",
            "Epoch: 20, train loss: -1089.305498046875, val loss: -1095.091748046875\n"
          ],
          "name": "stdout"
        },
        {
          "output_type": "stream",
          "text": [
            "100%|██████████| 50/50 [00:28<00:00,  1.74it/s]\n",
            "  0%|          | 0/50 [00:00<?, ?it/s]"
          ],
          "name": "stderr"
        },
        {
          "output_type": "stream",
          "text": [
            "\n",
            "Epoch: 21, train loss: -1097.3391796875, val loss: -1113.0165283203125\n"
          ],
          "name": "stdout"
        },
        {
          "output_type": "stream",
          "text": [
            "100%|██████████| 50/50 [00:29<00:00,  1.81it/s]\n",
            "  0%|          | 0/50 [00:00<?, ?it/s]"
          ],
          "name": "stderr"
        },
        {
          "output_type": "stream",
          "text": [
            "\n",
            "Epoch: 22, train loss: -1105.3394384765625, val loss: -1097.003759765625\n"
          ],
          "name": "stdout"
        },
        {
          "output_type": "stream",
          "text": [
            "100%|██████████| 50/50 [00:30<00:00,  1.50it/s]\n",
            "  0%|          | 0/50 [00:00<?, ?it/s]"
          ],
          "name": "stderr"
        },
        {
          "output_type": "stream",
          "text": [
            "\n",
            "Epoch: 23, train loss: -1116.5820068359376, val loss: -1107.0739990234374\n"
          ],
          "name": "stdout"
        },
        {
          "output_type": "stream",
          "text": [
            "100%|██████████| 50/50 [00:29<00:00,  1.73it/s]\n",
            "  0%|          | 0/50 [00:00<?, ?it/s]"
          ],
          "name": "stderr"
        },
        {
          "output_type": "stream",
          "text": [
            "\n",
            "Epoch: 24, train loss: -1127.43896484375, val loss: -1123.2742919921875\n"
          ],
          "name": "stdout"
        },
        {
          "output_type": "stream",
          "text": [
            "100%|██████████| 50/50 [00:30<00:00,  1.65it/s]\n",
            "  0%|          | 0/50 [00:00<?, ?it/s]"
          ],
          "name": "stderr"
        },
        {
          "output_type": "stream",
          "text": [
            "\n",
            "Epoch: 25, train loss: -1132.5166748046875, val loss: -1145.1120361328126\n"
          ],
          "name": "stdout"
        },
        {
          "output_type": "stream",
          "text": [
            "100%|██████████| 50/50 [00:28<00:00,  1.76it/s]\n",
            "  0%|          | 0/50 [00:00<?, ?it/s]"
          ],
          "name": "stderr"
        },
        {
          "output_type": "stream",
          "text": [
            "\n",
            "Epoch: 26, train loss: -1143.6454907226562, val loss: -1157.2878662109374\n"
          ],
          "name": "stdout"
        },
        {
          "output_type": "stream",
          "text": [
            "100%|██████████| 50/50 [00:31<00:00,  1.84it/s]\n",
            "  0%|          | 0/50 [00:00<?, ?it/s]"
          ],
          "name": "stderr"
        },
        {
          "output_type": "stream",
          "text": [
            "\n",
            "Epoch: 27, train loss: -1149.9928369140625, val loss: -1161.8750244140624\n"
          ],
          "name": "stdout"
        },
        {
          "output_type": "stream",
          "text": [
            "100%|██████████| 50/50 [00:29<00:00,  1.72it/s]\n",
            "  0%|          | 0/50 [00:00<?, ?it/s]"
          ],
          "name": "stderr"
        },
        {
          "output_type": "stream",
          "text": [
            "\n",
            "Epoch: 28, train loss: -1162.4552490234375, val loss: -1171.614892578125\n"
          ],
          "name": "stdout"
        },
        {
          "output_type": "stream",
          "text": [
            "100%|██████████| 50/50 [00:29<00:00,  1.62it/s]\n",
            "  0%|          | 0/50 [00:00<?, ?it/s]"
          ],
          "name": "stderr"
        },
        {
          "output_type": "stream",
          "text": [
            "\n",
            "Epoch: 29, train loss: -1171.5895385742188, val loss: -1171.2138671875\n"
          ],
          "name": "stdout"
        },
        {
          "output_type": "stream",
          "text": [
            "100%|██████████| 50/50 [00:31<00:00,  1.43it/s]\n",
            "  0%|          | 0/50 [00:00<?, ?it/s]"
          ],
          "name": "stderr"
        },
        {
          "output_type": "stream",
          "text": [
            "\n",
            "Epoch: 30, train loss: -1181.8169140625, val loss: -1192.07509765625\n"
          ],
          "name": "stdout"
        },
        {
          "output_type": "stream",
          "text": [
            "100%|██████████| 50/50 [00:30<00:00,  1.72it/s]\n",
            "  0%|          | 0/50 [00:00<?, ?it/s]"
          ],
          "name": "stderr"
        },
        {
          "output_type": "stream",
          "text": [
            "\n",
            "Epoch: 31, train loss: -1194.0350073242187, val loss: -1196.6455078125\n"
          ],
          "name": "stdout"
        },
        {
          "output_type": "stream",
          "text": [
            "100%|██████████| 50/50 [00:31<00:00,  1.73it/s]\n",
            "  0%|          | 0/50 [00:00<?, ?it/s]"
          ],
          "name": "stderr"
        },
        {
          "output_type": "stream",
          "text": [
            "\n",
            "Epoch: 32, train loss: -1202.38896484375, val loss: -1197.9585693359375\n"
          ],
          "name": "stdout"
        },
        {
          "output_type": "stream",
          "text": [
            "100%|██████████| 50/50 [00:31<00:00,  1.74it/s]\n",
            "  0%|          | 0/50 [00:00<?, ?it/s]"
          ],
          "name": "stderr"
        },
        {
          "output_type": "stream",
          "text": [
            "\n",
            "Epoch: 33, train loss: -1208.8944775390626, val loss: -1207.3892333984375\n"
          ],
          "name": "stdout"
        },
        {
          "output_type": "stream",
          "text": [
            "100%|██████████| 50/50 [00:29<00:00,  1.78it/s]\n",
            "  0%|          | 0/50 [00:00<?, ?it/s]"
          ],
          "name": "stderr"
        },
        {
          "output_type": "stream",
          "text": [
            "\n",
            "Epoch: 34, train loss: -1217.33763671875, val loss: -1219.5966552734376\n"
          ],
          "name": "stdout"
        },
        {
          "output_type": "stream",
          "text": [
            "100%|██████████| 50/50 [00:32<00:00,  1.79it/s]\n",
            "  0%|          | 0/50 [00:00<?, ?it/s]"
          ],
          "name": "stderr"
        },
        {
          "output_type": "stream",
          "text": [
            "\n",
            "Epoch: 35, train loss: -1226.5100073242188, val loss: -1244.2775390625\n"
          ],
          "name": "stdout"
        },
        {
          "output_type": "stream",
          "text": [
            "100%|██████████| 50/50 [00:31<00:00,  1.63it/s]\n",
            "  0%|          | 0/50 [00:00<?, ?it/s]"
          ],
          "name": "stderr"
        },
        {
          "output_type": "stream",
          "text": [
            "\n",
            "Epoch: 36, train loss: -1239.4578833007813, val loss: -1258.069091796875\n"
          ],
          "name": "stdout"
        },
        {
          "output_type": "stream",
          "text": [
            "100%|██████████| 50/50 [00:30<00:00,  1.57it/s]\n",
            "  0%|          | 0/50 [00:00<?, ?it/s]"
          ],
          "name": "stderr"
        },
        {
          "output_type": "stream",
          "text": [
            "\n",
            "Epoch: 37, train loss: -1249.3067260742187, val loss: -1246.200341796875\n"
          ],
          "name": "stdout"
        },
        {
          "output_type": "stream",
          "text": [
            "100%|██████████| 50/50 [00:30<00:00,  1.55it/s]\n",
            "  0%|          | 0/50 [00:00<?, ?it/s]"
          ],
          "name": "stderr"
        },
        {
          "output_type": "stream",
          "text": [
            "\n",
            "Epoch: 38, train loss: -1262.0731616210937, val loss: -1262.603076171875\n"
          ],
          "name": "stdout"
        },
        {
          "output_type": "stream",
          "text": [
            "100%|██████████| 50/50 [00:30<00:00,  1.73it/s]\n",
            "  0%|          | 0/50 [00:00<?, ?it/s]"
          ],
          "name": "stderr"
        },
        {
          "output_type": "stream",
          "text": [
            "\n",
            "Epoch: 39, train loss: -1266.8961596679687, val loss: -1264.2662841796875\n"
          ],
          "name": "stdout"
        },
        {
          "output_type": "stream",
          "text": [
            "100%|██████████| 50/50 [00:29<00:00,  1.66it/s]\n",
            "  0%|          | 0/50 [00:00<?, ?it/s]"
          ],
          "name": "stderr"
        },
        {
          "output_type": "stream",
          "text": [
            "\n",
            "Epoch: 40, train loss: -1279.4021826171875, val loss: -1285.996923828125\n"
          ],
          "name": "stdout"
        },
        {
          "output_type": "stream",
          "text": [
            "100%|██████████| 50/50 [00:31<00:00,  1.39it/s]\n",
            "  0%|          | 0/50 [00:00<?, ?it/s]"
          ],
          "name": "stderr"
        },
        {
          "output_type": "stream",
          "text": [
            "\n",
            "Epoch: 41, train loss: -1289.4330444335938, val loss: -1266.062451171875\n"
          ],
          "name": "stdout"
        },
        {
          "output_type": "stream",
          "text": [
            "100%|██████████| 50/50 [00:31<00:00,  1.71it/s]\n",
            "  0%|          | 0/50 [00:00<?, ?it/s]"
          ],
          "name": "stderr"
        },
        {
          "output_type": "stream",
          "text": [
            "\n",
            "Epoch: 42, train loss: -1293.0203173828124, val loss: -1306.8271484375\n"
          ],
          "name": "stdout"
        },
        {
          "output_type": "stream",
          "text": [
            "100%|██████████| 50/50 [00:33<00:00,  1.76it/s]\n",
            "  0%|          | 0/50 [00:00<?, ?it/s]"
          ],
          "name": "stderr"
        },
        {
          "output_type": "stream",
          "text": [
            "\n",
            "Epoch: 43, train loss: -1305.3260571289063, val loss: -1308.665185546875\n"
          ],
          "name": "stdout"
        },
        {
          "output_type": "stream",
          "text": [
            "100%|██████████| 50/50 [00:32<00:00,  1.70it/s]\n",
            "  0%|          | 0/50 [00:00<?, ?it/s]"
          ],
          "name": "stderr"
        },
        {
          "output_type": "stream",
          "text": [
            "\n",
            "Epoch: 44, train loss: -1307.4869360351563, val loss: -1316.8281494140624\n"
          ],
          "name": "stdout"
        },
        {
          "output_type": "stream",
          "text": [
            "100%|██████████| 50/50 [00:32<00:00,  1.46it/s]\n",
            "  0%|          | 0/50 [00:00<?, ?it/s]"
          ],
          "name": "stderr"
        },
        {
          "output_type": "stream",
          "text": [
            "\n",
            "Epoch: 45, train loss: -1327.3660620117187, val loss: -1302.942578125\n"
          ],
          "name": "stdout"
        },
        {
          "output_type": "stream",
          "text": [
            "100%|██████████| 50/50 [00:31<00:00,  1.54it/s]\n",
            "  0%|          | 0/50 [00:00<?, ?it/s]"
          ],
          "name": "stderr"
        },
        {
          "output_type": "stream",
          "text": [
            "\n",
            "Epoch: 46, train loss: -1332.8000390625, val loss: -1344.5301513671875\n"
          ],
          "name": "stdout"
        },
        {
          "output_type": "stream",
          "text": [
            "100%|██████████| 50/50 [00:30<00:00,  1.76it/s]\n",
            "  0%|          | 0/50 [00:00<?, ?it/s]"
          ],
          "name": "stderr"
        },
        {
          "output_type": "stream",
          "text": [
            "\n",
            "Epoch: 47, train loss: -1339.8858325195313, val loss: -1354.1067138671874\n"
          ],
          "name": "stdout"
        },
        {
          "output_type": "stream",
          "text": [
            "100%|██████████| 50/50 [00:30<00:00,  1.55it/s]\n",
            "  0%|          | 0/50 [00:00<?, ?it/s]"
          ],
          "name": "stderr"
        },
        {
          "output_type": "stream",
          "text": [
            "\n",
            "Epoch: 48, train loss: -1350.1492065429688, val loss: -1371.9368896484375\n"
          ],
          "name": "stdout"
        },
        {
          "output_type": "stream",
          "text": [
            "100%|██████████| 50/50 [00:32<00:00,  1.52it/s]\n",
            "  0%|          | 0/50 [00:00<?, ?it/s]"
          ],
          "name": "stderr"
        },
        {
          "output_type": "stream",
          "text": [
            "\n",
            "Epoch: 49, train loss: -1361.9084448242188, val loss: -1360.7402587890624\n"
          ],
          "name": "stdout"
        },
        {
          "output_type": "stream",
          "text": [
            "100%|██████████| 50/50 [00:31<00:00,  1.71it/s]\n",
            "  0%|          | 0/50 [00:00<?, ?it/s]"
          ],
          "name": "stderr"
        },
        {
          "output_type": "stream",
          "text": [
            "\n",
            "Epoch: 50, train loss: -1371.7736206054688, val loss: -1391.1048583984375\n"
          ],
          "name": "stdout"
        },
        {
          "output_type": "stream",
          "text": [
            "100%|██████████| 50/50 [00:30<00:00,  1.63it/s]\n",
            "  0%|          | 0/50 [00:00<?, ?it/s]"
          ],
          "name": "stderr"
        },
        {
          "output_type": "stream",
          "text": [
            "\n",
            "Epoch: 51, train loss: -1374.9430053710937, val loss: -1382.68779296875\n"
          ],
          "name": "stdout"
        },
        {
          "output_type": "stream",
          "text": [
            "100%|██████████| 50/50 [00:32<00:00,  1.66it/s]\n",
            "  0%|          | 0/50 [00:00<?, ?it/s]"
          ],
          "name": "stderr"
        },
        {
          "output_type": "stream",
          "text": [
            "\n",
            "Epoch: 52, train loss: -1389.796708984375, val loss: -1390.7187744140624\n"
          ],
          "name": "stdout"
        },
        {
          "output_type": "stream",
          "text": [
            "100%|██████████| 50/50 [00:30<00:00,  1.59it/s]\n",
            "  0%|          | 0/50 [00:00<?, ?it/s]"
          ],
          "name": "stderr"
        },
        {
          "output_type": "stream",
          "text": [
            "\n",
            "Epoch: 53, train loss: -1395.6706909179688, val loss: -1408.4166259765625\n"
          ],
          "name": "stdout"
        },
        {
          "output_type": "stream",
          "text": [
            "100%|██████████| 50/50 [00:31<00:00,  1.57it/s]\n",
            "  0%|          | 0/50 [00:00<?, ?it/s]"
          ],
          "name": "stderr"
        },
        {
          "output_type": "stream",
          "text": [
            "\n",
            "Epoch: 54, train loss: -1405.4952294921875, val loss: -1409.83349609375\n"
          ],
          "name": "stdout"
        },
        {
          "output_type": "stream",
          "text": [
            "100%|██████████| 50/50 [00:31<00:00,  1.37it/s]\n",
            "  0%|          | 0/50 [00:00<?, ?it/s]"
          ],
          "name": "stderr"
        },
        {
          "output_type": "stream",
          "text": [
            "\n",
            "Epoch: 55, train loss: -1417.5424731445312, val loss: -1418.2689697265625\n"
          ],
          "name": "stdout"
        },
        {
          "output_type": "stream",
          "text": [
            "100%|██████████| 50/50 [00:30<00:00,  1.68it/s]\n",
            "  0%|          | 0/50 [00:00<?, ?it/s]"
          ],
          "name": "stderr"
        },
        {
          "output_type": "stream",
          "text": [
            "\n",
            "Epoch: 56, train loss: -1424.0278662109374, val loss: -1425.0181640625\n"
          ],
          "name": "stdout"
        },
        {
          "output_type": "stream",
          "text": [
            "100%|██████████| 50/50 [00:33<00:00,  1.54it/s]\n",
            "  0%|          | 0/50 [00:00<?, ?it/s]"
          ],
          "name": "stderr"
        },
        {
          "output_type": "stream",
          "text": [
            "\n",
            "Epoch: 57, train loss: -1443.0197192382811, val loss: -1437.7409423828126\n"
          ],
          "name": "stdout"
        },
        {
          "output_type": "stream",
          "text": [
            "100%|██████████| 50/50 [00:31<00:00,  1.50it/s]\n",
            "  0%|          | 0/50 [00:00<?, ?it/s]"
          ],
          "name": "stderr"
        },
        {
          "output_type": "stream",
          "text": [
            "\n",
            "Epoch: 58, train loss: -1447.0768823242188, val loss: -1459.5150390625\n"
          ],
          "name": "stdout"
        },
        {
          "output_type": "stream",
          "text": [
            "100%|██████████| 50/50 [00:31<00:00,  1.73it/s]\n",
            "  0%|          | 0/50 [00:00<?, ?it/s]"
          ],
          "name": "stderr"
        },
        {
          "output_type": "stream",
          "text": [
            "\n",
            "Epoch: 59, train loss: -1458.4380541992186, val loss: -1472.2236083984376\n"
          ],
          "name": "stdout"
        },
        {
          "output_type": "stream",
          "text": [
            "100%|██████████| 50/50 [00:31<00:00,  1.51it/s]\n",
            "  0%|          | 0/50 [00:00<?, ?it/s]"
          ],
          "name": "stderr"
        },
        {
          "output_type": "stream",
          "text": [
            "\n",
            "Epoch: 60, train loss: -1468.1876489257813, val loss: -1466.499951171875\n"
          ],
          "name": "stdout"
        },
        {
          "output_type": "stream",
          "text": [
            " 76%|███████▌  | 38/50 [00:23<00:07,  1.60it/s]"
          ],
          "name": "stderr"
        }
      ]
    },
    {
      "cell_type": "markdown",
      "metadata": {
        "id": "2PmvPaNG2a03",
        "colab_type": "text"
      },
      "source": [
        "### Apply trained model\n",
        "\n",
        "Let's unpack our pre-trained inception network and see what our model is capable of."
      ]
    },
    {
      "cell_type": "code",
      "metadata": {
        "id": "_EZjNztY2a03",
        "colab_type": "code",
        "colab": {}
      },
      "source": [
        "from beheaded_inception3 import beheaded_inception_v3\n",
        "inception = beheaded_inception_v3().train(False)"
      ],
      "execution_count": 0,
      "outputs": []
    },
    {
      "cell_type": "markdown",
      "metadata": {
        "id": "iJ9b1gzU2a08",
        "colab_type": "text"
      },
      "source": [
        "### Generate caption\n",
        "\n",
        "The function below creates captions by sampling from probabilities defined by the net.\n",
        "\n",
        "The implementation used here is simple but inefficient (quadratic in lstm steps). We keep it that way since it isn't a performance bottleneck."
      ]
    },
    {
      "cell_type": "code",
      "metadata": {
        "id": "YP7tSpwo2a09",
        "colab_type": "code",
        "colab": {}
      },
      "source": [
        "def generate_caption(image, caption_prefix=(\"#START#\",), \n",
        "                     t=1, sample=True, max_len=100):\n",
        "    assert isinstance(image, np.ndarray) and np.max(image) <= 1\\\n",
        "           and np.min(image) >=0 and image.shape[-1] == 3\n",
        "    \n",
        "    with torch.no_grad():\n",
        "        image = torch.tensor(image.transpose([2, 0, 1]), dtype=torch.float32)\n",
        "\n",
        "        vectors_8x8, vectors_neck, logits = inception(image[None])\n",
        "        caption_prefix = list(caption_prefix)\n",
        "\n",
        "        for _ in range(max_len):\n",
        "\n",
        "            prefix_ix = as_matrix([caption_prefix])\n",
        "            prefix_ix = torch.tensor(prefix_ix, dtype=torch.int64)\n",
        "            next_word_logits = network.forward(vectors_neck, prefix_ix)[0, -1]\n",
        "            next_word_probs = F.softmax(next_word_logits, dim=-1).data.numpy()\n",
        "\n",
        "            assert len(next_word_probs.shape) ==1, 'probs must be one-dimensional'\n",
        "            next_word_probs = next_word_probs ** t / np.sum(next_word_probs ** t) # apply temperature\n",
        "\n",
        "            if sample:\n",
        "                next_word = np.random.choice(vocab, p=next_word_probs) \n",
        "            else:\n",
        "                next_word = vocab[np.argmax(next_word_probs)]\n",
        "\n",
        "            caption_prefix.append(next_word)\n",
        "\n",
        "            if next_word == \"#END#\":\n",
        "                break\n",
        "            \n",
        "    return caption_prefix"
      ],
      "execution_count": 0,
      "outputs": []
    },
    {
      "cell_type": "code",
      "metadata": {
        "id": "acUX7Li12a1E",
        "colab_type": "code",
        "colab": {}
      },
      "source": [
        "from matplotlib import pyplot as plt\n",
        "from scipy.misc import imresize\n",
        "%matplotlib inline\n",
        "\n",
        "#sample image\n",
        "!wget https://pixel.nymag.com/imgs/daily/selectall/2018/02/12/12-tony-hawk.w710.h473.jpg -O data/img.jpg\n",
        "img = plt.imread('data/img.jpg')\n",
        "img = imresize(img, (299, 299)).astype('float32') / 255."
      ],
      "execution_count": 0,
      "outputs": []
    },
    {
      "cell_type": "code",
      "metadata": {
        "id": "PXVBZQcM2a1N",
        "colab_type": "code",
        "colab": {}
      },
      "source": [
        "plt.imshow(img)"
      ],
      "execution_count": 0,
      "outputs": []
    },
    {
      "cell_type": "code",
      "metadata": {
        "id": "8byLlpIP2a1S",
        "colab_type": "code",
        "colab": {}
      },
      "source": [
        "for i in range(10):\n",
        "    print(' '.join(generate_caption(img, t=5.)[1:-1]))"
      ],
      "execution_count": 0,
      "outputs": []
    },
    {
      "cell_type": "code",
      "metadata": {
        "id": "-fxfLmtv2a1W",
        "colab_type": "code",
        "colab": {
          "base_uri": "https://localhost:8080/",
          "height": 761
        },
        "outputId": "4967e2a9-2cdc-4b4a-b1a8-b4393b7832c4"
      },
      "source": [
        "!wget http://ccanimalclinic.com/wp-content/uploads/2017/07/Cat-and-dog-1.jpg -O data/img.jpg\n",
        "img = plt.imread('data/img.jpg')\n",
        "img = imresize(img, (299, 299)).astype('float32') / 255.\n",
        "\n",
        "plt.imshow(img)\n",
        "plt.show()\n",
        "\n",
        "for i in range(10):\n",
        "    print(' '.join(generate_caption(img, t=5.)[1:-1]))"
      ],
      "execution_count": 29,
      "outputs": [
        {
          "output_type": "stream",
          "text": [
            "--2019-05-17 15:04:05--  http://ccanimalclinic.com/wp-content/uploads/2017/07/Cat-and-dog-1.jpg\n",
            "Resolving ccanimalclinic.com (ccanimalclinic.com)... 23.185.0.2, 2620:12a:8001::2, 2620:12a:8000::2\n",
            "Connecting to ccanimalclinic.com (ccanimalclinic.com)|23.185.0.2|:80... connected.\n",
            "HTTP request sent, awaiting response... 200 OK\n",
            "Length: 106870 (104K) [image/jpeg]\n",
            "Saving to: ‘data/img.jpg’\n",
            "\n",
            "\rdata/img.jpg          0%[                    ]       0  --.-KB/s               \rdata/img.jpg        100%[===================>] 104.37K  --.-KB/s    in 0.02s   \n",
            "\n",
            "2019-05-17 15:04:05 (4.65 MB/s) - ‘data/img.jpg’ saved [106870/106870]\n",
            "\n"
          ],
          "name": "stdout"
        },
        {
          "output_type": "stream",
          "text": [
            "/usr/local/lib/python3.6/dist-packages/ipykernel_launcher.py:3: DeprecationWarning: `imresize` is deprecated!\n",
            "`imresize` is deprecated in SciPy 1.0.0, and will be removed in 1.3.0.\n",
            "Use Pillow instead: ``numpy.array(Image.fromarray(arr).resize())``.\n",
            "  This is separate from the ipykernel package so we can avoid doing imports until\n"
          ],
          "name": "stderr"
        },
        {
          "output_type": "display_data",
          "data": {
            "image/png": "[encoded data removed]",
            "text/plain": [
              "<Figure size 432x288 with 1 Axes>"
            ]
          },
          "metadata": {
            "tags": []
          }
        },
        {
          "output_type": "stream",
          "text": [
            "a a a a a a a a a a a a a a a a a a a a a a a a a a a a a a a a a a a a a a a a a a a a a a a a a a a a a a a a a a a a a a a a a a a a a a a a a a a a a a a a a a a a a a a a a a a a a a a a a a a\n",
            "a a a a a a a a a a a a a a a a a a a a a a a a a a a a a a a a a a a a a a a a a a a a a a a a a a a a a a a a a a a a a a a a a a a a a a a a a a a a a a a a a a a a a a a a a a a a a a a a a a a\n",
            "a a a a a a a a a a a a a a a a a a a a a a a a a a a a a a a a a a a a a a a a a a a a a a a a a a a a a a a a a a a a a a a a a a a a a a a a a a a a a a a a a a a a a a a a a a a a a a a a a a a\n",
            "a a a a a a a a a a a a a a a a a a a a a a a a a a a a a a a a a a a a a a a a a a a a a a a a a a a a a a a a a a a a a a a a a a a a a a a a a a a a a a a a a a a a a a a a a a a a a a a a a a a\n",
            "a a a a a a a a a a a a a a a a a a a a a a a a a a a a a a a a a a a a a a a a a a a a a a a a a a a a a a a a a a a a a a a a a a a a a a a a a a a a a a a a a a a a a a a a a a a a a a a a a a a\n",
            "a a a a a a a a a a a a a a a a a a a a a a a a a a a a a a a a a a a a a a a a a a a a a a a a a a a a a a a a a a a a a a a a a a a a a a a a a a a a a a a a a a a a a a a a a a a a a a a a a a a\n",
            "a a a a a a a a a a a a a a a a a a a a a a a a a a a a a a a a a a a a a a a a a a a a a a a a a a a a a a a a a a a a a a a a a a a a a a a a a a a a a a a a a a a a a a a a a a a a a a a a a a a\n",
            "a a a a a a a a a a a a a a a a a a a a a a a a a a a a a a a a a a a a a a a a a a a a a a a a a a a a a a a a a a a a a a a a a a a a a a a a a a a a a a a a a a a a a a a a a a a a a a a a a a a\n",
            "a a a a a a a a a a a a a a a a a a a a a a a a a a a a a a a a a a a a a a a a a a a a a a a a a a a a a a a a a a a a a a a a a a a a a a a a a a a a a a a a a a a a a a a a a a a a a a a a a a a\n",
            "a a a a a a a a a a a a a a a a a a a a a a a a a a a a a a a a a a a a a a a a a a a a a a a a a a a a a a a a a a a a a a a a a a a a a a a a a a a a a a a a a a a a a a a a a a a a a a a a a a a\n"
          ],
          "name": "stdout"
        }
      ]
    },
    {
      "cell_type": "markdown",
      "metadata": {
        "id": "Bh3hzjR92a1c",
        "colab_type": "text"
      },
      "source": [
        "# Demo\n",
        "### Find at least 10 images to test it on.\n",
        "\n",
        "* Seriously, that's a part of the assignment. Go get at least 10 pictures for captioning\n",
        "* Make sure it works okay on __simple__ images before going to something more complex\n",
        "* Your pictures must feature both successful and failed captioning. Get creative :)\n",
        "* Use photos, not animation/3d/drawings, unless you want to re-train CNN network on anime\n",
        "* Mind the aspect ratio."
      ]
    },
    {
      "cell_type": "code",
      "metadata": {
        "id": "XZMColuw2a1d",
        "colab_type": "code",
        "colab": {}
      },
      "source": [
        "# apply your network on images you've found\n",
        "#\n",
        "#"
      ],
      "execution_count": 0,
      "outputs": []
    },
    {
      "cell_type": "code",
      "metadata": {
        "id": "fFUhN8qA2a1i",
        "colab_type": "code",
        "colab": {}
      },
      "source": [
        ""
      ],
      "execution_count": 0,
      "outputs": []
    },
    {
      "cell_type": "markdown",
      "metadata": {
        "id": "wOuy0Wdo2a1j",
        "colab_type": "text"
      },
      "source": [
        "Good hunting!\n",
        "![img](https://cs7.pikabu.ru/images/big_size_comm_an/2018-09_3/1536865148163644198.gif)"
      ]
    }
  ]
}